{
  "nbformat": 4,
  "nbformat_minor": 0,
  "metadata": {
    "colab": {
      "name": "밑바닥부터 시작하는 딥러닝3 제5고지.ipynb",
      "provenance": [],
      "collapsed_sections": []
    },
    "kernelspec": {
      "name": "python3",
      "display_name": "Python 3"
    },
    "accelerator": "GPU"
  },
  "cells": [
    {
      "cell_type": "code",
      "metadata": {
        "colab": {
          "base_uri": "https://localhost:8080/"
        },
        "id": "Y02P_F2Gdr05",
        "outputId": "3669452c-3eb5-4f2b-b76b-f615ea202b96"
      },
      "source": [
        "# !pip install cupy\r\n",
        "# GPU 설정으로 바꾸면\r\n",
        "# 이미 설치 되어있음"
      ],
      "execution_count": 1,
      "outputs": [
        {
          "output_type": "stream",
          "text": [
            "Collecting cupy\n",
            "\u001b[?25l  Downloading https://files.pythonhosted.org/packages/14/2a/ef289e429be9021fab32f2a480a023efacb3cc9ff5e9496d788e98537c92/cupy-8.5.0.tar.gz (1.3MB)\n",
            "\u001b[K     |████████████████████████████████| 1.3MB 7.7MB/s \n",
            "\u001b[?25hRequirement already satisfied: numpy>=1.15 in /usr/local/lib/python3.7/dist-packages (from cupy) (1.19.5)\n",
            "Requirement already satisfied: fastrlock>=0.3 in /usr/local/lib/python3.7/dist-packages (from cupy) (0.5)\n",
            "Building wheels for collected packages: cupy\n",
            "  Building wheel for cupy (setup.py) ... \u001b[?25l\u001b[?25hcanceled\n",
            "\u001b[31mERROR: Operation cancelled by user\u001b[0m\n"
          ],
          "name": "stdout"
        }
      ]
    },
    {
      "cell_type": "code",
      "metadata": {
        "colab": {
          "base_uri": "https://localhost:8080/"
        },
        "id": "8fYJgeLCLXmj",
        "outputId": "142ad7d8-b653-4e77-eeba-5a488959b69c"
      },
      "source": [
        "import os, sys\r\n",
        "from google.colab import drive\r\n",
        "drive.mount('/content/drive')"
      ],
      "execution_count": 8,
      "outputs": [
        {
          "output_type": "stream",
          "text": [
            "Mounted at /content/drive\n"
          ],
          "name": "stdout"
        }
      ]
    },
    {
      "cell_type": "code",
      "metadata": {
        "id": "d-C0nEgDL83L"
      },
      "source": [
        "my_path = '/content/notebooks'\r\n",
        "# 구글드라이브 deep-learning-from-scratch-3-master 폴더에 있는 패키지를 colab에 심볼링크걸린 notebooks 폴더 생성 \r\n",
        "os.symlink('/content/drive/MyDrive/Colab Notebooks/deep-learning-from-scratch-3-master', my_path)\r\n",
        "# 파이썬 모듈 검색 경로추가\r\n",
        "sys.path.insert(0, my_path)"
      ],
      "execution_count": 9,
      "outputs": []
    },
    {
      "cell_type": "code",
      "metadata": {
        "colab": {
          "base_uri": "https://localhost:8080/"
        },
        "id": "ZqiESs-4d9Wa",
        "outputId": "965bb680-ff89-437e-e80d-52d3b295ecd4"
      },
      "source": [
        "import cupy as cp\r\n",
        "\r\n",
        "x = cp.arange(6).reshape(2,3)\r\n",
        "print(x)\r\n",
        "print('---------')\r\n",
        "y = x.sum(axis=1)\r\n",
        "print(y)"
      ],
      "execution_count": 1,
      "outputs": [
        {
          "output_type": "stream",
          "text": [
            "[[0 1 2]\n",
            " [3 4 5]]\n",
            "---------\n",
            "[ 3 12]\n"
          ],
          "name": "stdout"
        }
      ]
    },
    {
      "cell_type": "code",
      "metadata": {
        "id": "BkAkIlh1ieoU"
      },
      "source": [
        "import numpy as np\r\n",
        "\r\n",
        "# 넘파이 -> 쿠파이\r\n",
        "n = np.array([1, 2, 3])\r\n",
        "c = cp.asarray(n)\r\n",
        "assert type(c) == cp.ndarray\r\n",
        "\r\n",
        "# 쿠파이 -> 넘파이\r\n",
        "c = cp.array([1, 2, 3])\r\n",
        "n = cp.asnumpy(c)\r\n",
        "assert type(n) == np.ndarray"
      ],
      "execution_count": 3,
      "outputs": []
    },
    {
      "cell_type": "code",
      "metadata": {
        "id": "BvQCGOukj1Eb"
      },
      "source": [
        "# x가 넘파이 배열인 경우\r\n",
        "x = np.array([1, 2, 3])\r\n",
        "xp = cp.get_array_module(x)\r\n",
        "assert xp == np\r\n",
        "\r\n",
        "# x가 쿠파이 배열인 경우\r\n",
        "x = cp.array([1, 2, 3])\r\n",
        "xp = cp.get_array_module(x)\r\n",
        "assert xp == cp"
      ],
      "execution_count": 6,
      "outputs": []
    },
    {
      "cell_type": "code",
      "metadata": {
        "id": "P_7WliBc_Q0u"
      },
      "source": [
        "## dezore / cuda.py\r\n",
        "import numpy as np\r\n",
        "gpu_enable = True\r\n",
        "try:\r\n",
        "  import cupy as cp\r\n",
        "  cupy = cp\r\n",
        "except ImportError:\r\n",
        "  gpu_enable = False\r\n",
        "from dezero import Variable"
      ],
      "execution_count": 10,
      "outputs": []
    },
    {
      "cell_type": "code",
      "metadata": {
        "id": "rDX-Gz5rDTyv"
      },
      "source": [
        ""
      ],
      "execution_count": null,
      "outputs": []
    }
  ]
}