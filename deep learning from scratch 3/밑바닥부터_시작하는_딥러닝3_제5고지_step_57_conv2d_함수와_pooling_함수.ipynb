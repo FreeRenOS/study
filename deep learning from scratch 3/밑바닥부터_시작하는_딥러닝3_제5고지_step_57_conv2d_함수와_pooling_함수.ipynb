{
  "nbformat": 4,
  "nbformat_minor": 0,
  "metadata": {
    "colab": {
      "name": "밑바닥부터 시작하는 딥러닝3 제5고지 step 57 conv2d 함수와 pooling 함수.ipynb",
      "provenance": [],
      "collapsed_sections": []
    },
    "kernelspec": {
      "name": "python3",
      "display_name": "Python 3"
    }
  },
  "cells": [
    {
      "cell_type": "markdown",
      "metadata": {
        "id": "hClJixnCxfvv"
      },
      "source": [
        "# step 57 conv2d 함수와 pooling 함수"
      ]
    },
    {
      "cell_type": "code",
      "metadata": {
        "colab": {
          "base_uri": "https://localhost:8080/"
        },
        "id": "8fYJgeLCLXmj",
        "outputId": "0d357546-c114-475d-eb1b-ef075d120e0a"
      },
      "source": [
        "import os, sys\r\n",
        "from google.colab import drive\r\n",
        "drive.mount('/content/drive')"
      ],
      "execution_count": null,
      "outputs": [
        {
          "output_type": "stream",
          "text": [
            "Drive already mounted at /content/drive; to attempt to forcibly remount, call drive.mount(\"/content/drive\", force_remount=True).\n"
          ],
          "name": "stdout"
        }
      ]
    },
    {
      "cell_type": "code",
      "metadata": {
        "id": "d-C0nEgDL83L"
      },
      "source": [
        "my_path = '/content/notebooks'\r\n",
        "# 구글드라이브 deep-learning-from-scratch-3-master 폴더에 있는 패키지를 colab에 심볼링크걸린 notebooks 폴더 생성 \r\n",
        "os.symlink('/content/drive/MyDrive/Colab Notebooks/deep-learning-from-scratch-3-master', my_path)\r\n",
        "# 파이썬 모듈 검색 경로추가\r\n",
        "sys.path.insert(0, my_path)"
      ],
      "execution_count": null,
      "outputs": []
    },
    {
      "cell_type": "markdown",
      "metadata": {
        "id": "qZcwKW9dx1je"
      },
      "source": [
        "## 57.1 im2col에 의한 전개"
      ]
    },
    {
      "cell_type": "markdown",
      "metadata": {
        "id": "UmIRbMlIx1g2"
      },
      "source": [
        "### 477~479 그림"
      ]
    },
    {
      "cell_type": "markdown",
      "metadata": {
        "id": "DSLvBBY2x_0X"
      },
      "source": [
        "## 57.2 conv2d 함수 구현"
      ]
    },
    {
      "cell_type": "markdown",
      "metadata": {
        "id": "13Hs1eMVx_uu"
      },
      "source": [
        "### 479~480 그림"
      ]
    },
    {
      "cell_type": "markdown",
      "metadata": {
        "id": "AgEgzPqk6bx6"
      },
      "source": [
        "- im2col  인터페이스\r\n",
        "\r\n",
        "  + im2col(x, kernel_size, stride=1, pad=0, to_matrix=True)"
      ]
    },
    {
      "cell_type": "code",
      "metadata": {
        "id": "aVPWOHzZx1Nu",
        "colab": {
          "base_uri": "https://localhost:8080/"
        },
        "outputId": "f2b1f5cf-b38b-4244-d3c7-2e5b26f08ce8"
      },
      "source": [
        "# steps/step57.py\r\n",
        "\r\n",
        "import numpy as np\r\n",
        "import dezero.functions as F\r\n",
        "\r\n",
        "x1 = np.random.rand(1, 3, 7, 7) # 배치 크기 = 1\r\n",
        "col1 = F.im2col(x1, kernel_size=5, stride=1, pad=0, to_matrix=True)\r\n",
        "print(col1.shape)\r\n",
        "\r\n",
        "x2 = np.random.rand(10, 3, 7, 7) # 배치 크기 = 10\r\n",
        "kernel_size = (5, 5)\r\n",
        "stride = (1, 1)\r\n",
        "pad = (0, 0)\r\n",
        "col2 = F.im2col(x2, kernel_size, stride, pad, to_matrix=True)\r\n",
        "print(col2.shape)"
      ],
      "execution_count": null,
      "outputs": [
        {
          "output_type": "stream",
          "text": [
            "(9, 75)\n",
            "(90, 75)\n"
          ],
          "name": "stdout"
        }
      ]
    },
    {
      "cell_type": "markdown",
      "metadata": {
        "id": "81nEF5Fofcpd"
      },
      "source": [
        "### 481"
      ]
    },
    {
      "cell_type": "code",
      "metadata": {
        "id": "EaoRpJjPx1J_"
      },
      "source": [
        "# dezero/utils.py\r\n",
        "\r\n",
        "def pair(x):\r\n",
        "  if isinstance(x, int):\r\n",
        "    return (x, x)\r\n",
        "  elif isinstance(x, tuple):\r\n",
        "    assert len(x) == 2\r\n",
        "    return x\r\n",
        "  else:\r\n",
        "    raise ValueError"
      ],
      "execution_count": null,
      "outputs": []
    },
    {
      "cell_type": "code",
      "metadata": {
        "id": "NeXJ6_0qx1GW",
        "colab": {
          "base_uri": "https://localhost:8080/"
        },
        "outputId": "b1c94a50-32b1-4687-f827-b3578bbdc6e5"
      },
      "source": [
        "from dezero.utils import pair\r\n",
        "\r\n",
        "print(pair(1))\r\n",
        "print(pair((1, 2)))"
      ],
      "execution_count": null,
      "outputs": [
        {
          "output_type": "stream",
          "text": [
            "(1, 1)\n",
            "(1, 2)\n"
          ],
          "name": "stdout"
        }
      ]
    },
    {
      "cell_type": "markdown",
      "metadata": {
        "id": "ruHlkHQlgkH-"
      },
      "source": [
        "### 482"
      ]
    },
    {
      "cell_type": "code",
      "metadata": {
        "id": "NcObsgHAx1BW"
      },
      "source": [
        "# dezero/functions_conv.py\r\n",
        "\r\n",
        "from dezero.utils import pair, get_conv_outsize\r\n",
        "\r\n",
        "def conv2d_simple(x, W, b=None, stride=1, pad=0):\r\n",
        "  x, W = as_variable(x), as_variable(W)\r\n",
        "\r\n",
        "  Weight = W  # Widthd의 'W'와 헷갈리지 않기 위해\r\n",
        "  N, C, H, W = x.shape\r\n",
        "  OC, C, KH, KW = Weight.shape\r\n",
        "  SH, SW = pair(stride)\r\n",
        "  PH, PW = pari(pad)\r\n",
        "  OH = get_conv_outsize(H, KH, SH, PH)\r\n",
        "  OW = get_conv_outsize(W, KW, SW, PW)\r\n",
        "\r\n",
        "  col = im2col(x, (KH, KW), stride, pad, to_matrix=True) # 전개 # 추가\r\n",
        "  Weight = Weight.reshape(OC, -1).transpose()  # 재정렬 # 추가\r\n",
        "  t = linear(col, Weight, b)  # 행렬 곱 계산 # 추가\r\n",
        "  y = t.reshape(N, OH, OW, OC).transpose(0, 3, 1, 2)  # 축 순서 바꿈 # 추가\r\n",
        "  return y"
      ],
      "execution_count": null,
      "outputs": []
    },
    {
      "cell_type": "markdown",
      "metadata": {
        "id": "bCGlETg0i0t-"
      },
      "source": [
        "### 483 step/step57.py"
      ]
    },
    {
      "cell_type": "code",
      "metadata": {
        "id": "hC1CHf85x06e",
        "colab": {
          "base_uri": "https://localhost:8080/"
        },
        "outputId": "ad81f295-e34a-4e3d-b5de-4ca101a4c161"
      },
      "source": [
        "# step/step57.py\r\n",
        "\r\n",
        "from dezero import Variable  # 실행하기 위해\r\n",
        "\r\n",
        "N, C, H, W = 1, 5, 15, 15\r\n",
        "OC, (KH, KW) = 8, (3, 3)\r\n",
        "\r\n",
        "x = Variable(np.random.randn(N, C, H, W))\r\n",
        "W = np.random.randn(OC, C, KH, KW)\r\n",
        "y = F.conv2d_simple(x, W, b=None, stride=1, pad=1)\r\n",
        "y.backward()\r\n",
        "\r\n",
        "print(y.shape)\r\n",
        "print(x.grad.shape)"
      ],
      "execution_count": null,
      "outputs": [
        {
          "output_type": "stream",
          "text": [
            "(1, 8, 15, 15)\n",
            "(1, 5, 15, 15)\n"
          ],
          "name": "stdout"
        }
      ]
    },
    {
      "cell_type": "markdown",
      "metadata": {
        "id": "iBlDamZgmBao"
      },
      "source": [
        "## 57.3 Conv2d 계층 구현\r\n"
      ]
    },
    {
      "cell_type": "markdown",
      "metadata": {
        "id": "51aHjBiGmBXP"
      },
      "source": [
        "### 484"
      ]
    },
    {
      "cell_type": "code",
      "metadata": {
        "id": "SeSMUE8hx0vt"
      },
      "source": [
        "# dezero/layers.py\r\n",
        "\r\n",
        "from dezero import Layer  # 실행하기 위해\r\n",
        "\r\n",
        "class Conv2d(Layer):\r\n",
        "  def __init__(self, out_channels, kernel_size, stride=1, pad=0, nobias=False, dtype=np.float32, in_channels=None):\r\n",
        "    super().__init__()\r\n",
        "    self.in_channels = in_channels\r\n",
        "    self.out_channels = out_channels\r\n",
        "    self.kernel_size = kernel_size\r\n",
        "    self.stride = stride\r\n",
        "    self.pad = pad\r\n",
        "    self.dtype = dtype\r\n",
        "\r\n",
        "    self.W = Parameter(None, name='W')\r\n",
        "    if in_channels is not None:\r\n",
        "      self._init_W()\r\n",
        "\r\n",
        "    if nobias:\r\n",
        "      self.b = None\r\n",
        "    else:\r\n",
        "      self.b = Parameter(np.zeros(out_channels, dtype=dtype), name='b')\r\n",
        "\r\n",
        "  def _init_W(self, xp=np):\r\n",
        "    C, OC = self.in_chanels, self.out_channels\r\n",
        "    KH, KW = pair(self.kernel_size)\r\n",
        "    scale = np.sqrt(1 / (C * KH * KW))\r\n",
        "    W_data = xp.random.randn(OC, C, KH, KW).astype(self.dtype) * scale\r\n",
        "    self.W.data = W_data\r\n",
        "\r\n",
        "  def forward(self, x):\r\n",
        "    if self.W.data is None:\r\n",
        "      self.in_channels = x.shape[1]\r\n",
        "      xp = cuda.get_array_module(x)\r\n",
        "      self._init_W(xp)\r\n",
        "\r\n",
        "    y = F.conv2d_simple(x, self.W, self.b, self.stride, self.pad)\r\n",
        "    # 또는 y = F.conv2d(x, self.W, self.b, self.stride, self.pad)\r\n",
        "    return y"
      ],
      "execution_count": null,
      "outputs": []
    },
    {
      "cell_type": "markdown",
      "metadata": {
        "id": "DzbnGKlKppHn"
      },
      "source": [
        "## 57.4 pooling 함수 구현"
      ]
    },
    {
      "cell_type": "markdown",
      "metadata": {
        "id": "hDxpqJtappEZ"
      },
      "source": [
        "### 485~486 그림"
      ]
    },
    {
      "cell_type": "code",
      "metadata": {
        "id": "7oSRT983o9Y5"
      },
      "source": [
        "# dezero/functions_conv.py\r\n",
        "\r\n",
        "def pooling_simple(x, kernel_size, stride=1, pad=0):\r\n",
        "  x = as_variable(x)\r\n",
        "\r\n",
        "  N, C, H, W = x.shape\r\n",
        "  KH, KW = pair(kernel_size)\r\n",
        "  PH, PW = pair(pad)\r\n",
        "  SH, SW = pair(stride)\r\n",
        "  OH = get_conv_outsize(H, KH, SH, PH)\r\n",
        "  OW = get_conv_outsize(W, KW, SW, PW)\r\n",
        "\r\n",
        "  col = im2col(x, kernel_size, stride, pad, to_matrix=True)  # 전개 # 추가\r\n",
        "  col = col.reshape(-1, KH, * KW)  # 추가\r\n",
        "  y = col.max(axis=1)  # 최대값 # 추가\r\n",
        "  y = y.reshape(N, OH, OW, C).transpose(0, 3, 1, 2)  # 형상 변환 # 추가\r\n",
        "  return y"
      ],
      "execution_count": null,
      "outputs": []
    },
    {
      "cell_type": "code",
      "metadata": {
        "id": "oLFTrEjesU7h"
      },
      "source": [
        ""
      ],
      "execution_count": null,
      "outputs": []
    }
  ]
}