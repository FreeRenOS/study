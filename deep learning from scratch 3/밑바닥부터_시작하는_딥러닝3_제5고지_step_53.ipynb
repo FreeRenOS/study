{
  "nbformat": 4,
  "nbformat_minor": 0,
  "metadata": {
    "colab": {
      "name": "밑바닥부터 시작하는 딥러닝3 제5고지 step 53.ipynb",
      "provenance": [],
      "collapsed_sections": []
    },
    "kernelspec": {
      "name": "python3",
      "display_name": "Python 3"
    }
  },
  "cells": [
    {
      "cell_type": "code",
      "metadata": {
        "id": "Y02P_F2Gdr05"
      },
      "source": [
        "# !pip install cupy\r\n",
        "# GPU 설정으로 바꾸면\r\n",
        "# 이미 설치 되어있음"
      ],
      "execution_count": null,
      "outputs": []
    },
    {
      "cell_type": "code",
      "metadata": {
        "colab": {
          "base_uri": "https://localhost:8080/"
        },
        "id": "8fYJgeLCLXmj",
        "outputId": "8d8bd837-8f0d-42e5-bb77-40beeb7136f6"
      },
      "source": [
        "import os, sys\r\n",
        "from google.colab import drive\r\n",
        "drive.mount('/content/drive')"
      ],
      "execution_count": 2,
      "outputs": [
        {
          "output_type": "stream",
          "text": [
            "Mounted at /content/drive\n"
          ],
          "name": "stdout"
        }
      ]
    },
    {
      "cell_type": "code",
      "metadata": {
        "id": "d-C0nEgDL83L"
      },
      "source": [
        "my_path = '/content/notebooks'\r\n",
        "# 구글드라이브 deep-learning-from-scratch-3-master 폴더에 있는 패키지를 colab에 심볼링크걸린 notebooks 폴더 생성 \r\n",
        "os.symlink('/content/drive/MyDrive/Colab Notebooks/deep-learning-from-scratch-3-master', my_path)\r\n",
        "# 파이썬 모듈 검색 경로추가\r\n",
        "sys.path.insert(0, my_path)"
      ],
      "execution_count": 3,
      "outputs": []
    },
    {
      "cell_type": "code",
      "metadata": {
        "id": "iMoODUuWTFwc"
      },
      "source": [
        ""
      ],
      "execution_count": null,
      "outputs": []
    },
    {
      "cell_type": "markdown",
      "metadata": {
        "id": "GrVI4D2vURq1"
      },
      "source": [
        "### 448"
      ]
    },
    {
      "cell_type": "code",
      "metadata": {
        "colab": {
          "base_uri": "https://localhost:8080/"
        },
        "id": "NkycH9u0TFzc",
        "outputId": "a2dedfcd-a153-4a70-d0bb-226158ab004b"
      },
      "source": [
        "import numpy as np\r\n",
        "\r\n",
        "x = np.array([1, 2, 3])\r\n",
        "np.save('test.npy', x)\r\n",
        "\r\n",
        "x = np.load('test.npy')\r\n",
        "print(x)"
      ],
      "execution_count": 4,
      "outputs": [
        {
          "output_type": "stream",
          "text": [
            "[1 2 3]\n"
          ],
          "name": "stdout"
        }
      ]
    },
    {
      "cell_type": "code",
      "metadata": {
        "colab": {
          "base_uri": "https://localhost:8080/"
        },
        "id": "9kaXs4HaTBwl",
        "outputId": "1af79934-e2cb-44f7-c56b-1be1d3c6cb1b"
      },
      "source": [
        "x1 = np.array([1, 2, 3])\r\n",
        "x2 = np.array([4, 5, 6])\r\n",
        "\r\n",
        "np.savez('test.npz', x1=x1, x2=x2)\r\n",
        "\r\n",
        "arrays = np.load('test.npz')\r\n",
        "x1 = arrays['x1']\r\n",
        "x2 = arrays['x2']\r\n",
        "print(x1)\r\n",
        "print(x2)"
      ],
      "execution_count": 5,
      "outputs": [
        {
          "output_type": "stream",
          "text": [
            "[1 2 3]\n",
            "[4 5 6]\n"
          ],
          "name": "stdout"
        }
      ]
    },
    {
      "cell_type": "code",
      "metadata": {
        "id": "cjOPZSKeTB_T"
      },
      "source": [
        ""
      ],
      "execution_count": 1,
      "outputs": []
    },
    {
      "cell_type": "code",
      "metadata": {
        "id": "UYKrXgziTCJD"
      },
      "source": [
        ""
      ],
      "execution_count": 1,
      "outputs": []
    },
    {
      "cell_type": "code",
      "metadata": {
        "id": "f4caCAb6TCMj"
      },
      "source": [
        ""
      ],
      "execution_count": 1,
      "outputs": []
    },
    {
      "cell_type": "code",
      "metadata": {
        "id": "RoYNBQXETCPr"
      },
      "source": [
        ""
      ],
      "execution_count": null,
      "outputs": []
    }
  ]
}