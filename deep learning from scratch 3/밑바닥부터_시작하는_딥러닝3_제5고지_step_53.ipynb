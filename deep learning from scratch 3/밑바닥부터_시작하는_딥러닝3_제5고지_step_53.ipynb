{
  "nbformat": 4,
  "nbformat_minor": 0,
  "metadata": {
    "colab": {
      "name": "밑바닥부터 시작하는 딥러닝3 제5고지 step 53.ipynb",
      "provenance": [],
      "collapsed_sections": []
    },
    "kernelspec": {
      "name": "python3",
      "display_name": "Python 3"
    }
  },
  "cells": [
    {
      "cell_type": "code",
      "metadata": {
        "id": "Y02P_F2Gdr05"
      },
      "source": [
        "# !pip install cupy\r\n",
        "# GPU 설정으로 바꾸면\r\n",
        "# 이미 설치 되어있음"
      ],
      "execution_count": null,
      "outputs": []
    },
    {
      "cell_type": "code",
      "metadata": {
        "colab": {
          "base_uri": "https://localhost:8080/"
        },
        "id": "8fYJgeLCLXmj",
        "outputId": "76cdc4fc-4725-4302-e727-b68cebf9f11f"
      },
      "source": [
        "import os, sys\r\n",
        "from google.colab import drive\r\n",
        "drive.mount('/content/drive')"
      ],
      "execution_count": null,
      "outputs": [
        {
          "output_type": "stream",
          "text": [
            "Mounted at /content/drive\n"
          ],
          "name": "stdout"
        }
      ]
    },
    {
      "cell_type": "code",
      "metadata": {
        "id": "d-C0nEgDL83L"
      },
      "source": [
        "my_path = '/content/notebooks'\r\n",
        "# 구글드라이브 deep-learning-from-scratch-3-master 폴더에 있는 패키지를 colab에 심볼링크걸린 notebooks 폴더 생성 \r\n",
        "os.symlink('/content/drive/MyDrive/Colab Notebooks/deep-learning-from-scratch-3-master', my_path)\r\n",
        "# 파이썬 모듈 검색 경로추가\r\n",
        "sys.path.insert(0, my_path)"
      ],
      "execution_count": null,
      "outputs": []
    },
    {
      "cell_type": "markdown",
      "metadata": {
        "id": "fJusJeBH_TtN"
      },
      "source": [
        "# step 53 모델 저장 및 읽어오기"
      ]
    },
    {
      "cell_type": "markdown",
      "metadata": {
        "id": "tFoVyG54_mjq"
      },
      "source": [
        "## 53.1 넘파이의 save 함수와 load 함수"
      ]
    },
    {
      "cell_type": "markdown",
      "metadata": {
        "id": "GrVI4D2vURq1"
      },
      "source": [
        "### 448"
      ]
    },
    {
      "cell_type": "code",
      "metadata": {
        "colab": {
          "base_uri": "https://localhost:8080/"
        },
        "id": "NkycH9u0TFzc",
        "outputId": "52691279-be06-46f8-84b7-5474d3a6b18d"
      },
      "source": [
        "import numpy as np\r\n",
        "\r\n",
        "x = np.array([1, 2, 3])\r\n",
        "np.save('test.npy', x)\r\n",
        "\r\n",
        "x = np.load('test.npy')\r\n",
        "print(x)"
      ],
      "execution_count": null,
      "outputs": [
        {
          "output_type": "stream",
          "text": [
            "[1 2 3]\n"
          ],
          "name": "stdout"
        }
      ]
    },
    {
      "cell_type": "code",
      "metadata": {
        "colab": {
          "base_uri": "https://localhost:8080/"
        },
        "id": "9kaXs4HaTBwl",
        "outputId": "d8f093d6-4d16-4369-fa14-38b3d253116b"
      },
      "source": [
        "x1 = np.array([1, 2, 3])\r\n",
        "x2 = np.array([4, 5, 6])\r\n",
        "\r\n",
        "np.savez('test.npz', x1=x1, x2=x2)\r\n",
        "\r\n",
        "arrays = np.load('test.npz')\r\n",
        "x1 = arrays['x1']\r\n",
        "x2 = arrays['x2']\r\n",
        "print(x1)\r\n",
        "print(x2)"
      ],
      "execution_count": null,
      "outputs": [
        {
          "output_type": "stream",
          "text": [
            "[1 2 3]\n",
            "[4 5 6]\n"
          ],
          "name": "stdout"
        }
      ]
    },
    {
      "cell_type": "markdown",
      "metadata": {
        "id": "G32fDRLUyWkh"
      },
      "source": [
        "### 449"
      ]
    },
    {
      "cell_type": "code",
      "metadata": {
        "id": "cjOPZSKeTB_T",
        "colab": {
          "base_uri": "https://localhost:8080/"
        },
        "outputId": "d6d25d65-44e1-44c5-fbf0-c6a39c3cb6d2"
      },
      "source": [
        "x1 = np.array([1, 2, 3])\r\n",
        "x2 = np.array([4, 5, 6])\r\n",
        "data = {'x1':x1, 'x2':x2}\r\n",
        "\r\n",
        "np.savez('test.npz', **data)  ## 추가\r\n",
        "\r\n",
        "arrays = np.load('test.npz')\r\n",
        "x1 = arrays['x1']\r\n",
        "x2 = arrays['x2']\r\n",
        "print(x1)\r\n",
        "print(x2)"
      ],
      "execution_count": null,
      "outputs": [
        {
          "output_type": "stream",
          "text": [
            "[1 2 3]\n",
            "[4 5 6]\n"
          ],
          "name": "stdout"
        }
      ]
    },
    {
      "cell_type": "markdown",
      "metadata": {
        "id": "qBr8bHsSCMpT"
      },
      "source": [
        "## 53.2 Layere 클래스의 매개변수를 평평하게"
      ]
    },
    {
      "cell_type": "markdown",
      "metadata": {
        "id": "foz5OlZm1GAe"
      },
      "source": [
        "### 450"
      ]
    },
    {
      "cell_type": "code",
      "metadata": {
        "id": "UYKrXgziTCJD"
      },
      "source": [
        "from dezero import Layer, Parameter  ## 실행용\r\n",
        "\r\n",
        "layer = Layer()\r\n",
        "\r\n",
        "l1 = Layer()\r\n",
        "l1.p1 = Parameter(np.array(1))\r\n",
        "\r\n",
        "layer.l1 = l1\r\n",
        "layer.p2 = Parameter(np.array(2))\r\n",
        "layer.p3 = Parameter(np.array(3))"
      ],
      "execution_count": null,
      "outputs": []
    },
    {
      "cell_type": "code",
      "metadata": {
        "colab": {
          "base_uri": "https://localhost:8080/"
        },
        "id": "Xk1wk0UP1IuA",
        "outputId": "b0c83d66-ef17-4b76-d778-6b081f8f4bc0"
      },
      "source": [
        "params_dict = {}\r\n",
        "layer._flatten_params(params_dict)\r\n",
        "print(params_dict)"
      ],
      "execution_count": null,
      "outputs": [
        {
          "output_type": "stream",
          "text": [
            "{'p2': variable(2), 'p3': variable(3), 'l1/p1': variable(1)}\n"
          ],
          "name": "stdout"
        }
      ]
    },
    {
      "cell_type": "markdown",
      "metadata": {
        "id": "VAHTxLNFCiDq"
      },
      "source": [
        "### 451"
      ]
    },
    {
      "cell_type": "code",
      "metadata": {
        "id": "nuOne3qD1Iw3"
      },
      "source": [
        "# dezero/layers.py\r\n",
        "\r\n",
        "class Layer:\r\n",
        "  ### ...\r\n",
        "\r\n",
        "  def _flatten_params(self, params_dict, parent_key=''):\r\n",
        "    for name in self._params:\r\n",
        "      obj = self.__dict__[name]\r\n",
        "      key = parent_key + '/' + name if parent_key else name\r\n",
        "\r\n",
        "      if isinstance(obj, Layer):\r\n",
        "        obj._flatten_params(params_dict, key)\r\n",
        "      else:\r\n",
        "        params_dict[key] = obj\r\n"
      ],
      "execution_count": null,
      "outputs": []
    },
    {
      "cell_type": "markdown",
      "metadata": {
        "id": "DlmjI3fODjaD"
      },
      "source": [
        "## 53.3 Layer 클래스의 save 함수와 load 함수"
      ]
    },
    {
      "cell_type": "markdown",
      "metadata": {
        "id": "8J-a6vUzD2ri"
      },
      "source": [
        "### 451~452"
      ]
    },
    {
      "cell_type": "code",
      "metadata": {
        "id": "P79Sp9DU1Izv"
      },
      "source": [
        "# dezero/layers.py\r\n",
        "\r\n",
        "import os\r\n",
        "\r\n",
        "class Layer:\r\n",
        "  ### ...\r\n",
        "  def save_weights(self, path):\r\n",
        "    self.to_cpu()\r\n",
        "\r\n",
        "    params_dict = {}\r\n",
        "    self._flatten_params(params_dict)\r\n",
        "    arrays_dict = {key: param.data for key, param in params_dict.items() if param is not None}\r\n",
        "    try:\r\n",
        "      np.savez_compressed(path, **array_dict)\r\n",
        "    except (Exception, KeyboardInterrupt) as e:\r\n",
        "      if os.path.exists(path):\r\n",
        "        os.remove(path)\r\n",
        "      raise\r\n",
        "  \r\n",
        "  def load_weights(self, path):\r\n",
        "    npz = np.load(path)\r\n",
        "    params_dict = {}\r\n",
        "    self._flatten_params(params_dict)\r\n",
        "    for key, param in params_dict.items():\r\n",
        "      param.data = npz[key]\r\n"
      ],
      "execution_count": null,
      "outputs": []
    },
    {
      "cell_type": "markdown",
      "metadata": {
        "id": "Kcoy668SG42C"
      },
      "source": [
        "### 452~453"
      ]
    },
    {
      "cell_type": "code",
      "metadata": {
        "colab": {
          "base_uri": "https://localhost:8080/"
        },
        "id": "_jYXA4111I3P",
        "outputId": "bc277f0e-df56-4b48-dc75-d8f091e1e220"
      },
      "source": [
        "# steps/step53.py\r\n",
        "\r\n",
        "import os\r\n",
        "import dezero\r\n",
        "import dezero.functions as F\r\n",
        "from dezero import optimizers\r\n",
        "from dezero import DataLoader\r\n",
        "from dezero.models import MLP\r\n",
        "\r\n",
        "max_epoch = 3\r\n",
        "batch_size = 100\r\n",
        "\r\n",
        "train_set = dezero.datasets.MNIST(train=True)\r\n",
        "train_loader = DataLoader(train_set, batch_size)\r\n",
        "model = MLP((1000, 10))\r\n",
        "optimizer = optimizers.SGD().setup(model)\r\n",
        "\r\n",
        "# 매개 변수 읽기\r\n",
        "if os.path.exists('my_mlp.npz'):  ## 추가\r\n",
        "  model.load_weights('my_mlp.npz')  ## 추가\r\n",
        "\r\n",
        "for epoch in range(max_epoch):\r\n",
        "  sum_loss = 0\r\n",
        "\r\n",
        "  for x, t in train_loader:\r\n",
        "    y = model(x)\r\n",
        "    loss = F.softmax_cross_entropy(y, t)\r\n",
        "    model.cleargrads()\r\n",
        "    loss.backward()\r\n",
        "    optimizer.update()\r\n",
        "    sum_loss += float(loss.data) * len(t)\r\n",
        "\r\n",
        "  print('epoch: {}, loss: {:.4f}'.format(epoch + 1, sum_loss / len(train_set)))\r\n",
        "\r\n",
        "# 매개변수 저장하기\r\n",
        "model.save_weights('my_mlp.npz') ## 추가\r\n"
      ],
      "execution_count": null,
      "outputs": [
        {
          "output_type": "stream",
          "text": [
            "Downloading: train-images-idx3-ubyte.gz?raw=true\n",
            "[##############################] 100.00% Done\n",
            "Downloading: train-labels-idx1-ubyte.gz?raw=true\n",
            "[##############################] 100.00% Done\n",
            "epoch: 1, loss: 1.9236\n",
            "epoch: 2, loss: 1.2880\n",
            "epoch: 3, loss: 0.9242\n"
          ],
          "name": "stdout"
        }
      ]
    },
    {
      "cell_type": "markdown",
      "metadata": {
        "id": "NNv1czcyNo_3"
      },
      "source": [
        "### save한 피일 load 해서 학습하는지 확인"
      ]
    },
    {
      "cell_type": "code",
      "metadata": {
        "colab": {
          "base_uri": "https://localhost:8080/"
        },
        "id": "9S9WwqM61I6R",
        "outputId": "bb9be599-9d0c-45d7-e082-dc43ad756d6d"
      },
      "source": [
        "# 매개 변수 읽기\r\n",
        "if os.path.exists('my_mlp.npz'):  ## 추가\r\n",
        "  model.load_weights('my_mlp.npz')  ## 추가\r\n",
        "\r\n",
        "for epoch in range(max_epoch):\r\n",
        "  sum_loss = 0\r\n",
        "\r\n",
        "  for x, t in train_loader:\r\n",
        "    y = model(x)\r\n",
        "    loss = F.softmax_cross_entropy(y, t)\r\n",
        "    model.cleargrads()\r\n",
        "    loss.backward()\r\n",
        "    optimizer.update()\r\n",
        "    sum_loss += float(loss.data) * len(t)\r\n",
        "\r\n",
        "  print('epoch: {}, loss: {:.4f}'.format(epoch + 1, sum_loss / len(train_set)))\r\n",
        "\r\n",
        "# 매개변수 저장하기\r\n",
        "model.save_weights('my_mlp.npz') ## 추가"
      ],
      "execution_count": null,
      "outputs": [
        {
          "output_type": "stream",
          "text": [
            "epoch: 1, loss: 0.7385\n",
            "epoch: 2, loss: 0.6340\n",
            "epoch: 3, loss: 0.5677\n"
          ],
          "name": "stdout"
        }
      ]
    },
    {
      "cell_type": "code",
      "metadata": {
        "id": "GizjF000bb_c"
      },
      "source": [
        ""
      ],
      "execution_count": null,
      "outputs": []
    }
  ]
}