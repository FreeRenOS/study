{
 "metadata": {
  "language_info": {
   "codemirror_mode": {
    "name": "ipython",
    "version": 3
   },
   "file_extension": ".py",
   "mimetype": "text/x-python",
   "name": "python",
   "nbconvert_exporter": "python",
   "pygments_lexer": "ipython3",
   "version": "3.8.5-final"
  },
  "orig_nbformat": 2,
  "kernelspec": {
   "name": "python3",
   "display_name": "Python 3",
   "language": "python"
  }
 },
 "nbformat": 4,
 "nbformat_minor": 2,
 "cells": [
  {
   "cell_type": "code",
   "execution_count": 1,
   "metadata": {},
   "outputs": [
    {
     "output_type": "stream",
     "name": "stdout",
     "text": [
      "WARNING:tensorflow:From C:\\Users\\w\\anaconda3\\lib\\site-packages\\tensorflow\\python\\compat\\v2_compat.py:96: disable_resource_variables (from tensorflow.python.ops.variable_scope) is deprecated and will be removed in a future version.\nInstructions for updating:\nnon-resource variables are not supported in the long term\n"
     ]
    }
   ],
   "source": [
    "import tensorflow.compat.v1 as tf\n",
    "import matplotlib.pyplot as plt\n",
    "tf.disable_v2_behavior()"
   ]
  },
  {
   "cell_type": "code",
   "execution_count": 2,
   "metadata": {},
   "outputs": [],
   "source": [
    "W = tf.Variable(tf.random_normal([1]), name= 'weight')\n",
    "b = tf.Variable(tf.random_normal([1]), name= 'bias')\n",
    "X = tf.placeholder(tf.float32, shape= [None])\n",
    "Y = tf.placeholder(tf.float32, shape= [None])"
   ]
  },
  {
   "cell_type": "code",
   "execution_count": 10,
   "metadata": {},
   "outputs": [],
   "source": [
    "Hypothesis = W * X + b"
   ]
  },
  {
   "cell_type": "code",
   "execution_count": 11,
   "metadata": {},
   "outputs": [],
   "source": [
    "cost = tf.reduce_mean(tf.square(Hypothesis - Y))"
   ]
  },
  {
   "cell_type": "code",
   "execution_count": 12,
   "metadata": {},
   "outputs": [],
   "source": [
    "opt = tf.train.GradientDescentOptimizer(learning_rate= 0.01)\n",
    "train = opt.minimize(cost)"
   ]
  },
  {
   "cell_type": "code",
   "execution_count": 13,
   "metadata": {},
   "outputs": [
    {
     "output_type": "stream",
     "name": "stdout",
     "text": [
      "0 80.19706 [-0.01894253] [0.34448564]\n",
      "100 0.013085885 [1.9259834] [0.7672231]\n",
      "200 0.0066472017 [1.9472469] [0.6904549]\n",
      "300 0.0033765691 [1.962402] [0.63574064]\n",
      "400 0.0017151808 [1.9732032] [0.596745]\n",
      "500 0.0008712517 [1.9809014] [0.56895196]\n",
      "600 0.00044257933 [1.9863881] [0.5491433]\n",
      "700 0.00022481247 [1.9902986] [0.5350255]\n",
      "800 0.00011419712 [1.9930856] [0.5249631]\n",
      "900 5.8010308e-05 [1.9950719] [0.51779175]\n",
      "1000 2.9467463e-05 [1.9964877] [0.5126804]\n",
      "1100 1.49690695e-05 [1.9974967] [0.5090378]\n",
      "1200 7.6032366e-06 [1.9982158] [0.5064414]\n",
      "1300 3.8623366e-06 [1.9987283] [0.5045913]\n",
      "1400 1.9626004e-06 [1.9990935] [0.5032724]\n",
      "1500 9.97055e-07 [1.9993539] [0.50233245]\n",
      "1600 5.066449e-07 [1.9995394] [0.5016626]\n",
      "1700 2.575206e-07 [1.9996717] [0.5011853]\n",
      "1800 1.3084741e-07 [1.999766] [0.50084513]\n",
      "1900 6.6580014e-08 [1.9998332] [0.5006026]\n",
      "2000 3.380061e-08 [1.9998809] [0.5004296]\n"
     ]
    }
   ],
   "source": [
    "sess = tf.Session()\n",
    "sess.run(tf.global_variables_initializer())\n",
    "\n",
    "for i in range(2001):\n",
    "    cost_val, weight_val, bias_val, _ = sess.run([cost, W, b, train], feed_dict= {X: [1, 2, 3, 4, 5],\n",
    "                                                        Y: [2.5, 4.5, 6.5, 8.5, 10.5]})\n",
    "\n",
    "    if i % 100 == 0:\n",
    "        print(i, cost_val, weight_val, bias_val)"
   ]
  },
  {
   "cell_type": "code",
   "execution_count": 14,
   "metadata": {},
   "outputs": [
    {
     "output_type": "stream",
     "name": "stdout",
     "text": [
      "[10.499834 12.499715 14.499596]\n"
     ]
    }
   ],
   "source": [
    "print(sess.run(Hypothesis, feed_dict={X: [5, 6, 7]}))"
   ]
  },
  {
   "cell_type": "code",
   "execution_count": null,
   "metadata": {},
   "outputs": [],
   "source": []
  }
 ]
}