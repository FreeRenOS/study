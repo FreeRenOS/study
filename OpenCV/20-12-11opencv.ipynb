{
 "metadata": {
  "language_info": {
   "codemirror_mode": {
    "name": "ipython",
    "version": 3
   },
   "file_extension": ".py",
   "mimetype": "text/x-python",
   "name": "python",
   "nbconvert_exporter": "python",
   "pygments_lexer": "ipython3",
   "version": "3.8.5-final"
  },
  "orig_nbformat": 2,
  "kernelspec": {
   "name": "python3",
   "display_name": "Python 3",
   "language": "python"
  }
 },
 "nbformat": 4,
 "nbformat_minor": 2,
 "cells": [
  {
   "cell_type": "code",
   "execution_count": 1,
   "metadata": {},
   "outputs": [],
   "source": [
    "import cv2\n",
    "\n",
    "image = cv2.imread('PCB2/didvna/didvna1_2.bmp', cv2.IMREAD_COLOR)\n",
    "\n",
    "if image is None:\n",
    "    print(\"이미지를 읽을 수 없습니다.\")\n",
    "    exit(1)\n",
    "\n",
    "image = cv2.pyrDown(image)\n",
    "\n",
    "cv2.namedWindow('image')\n",
    "cv2.imshow(\"image\",image)\n",
    "cv2.waitKey(0)\n",
    "cv2.destroyAllWindows()"
   ]
  },
  {
   "cell_type": "code",
   "execution_count": 2,
   "metadata": {},
   "outputs": [],
   "source": [
    "# 파이썬은 한글 지원하지 않음\n",
    "# numpy 이용해서 읽어 들임\n",
    "import numpy as np\n",
    "\n",
    "def imread(filename, flags=cv2.IMREAD_COLOR, dtype=np.uint8): \n",
    "    try: \n",
    "        n = np.fromfile(filename, dtype) \n",
    "        img = cv2.imdecode(n, flags) \n",
    "        return img \n",
    "    except Exception as e: \n",
    "        print(e) \n",
    "        return None\n",
    "\n",
    "# cv2.imread가 아님/ 위에 정의한 imread()함수\n",
    "image = imread('PCB2/양품/양품1_2.bmp')\n",
    "\n",
    "if image is None:\n",
    "    print(\"이미지를 읽을 수 없습니다.\")\n",
    "    exit(1)\n",
    "\n",
    "image = cv2.pyrDown(image)\n",
    "\n",
    "cv2.namedWindow('image')\n",
    "cv2.imshow(\"image\",image)\n",
    "cv2.waitKey(0)\n",
    "cv2.destoryAllWindows()"
   ]
  },
  {
   "cell_type": "code",
   "execution_count": null,
   "metadata": {},
   "outputs": [],
   "source": []
  }
 ]
}