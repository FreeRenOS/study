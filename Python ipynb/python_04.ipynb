{
 "cells": [
  {
   "cell_type": "markdown",
   "metadata": {},
   "source": [
    "## 클래스"
   ]
  },
  {
   "cell_type": "code",
   "execution_count": 138,
   "metadata": {
    "tags": []
   },
   "outputs": [
    {
     "name": "stdout",
     "output_type": "stream",
     "text": [
      "잔액은 9000원 입니다.\n"
     ]
    }
   ],
   "source": [
    "balance = 8000\n",
    "def deposit(money) :\n",
    "    global balance\n",
    "    balance += money\n",
    "\n",
    "def inquire() :\n",
    "    print(\"잔액은 {}원 입니다.\".format(balance))\n",
    "\n",
    "deposit(1000) # 예금\n",
    "inquire() # 잔액확인"
   ]
  },
  {
   "cell_type": "code",
   "execution_count": 139,
   "metadata": {},
   "outputs": [],
   "source": [
    "class Account :\n",
    "    def __init__(self, balance) :\n",
    "        self.balance = balance\n",
    "    def deposit(self, money) :\n",
    "        self.balance += money\n",
    "    def inquire(self) :\n",
    "        print(\"잔액은 {}원 입니다.\".format(self.balance))"
   ]
  },
  {
   "cell_type": "code",
   "execution_count": 140,
   "metadata": {
    "tags": []
   },
   "outputs": [
    {
     "name": "stdout",
     "output_type": "stream",
     "text": [
      "잔액은 90000원 입니다.\n"
     ]
    }
   ],
   "source": [
    "kb = Account(80000)\n",
    "kb.deposit(10000)\n",
    "kb.inquire()"
   ]
  },
  {
   "cell_type": "code",
   "execution_count": 141,
   "metadata": {
    "tags": []
   },
   "outputs": [
    {
     "name": "stdout",
     "output_type": "stream",
     "text": [
      "잔액은 1200000원 입니다.\n"
     ]
    }
   ],
   "source": [
    "kakao = Account(1000000)\n",
    "kakao.deposit(200000)\n",
    "kakao.inquire()"
   ]
  },
  {
   "cell_type": "code",
   "execution_count": 142,
   "metadata": {},
   "outputs": [],
   "source": [
    "class Human :\n",
    "    def __init__(self, name, age) :\n",
    "        self.age = age\n",
    "        self.name  = name\n",
    "    def intro(self) :\n",
    "        print(str(self.age)+\"살 \"+self.name+\"입니다.\")"
   ]
  },
  {
   "cell_type": "code",
   "execution_count": 143,
   "metadata": {},
   "outputs": [],
   "source": [
    "class Student(Human) : # 부모 클래스 Human을 상속받은 클래스\n",
    "    def __init__(self, name, age, student_id) :\n",
    "        super().__init__(name, age)\n",
    "        self.student_id = student_id\n",
    "    def intro(self) :\n",
    "        super().intro()\n",
    "        print(\"학번 : \"+str(self.student_id))\n",
    "    def study(self) :\n",
    "        print(\"파이썬 공부 : class~\")"
   ]
  },
  {
   "cell_type": "code",
   "execution_count": 144,
   "metadata": {
    "tags": []
   },
   "outputs": [
    {
     "name": "stdout",
     "output_type": "stream",
     "text": [
      "37살 김규태입니다.\n"
     ]
    }
   ],
   "source": [
    "# 객체 생성\n",
    "kim = Human(\"김규태\",37)\n",
    "kim.intro()"
   ]
  },
  {
   "cell_type": "code",
   "execution_count": 145,
   "metadata": {
    "tags": []
   },
   "outputs": [
    {
     "name": "stdout",
     "output_type": "stream",
     "text": [
      "31살 오상수입니다.\n",
      "학번 : 202009\n",
      "파이썬 공부 : class~\n"
     ]
    }
   ],
   "source": [
    "oh = Student(\"오상수\",31,202009)\n",
    "oh.intro()\n",
    "oh.study()"
   ]
  },
  {
   "cell_type": "code",
   "execution_count": 146,
   "metadata": {},
   "outputs": [],
   "source": [
    "oh.age=99"
   ]
  },
  {
   "cell_type": "code",
   "execution_count": 147,
   "metadata": {
    "tags": []
   },
   "outputs": [
    {
     "name": "stdout",
     "output_type": "stream",
     "text": [
      "99살 오상수입니다.\n",
      "학번 : 202009\n"
     ]
    }
   ],
   "source": [
    "oh.intro()"
   ]
  },
  {
   "cell_type": "code",
   "execution_count": 148,
   "metadata": {},
   "outputs": [],
   "source": [
    "class Date :\n",
    "    def __init__(self, month) :\n",
    "        self.month = month\n",
    "    def getmonth(self) :\n",
    "        return self.month\n",
    "    def setmonth(self, month) :\n",
    "        if 1 <= month <= 12 :\n",
    "            self.month = month"
   ]
  },
  {
   "cell_type": "code",
   "execution_count": 149,
   "metadata": {
    "tags": []
   },
   "outputs": [
    {
     "name": "stdout",
     "output_type": "stream",
     "text": [
      "15\n"
     ]
    }
   ],
   "source": [
    "today = Date(9)\n",
    "today.month = 15 \n",
    "print(today.month)"
   ]
  },
  {
   "cell_type": "code",
   "execution_count": 150,
   "metadata": {},
   "outputs": [],
   "source": [
    "class Date :\n",
    "    def __init__(self, month) :\n",
    "        self.inner_month = month\n",
    "    def getmonth(self) :\n",
    "        return self.inner_month\n",
    "    def setmonth(self, month) :\n",
    "        if 1 <= month <= 12 :\n",
    "            self.inner_month = month\n",
    "    month = property(getmonth, setmonth)"
   ]
  },
  {
   "cell_type": "code",
   "execution_count": 151,
   "metadata": {
    "tags": []
   },
   "outputs": [
    {
     "name": "stdout",
     "output_type": "stream",
     "text": [
      "9\n"
     ]
    }
   ],
   "source": [
    "today = Date(9)\n",
    "today.month = 15\n",
    "print(today.month)"
   ]
  },
  {
   "cell_type": "code",
   "execution_count": 152,
   "metadata": {
    "tags": []
   },
   "outputs": [
    {
     "name": "stdout",
     "output_type": "stream",
     "text": [
      "15\n"
     ]
    }
   ],
   "source": [
    "today = Date(9)\n",
    "today.inner_month = 15\n",
    "print(today.month)"
   ]
  },
  {
   "cell_type": "code",
   "execution_count": 153,
   "metadata": {},
   "outputs": [],
   "source": [
    "class Date :\n",
    "    def __init__(self, month) :\n",
    "        self.__month = month\n",
    "    def getmonth(self) :\n",
    "        return self.__month\n",
    "    def setmonth(self, month) :\n",
    "        if 1 <= month <= 12 :\n",
    "            self.__month = month\n",
    "    month = property(getmonth, setmonth)"
   ]
  },
  {
   "cell_type": "code",
   "execution_count": 189,
   "metadata": {
    "tags": []
   },
   "outputs": [
    {
     "name": "stdout",
     "output_type": "stream",
     "text": [
      "9\n"
     ]
    }
   ],
   "source": [
    "today = Date(9)\n",
    "today.month = 15\n",
    "print(today.month)"
   ]
  },
  {
   "cell_type": "code",
   "execution_count": 190,
   "metadata": {
    "tags": []
   },
   "outputs": [
    {
     "name": "stdout",
     "output_type": "stream",
     "text": [
      "9\n"
     ]
    }
   ],
   "source": [
    "today = Date(9)\n",
    "today.__month = 15\n",
    "print(today.month)"
   ]
  },
  {
   "cell_type": "code",
   "execution_count": 155,
   "metadata": {},
   "outputs": [],
   "source": [
    "class Car :\n",
    "    count = 0\n",
    "    def __init__(self, name) :\n",
    "        self.name = name\n",
    "        Car.count += 1\n",
    "    \n",
    "    @classmethod\n",
    "    def outcount(cls) :\n",
    "        print(cls.count)"
   ]
  },
  {
   "cell_type": "code",
   "execution_count": 156,
   "metadata": {
    "tags": []
   },
   "outputs": [
    {
     "name": "stdout",
     "output_type": "stream",
     "text": [
      "2\n"
     ]
    }
   ],
   "source": [
    "k3 = Car(\"K3\")\n",
    "k5 = Car(\"k5\")\n",
    "Car.outcount()"
   ]
  },
  {
   "cell_type": "markdown",
   "metadata": {},
   "source": [
    "## static method"
   ]
  },
  {
   "cell_type": "code",
   "execution_count": 157,
   "metadata": {},
   "outputs": [],
   "source": [
    "# static method\n",
    "class Car :\n",
    "    @staticmethod\n",
    "    def hello() :\n",
    "        print(\"안전운전\")\n",
    "\n",
    "    count = 0\n",
    "\n",
    "    def __init__(self, name) :\n",
    "        self.name = name\n",
    "        Car.count += 1\n",
    "    \n",
    "    @classmethod\n",
    "    def outcount(cls):\n",
    "        print(cls.count)"
   ]
  },
  {
   "cell_type": "code",
   "execution_count": 158,
   "metadata": {
    "tags": []
   },
   "outputs": [
    {
     "name": "stdout",
     "output_type": "stream",
     "text": [
      "안전운전\n"
     ]
    }
   ],
   "source": [
    "Car.hello() # 생성하지 않고 쓸 수 있다"
   ]
  },
  {
   "cell_type": "markdown",
   "metadata": {},
   "source": [
    "## 연산자 메서드"
   ]
  },
  {
   "cell_type": "code",
   "execution_count": 159,
   "metadata": {},
   "outputs": [],
   "source": [
    "# 연산자 메서드\n",
    "class Human:\n",
    "    def __init__(self, name, age) :\n",
    "        self.age = age\n",
    "        self.name = name\n",
    "    def __eq__(self, other) :\n",
    "        return self.age == other.age and self.name == other.name"
   ]
  },
  {
   "cell_type": "code",
   "execution_count": 160,
   "metadata": {
    "tags": []
   },
   "outputs": [
    {
     "name": "stdout",
     "output_type": "stream",
     "text": [
      "True\n",
      "False\n"
     ]
    }
   ],
   "source": [
    "kim = Human(\"김채진\",25)\n",
    "ch = Human(\"김채진\",25)\n",
    "lee = Human(\"이준호\",26)\n",
    "\n",
    "print(kim == ch)\n",
    "print(kim == lee)\n"
   ]
  },
  {
   "cell_type": "code",
   "execution_count": 161,
   "metadata": {},
   "outputs": [],
   "source": [
    "# 특수 연산자 메서드\n",
    "class Human:\n",
    "    def __init__(self, name, age) :\n",
    "        self.age = age\n",
    "        self.name = name\n",
    "    def __str__(self) :\n",
    "        return \"이름 : {}, 나이 : {}\".format(self.name, self.age)\n",
    "    def __len__(self) :\n",
    "        return self.age"
   ]
  },
  {
   "cell_type": "code",
   "execution_count": 162,
   "metadata": {
    "tags": []
   },
   "outputs": [
    {
     "name": "stdout",
     "output_type": "stream",
     "text": [
      "이름 : 김채진, 나이 : 25\n",
      "25\n"
     ]
    }
   ],
   "source": [
    "kim = Human(\"김채진\",25)\n",
    "print(kim)\n",
    "print(len(kim))"
   ]
  },
  {
   "cell_type": "code",
   "execution_count": 163,
   "metadata": {
    "tags": []
   },
   "outputs": [
    {
     "name": "stdout",
     "output_type": "stream",
     "text": [
      "9.99999999999998\n"
     ]
    }
   ],
   "source": [
    "f = 0.1\n",
    "sum = 0\n",
    "for i in range(100) :\n",
    "    sum += f\n",
    "\n",
    "print(sum)"
   ]
  },
  {
   "cell_type": "code",
   "execution_count": 164,
   "metadata": {},
   "outputs": [
    {
     "data": {
      "text/plain": [
       "Decimal('3.14')"
      ]
     },
     "execution_count": 164,
     "metadata": {},
     "output_type": "execute_result"
    }
   ],
   "source": [
    "# 오차없이 10진수형태의 실수를 표현하는 클래스 : Decimal\n",
    "from decimal import Decimal\n",
    "\n",
    "Decimal(123)                # 정수형\n",
    "Decimal('3.14')             # 실수 문자열\n",
    "Decimal(('3.14e3'))         # 부동소수점 형태\n",
    "Decimal((0,(3,1,4),-2))     #듀플형태 3.14"
   ]
  },
  {
   "cell_type": "code",
   "execution_count": 165,
   "metadata": {
    "tags": []
   },
   "outputs": [
    {
     "name": "stdout",
     "output_type": "stream",
     "text": [
      "10.0\n"
     ]
    }
   ],
   "source": [
    "from decimal import Decimal\n",
    "f = Decimal('0.1')\n",
    "sum = 0\n",
    "for i in range(100) :\n",
    "    sum += f\n",
    "\n",
    "print(sum)"
   ]
  },
  {
   "cell_type": "markdown",
   "metadata": {},
   "source": [
    "## Fraction ([부호],분자, 분모)"
   ]
  },
  {
   "cell_type": "code",
   "execution_count": 166,
   "metadata": {
    "tags": []
   },
   "outputs": [
    {
     "name": "stdout",
     "output_type": "stream",
     "text": [
      "1/3\n",
      "4/7\n"
     ]
    }
   ],
   "source": [
    "from fractions import *\n",
    "a = Fraction(1,3)\n",
    "print(a)\n",
    "b = Fraction(8,14)\n",
    "print(b)"
   ]
  },
  {
   "cell_type": "code",
   "execution_count": 167,
   "metadata": {
    "tags": []
   },
   "outputs": [
    {
     "name": "stdout",
     "output_type": "stream",
     "text": [
      "19/15\n"
     ]
    }
   ],
   "source": [
    "from fractions import *\n",
    "a = Fraction(2,3)\n",
    "b = Fraction(3,5)\n",
    "c = a+b\n",
    "print(c) # Fraction 간 연산은 분수로"
   ]
  },
  {
   "cell_type": "code",
   "execution_count": 168,
   "metadata": {
    "tags": []
   },
   "outputs": [
    {
     "name": "stdout",
     "output_type": "stream",
     "text": [
      "1.3666666666666667\n"
     ]
    }
   ],
   "source": [
    "d = c + 0.1 # Fraction과 실수의 계산은 실수로\n",
    "print(d)"
   ]
  },
  {
   "cell_type": "markdown",
   "metadata": {},
   "source": [
    "## arry (타입코드, [초기값])"
   ]
  },
  {
   "cell_type": "code",
   "execution_count": 169,
   "metadata": {
    "tags": []
   },
   "outputs": [
    {
     "name": "stdout",
     "output_type": "stream",
     "text": [
      "33,44,55,67,89,\n",
      "44,55,67,89,100,\n",
      "ar[1] :  55\n",
      "ar[2:4] array('i', [67, 89])\n"
     ]
    }
   ],
   "source": [
    "import array\n",
    "\n",
    "ar = array.array('i',[33, 44, 55, 67, 89])\n",
    "\n",
    "for a in ar :\n",
    "    print(a, end=\",\")\n",
    "print()\n",
    "\n",
    "ar.append(100)\n",
    "del ar[0]\n",
    "for a in ar :\n",
    "    print(a, end=\",\")\n",
    "print()\n",
    "\n",
    "print(\"ar[1] : \", ar[1])\n",
    "print(\"ar[2:4]\", ar[2:4])\n",
    "\n"
   ]
  },
  {
   "cell_type": "code",
   "execution_count": 7,
   "metadata": {
    "tags": []
   },
   "outputs": [
    {
     "output_type": "stream",
     "name": "stdout",
     "text": "1번 학생의 성적 : 88\n2번 학생의 성적 : 95\n3번 학생의 성적 : 70\n4번 학생의 성적 : 100\n5번 학생의 성적 : 59\n"
    }
   ],
   "source": [
    "score = [88,95,70,100,59]\n",
    "for no, s in enumerate(score,1) :\n",
    "    print(str(no)+\"번 학생의 성적 :\",s)\n"
   ]
  },
  {
   "cell_type": "markdown",
   "metadata": {},
   "source": [
    "## enumerate(score,n)  \n",
    "n부터 시작하는 순서값과 요소값을 튜플로 생성 후 리턴  \n",
    "(1,88),(2,95),(3,70),(4,100),(5,59)"
   ]
  },
  {
   "cell_type": "code",
   "execution_count": 171,
   "metadata": {
    "tags": []
   },
   "outputs": [
    {
     "name": "stdout",
     "output_type": "stream",
     "text": [
      "월요일 메뉴 : 갈비탕\n",
      "화요일 메뉴 : 순대국\n",
      "수요일 메뉴 : 김밥\n",
      "목요일 메뉴 : 삼겹살\n",
      "금요일 메뉴 : 짜장면\n"
     ]
    }
   ],
   "source": [
    "yoil = [\"월\",\"화\",\"수\",\"목\",\"금\",\"토\",\"일\"]\n",
    "food = [\"갈비탕\", \"순대국\", \"김밥\",\"삼겹살\",\"짜장면\"]\n",
    "menu = zip(yoil, food)\n",
    "for y, f in menu :\n",
    "    print(\"{}요일 메뉴 : {}\".format(y,f))"
   ]
  },
  {
   "cell_type": "markdown",
   "metadata": {},
   "source": [
    "## zip(list1, list2, ....))\n",
    ": 여러개의 컬렉션을 합쳐 하나로 만듬  \n",
    ": 두 리스트이 대응되는 요소끼리 짝을 지어 튜플 리스트를 생성  \n",
    ": 두 리스트의 길이가 달라도 짧은쪽의 길이에 맞춤  \n",
    "(\"월\",갈비탕) (\"화\",순대국) (\"수\", 김밥) (\"목\",삼겹살) (\"금\",짜장면)"
   ]
  },
  {
   "cell_type": "code",
   "execution_count": 172,
   "metadata": {},
   "outputs": [
    {
     "data": {
      "text/plain": [
       "{'월': '갈비탕', '화': '순대국', '수': '김밥', '목': '삼겹살', '금': '짜장면'}"
      ]
     },
     "execution_count": 172,
     "metadata": {},
     "output_type": "execute_result"
    }
   ],
   "source": [
    "dict(zip(yoil,food))"
   ]
  },
  {
   "cell_type": "code",
   "execution_count": 173,
   "metadata": {
    "tags": []
   },
   "outputs": [
    {
     "name": "stdout",
     "output_type": "stream",
     "text": [
      "all : True\n",
      "any : True\n",
      "\n",
      "all : False\n",
      "any : True\n"
     ]
    }
   ],
   "source": [
    "# any / all\n",
    "adult = [True, True, True, True]\n",
    "print(\"all :\",all(adult))\n",
    "print(\"any :\",any(adult))\n",
    "\n",
    "print()\n",
    "adult = [False, False, False, True]\n",
    "print(\"all :\",all(adult))\n",
    "print(\"any :\",any(adult))\n"
   ]
  },
  {
   "cell_type": "markdown",
   "metadata": {},
   "source": [
    "## filter [조건지정 함수, 대상리스트]\n",
    "### fliter 함수는 리스트의 요소중 조건에 맞는거만 골라냄"
   ]
  },
  {
   "cell_type": "code",
   "execution_count": 174,
   "metadata": {
    "tags": []
   },
   "outputs": [
    {
     "name": "stdout",
     "output_type": "stream",
     "text": [
      "45\n",
      "53\n"
     ]
    }
   ],
   "source": [
    "# filter\n",
    "def flunk(s):\n",
    "    return s < 60\n",
    "\n",
    "score = [45,89,72,53,94]\n",
    "for s in filter(flunk,score) :\n",
    "    print(s)"
   ]
  },
  {
   "cell_type": "markdown",
   "metadata": {},
   "source": [
    "## map [조건지정 함수, 대상리스트]\n",
    "### map 함수는 모든요소에 대한 변환함수를 호출하여 새 요소값으로 구성된 리스트 생성"
   ]
  },
  {
   "cell_type": "code",
   "execution_count": 175,
   "metadata": {
    "tags": []
   },
   "outputs": [
    {
     "name": "stdout",
     "output_type": "stream",
     "text": [
      "22.5, 44.5, 36.0, 26.5, 47.0,"
     ]
    }
   ],
   "source": [
    "def half(s):\n",
    "    return s / 2\n",
    "\n",
    "score = [45,89,72,53,94]\n",
    "for s in map(half,score) :\n",
    "    print(s, end = ', ')"
   ]
  },
  {
   "cell_type": "code",
   "execution_count": 176,
   "metadata": {
    "tags": []
   },
   "outputs": [
    {
     "name": "stdout",
     "output_type": "stream",
     "text": [
      "22.5, 44.5, 36.0, 26.5, 47.0,"
     ]
    }
   ],
   "source": [
    "new_score= map(half, score)\n",
    "for s in new_score :\n",
    "    print(s, end = ', ')"
   ]
  },
  {
   "cell_type": "code",
   "execution_count": 177,
   "metadata": {
    "tags": []
   },
   "outputs": [
    {
     "name": "stdout",
     "output_type": "stream",
     "text": [
      "47, 92, 79, 53, 99,"
     ]
    }
   ],
   "source": [
    "def total(s,b) :\n",
    "    return s+b\n",
    "score = [45,89,72,53,94]\n",
    "bonus = [2, 3, 7, 0, 5]\n",
    "for s in map(total, score, bonus) :\n",
    "    print(s, end = ', ')"
   ]
  },
  {
   "cell_type": "markdown",
   "metadata": {},
   "source": [
    "## 람다(lambda) 함수  \n",
    "### lambda 인수 : 식"
   ]
  },
  {
   "cell_type": "code",
   "execution_count": 178,
   "metadata": {},
   "outputs": [
    {
     "data": {
      "text/plain": [
       "<function __main__.<lambda>(x)>"
      ]
     },
     "execution_count": 178,
     "metadata": {},
     "output_type": "execute_result"
    }
   ],
   "source": [
    "lambda x:x+1"
   ]
  },
  {
   "cell_type": "code",
   "execution_count": 179,
   "metadata": {},
   "outputs": [],
   "source": [
    "def increase(x):\n",
    "    return x+1"
   ]
  },
  {
   "cell_type": "code",
   "execution_count": 180,
   "metadata": {
    "tags": []
   },
   "outputs": [
    {
     "name": "stdout",
     "output_type": "stream",
     "text": [
      "45\n",
      "53\n"
     ]
    }
   ],
   "source": [
    "score = [45,89,72,53,94]\n",
    "for s in filter(lambda x:x < 60,score) :\n",
    "    print(s)"
   ]
  },
  {
   "cell_type": "code",
   "execution_count": 181,
   "metadata": {
    "tags": []
   },
   "outputs": [
    {
     "name": "stdout",
     "output_type": "stream",
     "text": [
      "22.5, 44.5, 36.0,26.5, 47.0,"
     ]
    }
   ],
   "source": [
    "score = [45,89,72,53,94]\n",
    "for s in map(lambda x: x/2, score) :\n",
    "    print(s, end = ', ')"
   ]
  },
  {
   "cell_type": "markdown",
   "metadata": {},
   "source": [
    "## 깊은복사 / 얕은복사"
   ]
  },
  {
   "cell_type": "code",
   "execution_count": 12,
   "metadata": {
    "tags": []
   },
   "outputs": [
    {
     "output_type": "stream",
     "name": "stdout",
     "text": "a = 3 b = 3\na = 5 b = 3\n"
    }
   ],
   "source": [
    "a = 3\n",
    "b = a\n",
    "print(\"a = {} b = {}\".format(a,b))\n",
    "a = 5\n",
    "print(\"a = {} b = {}\".format(a,b))"
   ]
  },
  {
   "cell_type": "code",
   "execution_count": 183,
   "metadata": {
    "tags": []
   },
   "outputs": [
    {
     "name": "stdout",
     "output_type": "stream",
     "text": [
      "[1, 100, 3]\n",
      "[1, 100, 3]\n"
     ]
    }
   ],
   "source": [
    "list1 = [1,2,3]\n",
    "list2 = list1\n",
    "list2[1] = 100 # 2->100\n",
    "print(list1)\n",
    "print(list2)"
   ]
  },
  {
   "cell_type": "code",
   "execution_count": 184,
   "metadata": {
    "tags": []
   },
   "outputs": [
    {
     "name": "stdout",
     "output_type": "stream",
     "text": [
      "[1, 2, 3]\n",
      "[1, 100, 3]\n"
     ]
    }
   ],
   "source": [
    "list1 = [1,2,3]\n",
    "list2 = list1.copy()\n",
    "list2[1] = 100 # 2->100\n",
    "print(list1)\n",
    "print(list2)"
   ]
  },
  {
   "cell_type": "code",
   "execution_count": 185,
   "metadata": {
    "tags": []
   },
   "outputs": [
    {
     "name": "stdout",
     "output_type": "stream",
     "text": [
      "[['a', 'c'], 1, 2]\n",
      "[['a', 'c'], 1, 2]\n"
     ]
    }
   ],
   "source": [
    "list0 = [\"a\",\"b\"]\n",
    "list1 = [list0, 1, 2]\n",
    "list2 = list1.copy()\n",
    "\n",
    "list2[0][1] = \"c\"\n",
    "print(list1)\n",
    "print(list2)"
   ]
  },
  {
   "cell_type": "code",
   "execution_count": 186,
   "metadata": {
    "tags": []
   },
   "outputs": [
    {
     "name": "stdout",
     "output_type": "stream",
     "text": [
      "[['a', 'b'], 1, 2]\n",
      "[['a', 'c'], 1, 2]\n"
     ]
    }
   ],
   "source": [
    "import copy\n",
    "list0 = [\"a\",\"b\"]\n",
    "list1 = [list0, 1, 2]\n",
    "list2 = copy.deepcopy(list1)\n",
    "\n",
    "list2[0][1] = \"c\"\n",
    "print(list1)\n",
    "print(list2)"
   ]
  },
  {
   "cell_type": "code",
   "execution_count": 187,
   "metadata": {
    "tags": []
   },
   "outputs": [
    {
     "name": "stdout",
     "output_type": "stream",
     "text": [
      "1 == 2 : True\n",
      "1 == 3 : False\n",
      "2 == 3 : False\n"
     ]
    }
   ],
   "source": [
    "list1 = [1,2,3]\n",
    "list2 = list1\n",
    "list3 = list1.copy()\n",
    "\n",
    "print(\"1 == 2 :\",list1 is list2)\n",
    "print(\"1 == 3 :\",list1 is list3)\n",
    "print(\"2 == 3 :\",list2 is list3)"
   ]
  },
  {
   "cell_type": "code",
   "execution_count": 16,
   "metadata": {
    "tags": []
   },
   "outputs": [
    {
     "output_type": "stream",
     "name": "stdout",
     "text": "a = 300 b = 300 : True\na = 300 b = 300 : False\n"
    }
   ],
   "source": [
    "a = 300\n",
    "b = a\n",
    "print(\"a = {} b = {} : {}\".format(a,b, a is b))\n",
    "a = 300\n",
    "print(\"a = {} b = {} : {}\".format(a,b, a is b))"
   ]
  },
  {
   "cell_type": "code",
   "execution_count": null,
   "metadata": {},
   "outputs": [],
   "source": []
  }
 ],
 "metadata": {
  "kernelspec": {
   "display_name": "Python 3",
   "language": "python",
   "name": "python3"
  },
  "language_info": {
   "codemirror_mode": {
    "name": "ipython",
    "version": 3
   },
   "file_extension": ".py",
   "mimetype": "text/x-python",
   "name": "python",
   "nbconvert_exporter": "python",
   "pygments_lexer": "ipython3",
   "version": "3.8.3-final"
  }
 },
 "nbformat": 4,
 "nbformat_minor": 2
}