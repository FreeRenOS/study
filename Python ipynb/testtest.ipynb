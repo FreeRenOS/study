{
 "metadata": {
  "language_info": {
   "codemirror_mode": {
    "name": "ipython",
    "version": 3
   },
   "file_extension": ".py",
   "mimetype": "text/x-python",
   "name": "python",
   "nbconvert_exporter": "python",
   "pygments_lexer": "ipython3",
   "version": "3.8.3-final"
  },
  "orig_nbformat": 2,
  "kernelspec": {
   "name": "python3",
   "display_name": "Python 3"
  }
 },
 "nbformat": 4,
 "nbformat_minor": 2,
 "cells": [
  {
   "cell_type": "code",
   "execution_count": 4,
   "metadata": {
    "tags": []
   },
   "outputs": [
    {
     "output_type": "stream",
     "name": "stdout",
     "text": "; for 16-bit app support\n[386enh]\nwoafont=dosapp.fon\nega80woa.fon=ega80woa.fon\nega40woa.fon=ega40woa.fon\ncga80woa.fon=cga80woa.fon\ncga40woa.fon=cga40woa.fon\n\n[drivers]\nwave=mmdrv.dll\ntimer=timer.drv\n\n[mci]\n\n; for 16-bit app support\n\n[386enh]\n\nwoafon(1)(0)t=dosapp.fon\n\nega80woa.fon(3)(2)=ega80woa.fon\n\nega40woa.fon(5)(4)=ega40woa.fon\n\ncga80woa.fon(7)(6)=cga80woa.fon\n\ncga40woa.fon(9)(8)=cga40woa.fon\n\n\n\n[drivers]\n\nwave=mmdrv.dll\n\ntimer=timer.drv\n\n\n\n[mci]\n\n"
    }
   ],
   "source": [
    "f = open (\"C:\\Windows\\system.ini\", 'r', encoding='utf-8')\n",
    "wf=f.read()\n",
    "f.close()\n",
    "f2 = open(\"test_out.txt\", 'w', encoding='utf-8')\n",
    "wf=wf.lower()\n",
    "f2.write(wf)\n",
    "f2.close()\n",
    "print(wf)\n",
    "\n",
    "f3 = open(\"test_out.txt\", 'r', encoding='utf-8')\n",
    "\n",
    "i=0\n",
    "while True :\n",
    "    line=f3.readline()\n",
    "    if not line :\n",
    "        break\n",
    "    if 'fon' in line :\n",
    "        for n in range(line.count(\"fon\")) :\n",
    "            line=line.replace(\"fon\",'fon(%d)'%i, 1)\n",
    "            i+=1\n",
    "    \n",
    "    print(line)\n",
    "    \n",
    "f3.close()"
   ]
  },
  {
   "cell_type": "code",
   "execution_count": null,
   "metadata": {},
   "outputs": [],
   "source": []
  }
 ]
}