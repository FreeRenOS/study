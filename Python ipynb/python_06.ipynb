{
 "cells": [
  {
   "cell_type": "markdown",
   "metadata": {},
   "source": [
    "## 인덱싱"
   ]
  },
  {
   "cell_type": "code",
   "execution_count": 4,
   "metadata": {
    "tags": []
   },
   "outputs": [
    {
     "name": "stdout",
     "output_type": "stream",
     "text": [
      "[ 0  2  4  6  8 10 12 14]\n"
     ]
    }
   ],
   "source": [
    "import numpy as np\n",
    "A = np.arange(0,15,2)\n",
    "print(A)"
   ]
  },
  {
   "cell_type": "code",
   "execution_count": 5,
   "metadata": {
    "tags": []
   },
   "outputs": [
    {
     "name": "stdout",
     "output_type": "stream",
     "text": [
      "(8,)\n",
      "0 2 4 6 8 10 12 14"
     ]
    }
   ],
   "source": [
    "print(A.shape)\n",
    "for i in range(A.size) :\n",
    "    print(A[i], end=\" \")"
   ]
  },
  {
   "cell_type": "code",
   "execution_count": 6,
   "metadata": {
    "tags": []
   },
   "outputs": [
    {
     "name": "stdout",
     "output_type": "stream",
     "text": [
      "(8,)\n",
      "A[0] : 0\n",
      "A[1] : 2\n",
      "A[2] : 4\n",
      "A[3] : 6\n",
      "A[4] : 8\n",
      "A[5] : 10\n",
      "A[6] : 12\n",
      "A[7] : 14\n"
     ]
    }
   ],
   "source": [
    "print(A.shape)\n",
    "for i in range(A.size) :\n",
    "    print(\"A[{}] : {}\".format(i,A[i]))"
   ]
  },
  {
   "cell_type": "code",
   "execution_count": 8,
   "metadata": {
    "tags": []
   },
   "outputs": [
    {
     "name": "stdout",
     "output_type": "stream",
     "text": [
      "A[-1] : 14\n",
      "A[-2] : 12\n",
      "A[-3] : 10\n",
      "A[-4] : 8\n",
      "A[-5] : 6\n",
      "A[-6] : 4\n",
      "A[-7] : 2\n",
      "A[-8] : 0\n"
     ]
    }
   ],
   "source": [
    "for i in range(A.size) :\n",
    "    n = -(i+1) \n",
    "    print(\"A[{}] : {}\".format(n,A[n]))"
   ]
  },
  {
   "cell_type": "code",
   "execution_count": 16,
   "metadata": {
    "tags": []
   },
   "outputs": [
    {
     "name": "stdout",
     "output_type": "stream",
     "text": [
      "[[ 0  1  2  3]\n",
      " [ 4  5  6  7]\n",
      " [ 8  9 10 11]]\n",
      "A.ndim : 2\n",
      "(3, 4) 3 4\n",
      "A[0][0] :  0 A[0][1] :  1 A[0][2] :  2 A[0][3] :  3 \n",
      "A[1][0] :  4 A[1][1] :  5 A[1][2] :  6 A[1][3] :  7 \n",
      "A[2][0] :  8 A[2][1] :  9 A[2][2] : 10 A[2][3] : 11 \n",
      "A[0]:[0 1 2 3]\n",
      "A[1]:[4 5 6 7]\n",
      "A[2]:[ 8  9 10 11]\n"
     ]
    }
   ],
   "source": [
    "import numpy as np\n",
    "A = np.arange(12).reshape(3,4)\n",
    "print(A)\n",
    "print(\"A.ndim :\",A.ndim)\n",
    "print(A.shape,A.shape[0],A.shape[1])\n",
    "for i in range(A.shape[0]) :\n",
    "    for j in range(A.shape[1]) :\n",
    "        print(\"A[{0}][{1}] : {2:2d}\".format(i,j,A[i][j]), end=\" \")\n",
    "    print()\n",
    "\n",
    "for i in range(A.shape[0]) :\n",
    "    print(\"A[{}]:{}\".format(i,A[i]))"
   ]
  },
  {
   "cell_type": "markdown",
   "metadata": {},
   "source": [
    "## T"
   ]
  },
  {
   "cell_type": "code",
   "execution_count": 20,
   "metadata": {
    "tags": []
   },
   "outputs": [
    {
     "name": "stdout",
     "output_type": "stream",
     "text": [
      "[[0 1 2]\n",
      " [3 4 5]\n",
      " [6 7 8]]\n",
      "[0 1 2]\n",
      "[3 4 5]\n",
      "[6 7 8]\n",
      "\n",
      "[[0 3 6]\n",
      " [1 4 7]\n",
      " [2 5 8]]\n",
      "[0 3 6]\n",
      "[1 4 7]\n",
      "[2 5 8]\n"
     ]
    }
   ],
   "source": [
    "import numpy as np\n",
    "\n",
    "A = np.arange(9).reshape(3,3)\n",
    "print(A)\n",
    "\n",
    "for row in A : # A => [[0,1,2],[3,4,5],[6,7,8]]\n",
    "    print(row)\n",
    "\n",
    "print()\n",
    "\n",
    "print(A.T) # 전치행렬 : 행과 열의 값을 바꿈\n",
    "\n",
    "for column in A.T :\n",
    "    print(column)\n"
   ]
  },
  {
   "cell_type": "markdown",
   "metadata": {},
   "source": [
    "## flat"
   ]
  },
  {
   "cell_type": "code",
   "execution_count": 24,
   "metadata": {
    "tags": []
   },
   "outputs": [
    {
     "name": "stdout",
     "output_type": "stream",
     "text": [
      "[[0 1 2]\n",
      " [3 4 5]\n",
      " [6 7 8]]\n",
      "\n",
      "0 1 2 3 4 5 6 7 8"
     ]
    }
   ],
   "source": [
    "import numpy as np\n",
    "A = np.arange(9).reshape(3,3)\n",
    "print(A)\n",
    "print()\n",
    "for a in A.flat :\n",
    "    print(a,end=\" \")"
   ]
  },
  {
   "cell_type": "code",
   "execution_count": 62,
   "metadata": {
    "tags": []
   },
   "outputs": [
    {
     "name": "stdout",
     "output_type": "stream",
     "text": [
      "[ 0  2  4  6  8 10 12 14 16 18]\n"
     ]
    }
   ],
   "source": [
    "import numpy as np\n",
    "A = np.arange(0,20,2) # 1차원 배열 생성\n",
    "print(A)"
   ]
  },
  {
   "cell_type": "code",
   "execution_count": 38,
   "metadata": {
    "tags": []
   },
   "outputs": [
    {
     "name": "stdout",
     "output_type": "stream",
     "text": [
      "[0 2 4]\n"
     ]
    }
   ],
   "source": [
    "print(A[0:3])"
   ]
  },
  {
   "cell_type": "code",
   "execution_count": 39,
   "metadata": {
    "tags": []
   },
   "outputs": [
    {
     "name": "stdout",
     "output_type": "stream",
     "text": [
      "[0 2 4]\n",
      "[0 2 4]\n"
     ]
    }
   ],
   "source": [
    "print(A[0:3])\n",
    "print(A[:3]) # 0에서 시작하면 생략가능"
   ]
  },
  {
   "cell_type": "code",
   "execution_count": 40,
   "metadata": {
    "tags": []
   },
   "outputs": [
    {
     "name": "stdout",
     "output_type": "stream",
     "text": [
      "[14 16 18]\n",
      "[14 16 18]\n"
     ]
    }
   ],
   "source": [
    "print(A[7:10])\n",
    "print(A[7:]) # 끝 인덱스 생략가능"
   ]
  },
  {
   "cell_type": "code",
   "execution_count": 50,
   "metadata": {
    "tags": []
   },
   "outputs": [
    {
     "name": "stdout",
     "output_type": "stream",
     "text": [
      "[ 0  2  4  6  8 10 12 14 16 18]\n",
      "[ 0  4  8 12 16]\n"
     ]
    }
   ],
   "source": [
    "print(A[:]) # 전체원소\n",
    "print(A[::2]) # 첫번째 원소부터 2씩 건너뜀"
   ]
  },
  {
   "cell_type": "code",
   "execution_count": 57,
   "metadata": {
    "tags": []
   },
   "outputs": [
    {
     "name": "stdout",
     "output_type": "stream",
     "text": [
      "[ 0  2  4  6  8 10 12 14]\n",
      "[ 0  2  4  6  8 10 12 14]\n",
      "[ 0  2  4  6  8 10 12 14]\n"
     ]
    }
   ],
   "source": [
    "print(A[-1000:-2]) # 마지막 2개 원소 제외\n",
    "print(A[-10:-2]) # 마지막 2개 원소 제외\n",
    "print(A[:-2]) # 마지막 2개 원소 제외"
   ]
  },
  {
   "cell_type": "code",
   "execution_count": 58,
   "metadata": {
    "tags": []
   },
   "outputs": [
    {
     "name": "stdout",
     "output_type": "stream",
     "text": [
      "[16 18]\n",
      "[16 18]\n"
     ]
    }
   ],
   "source": [
    "print(A[-2:1000]) # 마지막 원소 2개만 취함\n",
    "print(A[-2:]) # 마지막 원소 2개만 취함"
   ]
  },
  {
   "cell_type": "code",
   "execution_count": 59,
   "metadata": {
    "tags": []
   },
   "outputs": [
    {
     "name": "stdout",
     "output_type": "stream",
     "text": [
      "(3,)\n",
      "1\n"
     ]
    }
   ],
   "source": [
    "print(A[0:3].shape)\n",
    "print(A[0:3].ndim)"
   ]
  },
  {
   "cell_type": "code",
   "execution_count": 63,
   "metadata": {
    "tags": []
   },
   "outputs": [
    {
     "name": "stdout",
     "output_type": "stream",
     "text": [
      "[ 0  2  4  6  8 10 12 14 16 18]\n",
      "[100 100 100   6   8  10  12  14  16  18]\n"
     ]
    }
   ],
   "source": [
    "print(A)\n",
    "A[0:3] = 100\n",
    "print(A)"
   ]
  },
  {
   "cell_type": "code",
   "execution_count": 66,
   "metadata": {
    "tags": []
   },
   "outputs": [
    {
     "name": "stdout",
     "output_type": "stream",
     "text": [
      "[[ 1  2  3  4]\n",
      " [ 5  6  7  8]\n",
      " [ 9 10 11 12]]\n"
     ]
    }
   ],
   "source": [
    "import numpy as np\n",
    "A = np.arange(1,13).reshape(3,4)\n",
    "print(A)"
   ]
  },
  {
   "cell_type": "markdown",
   "metadata": {},
   "source": [
    "## 각원소에 접근\n",
    " - A[row][col] or A[row,col]"
   ]
  },
  {
   "cell_type": "code",
   "execution_count": 71,
   "metadata": {
    "tags": []
   },
   "outputs": [
    {
     "name": "stdout",
     "output_type": "stream",
     "text": [
      "A[0][0] :  1 or A[0,0] :  1\n",
      "A[0][1] :  2 or A[0,1] :  2\n",
      "A[0][2] :  3 or A[0,2] :  3\n",
      "A[0][3] :  4 or A[0,3] :  4\n",
      "A[1][0] :  5 or A[1,0] :  5\n",
      "A[1][1] :  6 or A[1,1] :  6\n",
      "A[1][2] :  7 or A[1,2] :  7\n",
      "A[1][3] :  8 or A[1,3] :  8\n",
      "A[2][0] :  9 or A[2,0] :  9\n",
      "A[2][1] : 10 or A[2,1] : 10\n",
      "A[2][2] : 11 or A[2,2] : 11\n",
      "A[2][3] : 12 or A[2,3] : 12\n"
     ]
    }
   ],
   "source": [
    "for i in range(A.shape[0]) :\n",
    "    for j in range(A.shape[1]) :\n",
    "        print(\"A[{}][{}] : {:2d} or A[{},{}] : {:2d}\".format(i,j,A[i][j],i,j,A[i,j]))"
   ]
  },
  {
   "cell_type": "markdown",
   "metadata": {},
   "source": [
    "## 행의 슬라이싱\n",
    "  - A[i] or A[i,:] "
   ]
  },
  {
   "cell_type": "code",
   "execution_count": 75,
   "metadata": {
    "tags": []
   },
   "outputs": [
    {
     "name": "stdout",
     "output_type": "stream",
     "text": [
      "A[0] : [1 2 3 4] or A[0,:] : [1 2 3 4]\n",
      "A[1] : [5 6 7 8] or A[1,:] : [5 6 7 8]\n",
      "A[2] : [ 9 10 11 12] or A[2,:] : [ 9 10 11 12]\n"
     ]
    }
   ],
   "source": [
    "for i in range(A.shape[0]) :\n",
    "    print(\"A[{0}] : {1} or A[{2},:] : {3}\".format(i,A[i],i,A[i,:]))"
   ]
  },
  {
   "cell_type": "code",
   "execution_count": 77,
   "metadata": {
    "tags": []
   },
   "outputs": [
    {
     "name": "stdout",
     "output_type": "stream",
     "text": [
      "[[ 1  2  3  4]\n",
      " [ 5  6  7  8]\n",
      " [ 9 10 11 12]]\n"
     ]
    }
   ],
   "source": [
    "print(A)"
   ]
  },
  {
   "cell_type": "code",
   "execution_count": 79,
   "metadata": {
    "tags": []
   },
   "outputs": [
    {
     "name": "stdout",
     "output_type": "stream",
     "text": [
      "[[1 2]\n",
      " [5 6]]\n"
     ]
    }
   ],
   "source": [
    "print(A[:2,:2])"
   ]
  },
  {
   "cell_type": "code",
   "execution_count": 81,
   "metadata": {
    "tags": []
   },
   "outputs": [
    {
     "name": "stdout",
     "output_type": "stream",
     "text": [
      "[[ 0  0  3  4]\n",
      " [ 0  0  7  8]\n",
      " [ 9 10 11 12]]\n"
     ]
    }
   ],
   "source": [
    "A[:2,:2]=0\n",
    "print(A)"
   ]
  },
  {
   "cell_type": "code",
   "execution_count": 88,
   "metadata": {
    "tags": []
   },
   "outputs": [
    {
     "name": "stdout",
     "output_type": "stream",
     "text": [
      "[[ 1  2  3  4]\n",
      " [ 5  6  7  8]\n",
      " [ 9 10 11 12]]\n"
     ]
    }
   ],
   "source": [
    "import numpy as np\n",
    "A = np.arange(1,13).reshape(3,4)\n",
    "print(A)"
   ]
  },
  {
   "cell_type": "code",
   "execution_count": 89,
   "metadata": {
    "tags": []
   },
   "outputs": [
    {
     "name": "stdout",
     "output_type": "stream",
     "text": [
      "[1 2 3 4]\n",
      "[ 2  6 10]\n",
      "[ 2  6 10]\n"
     ]
    }
   ],
   "source": [
    "print(A[0]) # 행 슬라이싱\n",
    "print(A[:,1]) # 열 슬라이싱\n",
    "print(A[...,1]) # 열 슬라이싱"
   ]
  },
  {
   "cell_type": "code",
   "execution_count": 94,
   "metadata": {
    "tags": []
   },
   "outputs": [
    {
     "name": "stdout",
     "output_type": "stream",
     "text": [
      "[[2 4]\n",
      " [6 8]]\n",
      "[[2 2]\n",
      " [2 2]]\n"
     ]
    }
   ],
   "source": [
    "import numpy as np\n",
    "A = np.array([2,4,6,8]).reshape(2,2)\n",
    "B = np.array([2,2,2,2]).reshape(2,2)\n",
    "print(A)\n",
    "print(B)"
   ]
  },
  {
   "cell_type": "code",
   "execution_count": 95,
   "metadata": {
    "tags": []
   },
   "outputs": [
    {
     "name": "stdout",
     "output_type": "stream",
     "text": [
      "[[ 4  6]\n",
      " [ 8 10]]\n",
      "[[0 2]\n",
      " [4 6]]\n",
      "[[ 4  8]\n",
      " [12 16]]\n",
      "[[1. 2.]\n",
      " [3. 4.]]\n"
     ]
    }
   ],
   "source": [
    "print(A+B)\n",
    "print(A-B)\n",
    "print(A*B)\n",
    "print(A/B)"
   ]
  },
  {
   "cell_type": "code",
   "execution_count": 96,
   "metadata": {
    "tags": []
   },
   "outputs": [
    {
     "name": "stdout",
     "output_type": "stream",
     "text": [
      "[[12 12]\n",
      " [28 28]]\n"
     ]
    }
   ],
   "source": [
    "print(A@B) # 행렬의 곱셈"
   ]
  },
  {
   "cell_type": "code",
   "execution_count": 97,
   "metadata": {
    "tags": []
   },
   "outputs": [
    {
     "name": "stdout",
     "output_type": "stream",
     "text": [
      "[[12 12]\n",
      " [28 28]]\n",
      "[[12 12]\n",
      " [28 28]]\n"
     ]
    }
   ],
   "source": [
    "print(np.dot(A,B)) # 행렬의 곱셈\n",
    "print(A.dot(B)) # 행렬의 곱셈"
   ]
  },
  {
   "cell_type": "markdown",
   "metadata": {},
   "source": [
    "## 다른 크기의 배열간의 산술연산(브로드캐스팅)\n",
    "A.shape = (2,3,4,5)  \n",
    "B.shape = (5,) => B의 차원의 개수가 같아지도록 B shape 왼쪽에 1추가  \n",
    "B.shape = (1,1,1,5)  \n",
    "- 두 배열을 비교\n",
    "- 대응하는 차원이 같거나 한쪽이 1인 경우에만 브로드캐스팅 가능"
   ]
  },
  {
   "cell_type": "markdown",
   "metadata": {},
   "source": [
    "A.shape : (2,1,3,1)  \n",
    "B.shape : (6,1,3)  \n",
    "B의 차원의 개수가 같아지도록 B shape 왼쪽에 1추가  \n",
    "=> B.shape : (1,6,1,3)  \n",
    "=> 브로드캐스팅 가능"
   ]
  },
  {
   "cell_type": "markdown",
   "metadata": {},
   "source": [
    "A.shape : (2,3,4)  \n",
    "B.shape : (3,1)  \n",
    "B의 차원의 개수가 같아지도록 B shape 왼쪽에 1추가  \n",
    "=> B.shape : (1,3,1)  \n",
    "=> 브로드캐스팅 가능  \n"
   ]
  },
  {
   "cell_type": "markdown",
   "metadata": {},
   "source": [
    "A.shape : (3,)  \n",
    "B.shape : (4,)  \n",
    "=> 브로드캐스팅 불가능"
   ]
  },
  {
   "cell_type": "markdown",
   "metadata": {},
   "source": [
    "A.shape : (3,3,5)  \n",
    "B.shape : (3,1,5)  \n",
    "=> 브로드캐스팅 가능"
   ]
  },
  {
   "cell_type": "code",
   "execution_count": 111,
   "metadata": {
    "tags": []
   },
   "outputs": [
    {
     "name": "stdout",
     "output_type": "stream",
     "text": [
      "[[ 10  20  30  40]\n",
      " [ 50  60  70  80]\n",
      " [ 90 100 110 120]]\n",
      "(3, 4)\n",
      "[1 2 3 4]\n",
      "(4,)\n",
      "[ 300  700 1100]\n"
     ]
    }
   ],
   "source": [
    "import numpy as np\n",
    "A=np.arange(10,130,10).reshape(3,4)\n",
    "print(A)\n",
    "print(A.shape)\n",
    "B= np.arange(1,5)\n",
    "print(B)\n",
    "print(B.shape)\n",
    "\n",
    "print(A@B)"
   ]
  },
  {
   "cell_type": "code",
   "execution_count": 102,
   "metadata": {},
   "outputs": [
    {
     "data": {
      "text/plain": [
       "array([[ 11,  22,  33,  44],\n",
       "       [ 51,  62,  73,  84],\n",
       "       [ 91, 102, 113, 124]])"
      ]
     },
     "execution_count": 102,
     "metadata": {},
     "output_type": "execute_result"
    }
   ],
   "source": [
    "A+B"
   ]
  },
  {
   "cell_type": "markdown",
   "metadata": {},
   "source": [
    "A.shape : (3,4)  \n",
    "B.shape : (3,) => (1,3)  \n",
    "=> 브로드캐스팅 불가능"
   ]
  },
  {
   "cell_type": "code",
   "execution_count": 110,
   "metadata": {
    "tags": []
   },
   "outputs": [
    {
     "name": "stdout",
     "output_type": "stream",
     "text": [
      "[[ 10  20  30  40]\n",
      " [ 50  60  70  80]\n",
      " [ 90 100 110 120]]\n",
      "(3, 4)\n",
      "[1 2 3]\n",
      "(3,)\n"
     ]
    },
    {
     "ename": "ValueError",
     "evalue": "operands could not be broadcast together with shapes (3,4) (3,) ",
     "output_type": "error",
     "traceback": [
      "\u001b[1;31m---------------------------------------------------------------------------\u001b[0m",
      "\u001b[1;31mValueError\u001b[0m                                Traceback (most recent call last)",
      "\u001b[1;32m<ipython-input-110-c9d4c9c44d04>\u001b[0m in \u001b[0;36m<module>\u001b[1;34m\u001b[0m\n\u001b[0;32m      6\u001b[0m \u001b[0mprint\u001b[0m\u001b[1;33m(\u001b[0m\u001b[0mB\u001b[0m\u001b[1;33m)\u001b[0m\u001b[1;33m\u001b[0m\u001b[1;33m\u001b[0m\u001b[0m\n\u001b[0;32m      7\u001b[0m \u001b[0mprint\u001b[0m\u001b[1;33m(\u001b[0m\u001b[0mB\u001b[0m\u001b[1;33m.\u001b[0m\u001b[0mshape\u001b[0m\u001b[1;33m)\u001b[0m\u001b[1;33m\u001b[0m\u001b[1;33m\u001b[0m\u001b[0m\n\u001b[1;32m----> 8\u001b[1;33m \u001b[0mA\u001b[0m\u001b[1;33m+\u001b[0m\u001b[0mB\u001b[0m\u001b[1;33m\u001b[0m\u001b[1;33m\u001b[0m\u001b[0m\n\u001b[0m",
      "\u001b[1;31mValueError\u001b[0m: operands could not be broadcast together with shapes (3,4) (3,) "
     ]
    }
   ],
   "source": [
    "import numpy as np\n",
    "A = np.arange(10,130,10).reshape(3,4)\n",
    "print(A)\n",
    "print(A.shape)\n",
    "B = np.arange(1,4)\n",
    "print(B)\n",
    "print(B.shape)\n",
    "A+B"
   ]
  },
  {
   "cell_type": "code",
   "execution_count": 119,
   "metadata": {
    "tags": []
   },
   "outputs": [
    {
     "name": "stdout",
     "output_type": "stream",
     "text": [
      "[[ 10  20  30  40]\n",
      " [ 50  60  70  80]\n",
      " [ 90 100 110 120]]\n",
      "(3, 4)\n",
      "[[ 15  25  35  45]\n",
      " [ 55  65  75  85]\n",
      " [ 95 105 115 125]]\n"
     ]
    }
   ],
   "source": [
    "import numpy as np\n",
    "A = np.arange(10,130,10).reshape(3,4)\n",
    "print(A)\n",
    "print(A.shape)\n",
    "B = 5\n",
    "# print(B.shape)\n",
    "print(A+B)"
   ]
  },
  {
   "cell_type": "markdown",
   "metadata": {},
   "source": [
    "## vectorize"
   ]
  },
  {
   "cell_type": "code",
   "execution_count": 120,
   "metadata": {
    "tags": []
   },
   "outputs": [
    {
     "name": "stdout",
     "output_type": "stream",
     "text": [
      "[[1 2 3]\n",
      " [4 5 6]\n",
      " [7 8 9]]\n"
     ]
    }
   ],
   "source": [
    "import numpy as np\n",
    "matrix = np.arange(1,10).reshape(3,3)\n",
    "print(matrix)"
   ]
  },
  {
   "cell_type": "code",
   "execution_count": 121,
   "metadata": {},
   "outputs": [],
   "source": [
    "add_100 = lambda i : i+100"
   ]
  },
  {
   "cell_type": "code",
   "execution_count": 122,
   "metadata": {},
   "outputs": [
    {
     "data": {
      "text/plain": [
       "array([[101, 102, 103],\n",
       "       [104, 105, 106],\n",
       "       [107, 108, 109]])"
      ]
     },
     "execution_count": 122,
     "metadata": {},
     "output_type": "execute_result"
    }
   ],
   "source": [
    "vectorized_add_100 = np.vectorize(add_100)\n",
    "vectorized_add_100(matrix)"
   ]
  },
  {
   "cell_type": "code",
   "execution_count": 127,
   "metadata": {
    "tags": []
   },
   "outputs": [
    {
     "name": "stdout",
     "output_type": "stream",
     "text": [
      "[[1 0 3]\n",
      " [0 5 0]\n",
      " [7 0 9]]\n",
      "[[0 2 0]\n",
      " [4 0 6]\n",
      " [0 8 0]]\n"
     ]
    }
   ],
   "source": [
    "find_odd = lambda i : i*(i%2)\n",
    "find_enven = lambda i : i if i%2 == 0 else 0\n",
    "vectorized_find_odd = np.vectorize(find_odd)\n",
    "vectorized_find_enven = np.vectorize(find_enven)\n",
    "print(vectorized_find_odd(matrix))\n",
    "print(vectorized_find_enven(matrix))"
   ]
  },
  {
   "cell_type": "code",
   "execution_count": 135,
   "metadata": {
    "tags": []
   },
   "outputs": [
    {
     "name": "stdout",
     "output_type": "stream",
     "text": [
      "[[1 2 3]\n",
      " [4 5 6]\n",
      " [7 8 9]]\n",
      "9\n",
      "1\n",
      "[3 6 9]\n",
      "[1 2 3]\n"
     ]
    }
   ],
   "source": [
    "import numpy as np\n",
    "matrix = np.arange(1,10).reshape(3,3)\n",
    "print(matrix)\n",
    "\n",
    "print(np.max(matrix))\n",
    "print(np.min(matrix))\n",
    "print(np.max(matrix, axis=1)) # 각 행에서 최대값 찾음\n",
    "print(np.min(matrix, axis=0)) # 각 열에서 최소값 찾음"
   ]
  },
  {
   "cell_type": "code",
   "execution_count": 132,
   "metadata": {
    "tags": []
   },
   "outputs": [
    {
     "name": "stdout",
     "output_type": "stream",
     "text": [
      "[[3]\n",
      " [6]\n",
      " [9]]\n",
      "(3, 1)\n"
     ]
    }
   ],
   "source": [
    "vector_column = np.max(matrix, axis=1, keepdims=True)\n",
    "print(vector_column)\n",
    "print(vector_column.shape)"
   ]
  },
  {
   "cell_type": "code",
   "execution_count": 133,
   "metadata": {
    "tags": []
   },
   "outputs": [
    {
     "name": "stdout",
     "output_type": "stream",
     "text": [
      "(3, 3)\n",
      "[[-2 -1  0]\n",
      " [-2 -1  0]\n",
      " [-2 -1  0]]\n"
     ]
    }
   ],
   "source": [
    "print(matrix.shape)\n",
    "print(matrix - vector_column)"
   ]
  },
  {
   "cell_type": "markdown",
   "metadata": {},
   "source": [
    "## 평균 분사 표준편차"
   ]
  },
  {
   "cell_type": "code",
   "execution_count": 141,
   "metadata": {
    "tags": []
   },
   "outputs": [
    {
     "name": "stdout",
     "output_type": "stream",
     "text": [
      "[[1 2 3]\n",
      " [4 5 6]\n",
      " [7 8 9]]\n",
      "평균 : 5.0\n",
      "분산 : 6.666666666666667\n",
      "표준편차 : 2.581988897471611\n"
     ]
    }
   ],
   "source": [
    "import numpy as np\n",
    "matrix = np.arange(1,10).reshape(3,3)\n",
    "print(matrix)\n",
    "\n",
    "print(\"평균 :\",np.mean(matrix))\n",
    "print(\"분산 :\",np.var(matrix))\n",
    "print(\"표준편차 :\",np.std(matrix))\n"
   ]
  },
  {
   "cell_type": "code",
   "execution_count": 139,
   "metadata": {
    "tags": []
   },
   "outputs": [
    {
     "name": "stdout",
     "output_type": "stream",
     "text": [
      "평균 : 5.0\n",
      "평균 : [4. 5. 6.]\n"
     ]
    }
   ],
   "source": [
    "print(\"평균 :\",np.mean(matrix))\n",
    "print(\"평균 :\",np.mean(matrix, axis=0)) # 각열의 평균"
   ]
  },
  {
   "cell_type": "code",
   "execution_count": 142,
   "metadata": {
    "tags": []
   },
   "outputs": [
    {
     "name": "stdout",
     "output_type": "stream",
     "text": [
      "2.581988897471611\n",
      "2.7386127875258306\n"
     ]
    }
   ],
   "source": [
    "print(np.std(matrix))\n",
    "print(np.std(matrix, ddof=1))"
   ]
  },
  {
   "cell_type": "markdown",
   "metadata": {},
   "source": [
    "## 행렬의 전치(전치행렬, Transpose)"
   ]
  },
  {
   "cell_type": "code",
   "execution_count": 146,
   "metadata": {
    "tags": []
   },
   "outputs": [
    {
     "name": "stdout",
     "output_type": "stream",
     "text": [
      "[[1 2 3]\n",
      " [4 5 6]\n",
      " [7 8 9]]\n",
      "\n",
      "[[1 4 7]\n",
      " [2 5 8]\n",
      " [3 6 9]]\n",
      "[[1 4 7]\n",
      " [2 5 8]\n",
      " [3 6 9]]\n"
     ]
    }
   ],
   "source": [
    "import numpy as np\n",
    "matrix = np.arange(1,10).reshape(3,3)\n",
    "print(matrix)\n",
    "print()\n",
    "print(matrix.T)\n",
    "print(matrix.transpose())"
   ]
  },
  {
   "cell_type": "code",
   "execution_count": 145,
   "metadata": {},
   "outputs": [
    {
     "data": {
      "text/plain": [
       "array([[1],\n",
       "       [2],\n",
       "       [3],\n",
       "       [4],\n",
       "       [5],\n",
       "       [6],\n",
       "       [7]])"
      ]
     },
     "execution_count": 145,
     "metadata": {},
     "output_type": "execute_result"
    }
   ],
   "source": [
    "np.array([[1,2,3,4,5,6,7]]).T"
   ]
  },
  {
   "cell_type": "code",
   "execution_count": 148,
   "metadata": {
    "tags": []
   },
   "outputs": [
    {
     "name": "stdout",
     "output_type": "stream",
     "text": [
      "[[ 1  1  1]\n",
      " [ 1  1 10]\n",
      " [ 1  1 15]]\n"
     ]
    },
    {
     "data": {
      "text/plain": [
       "2"
      ]
     },
     "execution_count": 148,
     "metadata": {},
     "output_type": "execute_result"
    }
   ],
   "source": [
    "matrix = np.array([[1,1,1],[1,1,10],[1,1,15]])\n",
    "print(matrix)\n",
    "np.linalg.matrix_rank(matrix)"
   ]
  },
  {
   "cell_type": "markdown",
   "metadata": {},
   "source": [
    "## inverse matrix"
   ]
  },
  {
   "cell_type": "code",
   "execution_count": 150,
   "metadata": {
    "tags": []
   },
   "outputs": [
    {
     "name": "stdout",
     "output_type": "stream",
     "text": [
      "[[1 4]\n",
      " [2 5]]\n"
     ]
    }
   ],
   "source": [
    "matrix = np.array([[1,4],[2,5]])\n",
    "print(matrix)"
   ]
  },
  {
   "cell_type": "code",
   "execution_count": 152,
   "metadata": {
    "tags": []
   },
   "outputs": [
    {
     "name": "stdout",
     "output_type": "stream",
     "text": [
      "[[-1.66666667  1.33333333]\n",
      " [ 0.66666667 -0.33333333]]\n"
     ]
    }
   ],
   "source": [
    "# 역행렬\n",
    "inv_matrix = np.linalg.inv(matrix)\n",
    "print(inv_matrix)"
   ]
  },
  {
   "cell_type": "code",
   "execution_count": 153,
   "metadata": {},
   "outputs": [
    {
     "data": {
      "text/plain": [
       "array([[1., 0.],\n",
       "       [0., 1.]])"
      ]
     },
     "execution_count": 153,
     "metadata": {},
     "output_type": "execute_result"
    }
   ],
   "source": [
    "matrix @ inv_matrix"
   ]
  },
  {
   "cell_type": "code",
   "execution_count": 156,
   "metadata": {
    "tags": []
   },
   "outputs": [
    {
     "name": "stdout",
     "output_type": "stream",
     "text": [
      "[[1 2 3]\n",
      " [4 5 6]]\n"
     ]
    }
   ],
   "source": [
    "matrix = np.arange(1,7).reshape(2,3)\n",
    "print(matrix)"
   ]
  },
  {
   "cell_type": "code",
   "execution_count": 157,
   "metadata": {
    "tags": []
   },
   "outputs": [
    {
     "name": "stdout",
     "output_type": "stream",
     "text": [
      "[[-0.94444444  0.44444444]\n",
      " [-0.11111111  0.11111111]\n",
      " [ 0.72222222 -0.22222222]]\n"
     ]
    }
   ],
   "source": [
    "inv_matrix = np.linalg.pinv(matrix)\n",
    "print(inv_matrix)"
   ]
  },
  {
   "cell_type": "code",
   "execution_count": 160,
   "metadata": {
    "tags": []
   },
   "outputs": [
    {
     "name": "stdout",
     "output_type": "stream",
     "text": [
      "[[1. 0.]\n",
      " [0. 1.]]\n"
     ]
    }
   ],
   "source": [
    "print(np.round(matrix @ inv_matrix,0))"
   ]
  },
  {
   "cell_type": "code",
   "execution_count": 162,
   "metadata": {
    "tags": []
   },
   "outputs": [
    {
     "name": "stdout",
     "output_type": "stream",
     "text": [
      "[0 1 2 3 4]\n",
      "[1 0 3 4 2]\n"
     ]
    }
   ],
   "source": [
    "import random\n",
    "a = np.arange(5)\n",
    "print(a)\n",
    "np.random.shuffle(a)\n",
    "print(a)"
   ]
  },
  {
   "cell_type": "code",
   "execution_count": 163,
   "metadata": {
    "tags": []
   },
   "outputs": [
    {
     "name": "stdout",
     "output_type": "stream",
     "text": [
      "[0 1 2 3 4]\n",
      "[2 1 3 0 4]\n"
     ]
    }
   ],
   "source": [
    "import random\n",
    "a = np.arange(5)\n",
    "print(a)\n",
    "b = np.random.permutation(a)\n",
    "print(b)"
   ]
  },
  {
   "cell_type": "code",
   "execution_count": 164,
   "metadata": {
    "tags": []
   },
   "outputs": [
    {
     "name": "stdout",
     "output_type": "stream",
     "text": [
      "[4 2 0 1 3]\n"
     ]
    }
   ],
   "source": [
    "print(np.random.permutation(5))"
   ]
  }
 ],
 "metadata": {
  "kernelspec": {
   "display_name": "Python 3",
   "language": "python",
   "name": "python3"
  },
  "language_info": {
   "codemirror_mode": {
    "name": "ipython",
    "version": 3
   },
   "file_extension": ".py",
   "mimetype": "text/x-python",
   "name": "python",
   "nbconvert_exporter": "python",
   "pygments_lexer": "ipython3",
   "version": "3.8.3"
  }
 },
 "nbformat": 4,
 "nbformat_minor": 2
}
