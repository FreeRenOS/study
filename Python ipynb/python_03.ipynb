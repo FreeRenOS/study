{
 "cells": [
  {
   "cell_type": "markdown",
   "metadata": {},
   "source": [
    "# 변수명.write(\"저장할 내용\")"
   ]
  },
  {
   "cell_type": "code",
   "execution_count": 5,
   "metadata": {},
   "outputs": [],
   "source": [
    "f= open(\"test.txt\", 'w')\n",
    "f.write(\"파이썬 월드에 오신것을 환영합니다.\")\n",
    "f.close()"
   ]
  },
  {
   "cell_type": "code",
   "execution_count": 7,
   "metadata": {},
   "outputs": [],
   "source": [
    "with open (\"test2.txt\",'w') as f2 :\n",
    "    f2.write(\"파이썬 월드에 오신것을 환영합니다2.\")"
   ]
  },
  {
   "cell_type": "markdown",
   "metadata": {},
   "source": [
    "여러개의 리스트를 한줄에 쓰기(변수명.writelines(\".......\"))  \n",
    "여러줄에 쓸려면 \"\\n\" 넣기"
   ]
  },
  {
   "cell_type": "code",
   "execution_count": 11,
   "metadata": {},
   "outputs": [],
   "source": [
    "with open (\"test2.txt\",'w') as f2 :\n",
    "    f2.writelines([\"파이썬 월드에 오신것을 환영합니다2.\",\n",
    "    \"파이썬 월드에 오신것을 환영합니다2.\",\n",
    "    \"파이썬 월드에 오신것을 환영합니다2.\"])\n"
   ]
  },
  {
   "cell_type": "code",
   "execution_count": 16,
   "metadata": {},
   "outputs": [],
   "source": [
    "data = \"으로 이루어진 세상\\n\"\n",
    "with open (\"test2.txt\",'a') as f :\n",
    "    f.write(data)\n"
   ]
  },
  {
   "cell_type": "code",
   "execution_count": 17,
   "metadata": {},
   "outputs": [],
   "source": [
    "n=0\n",
    "f=open(\"test.txt\",'a') \n",
    "while n < 10 :\n",
    "    data = \"%d 숫자\\n\"%n\n",
    "    f.write(data)\n",
    "    n+=1\n",
    "\n",
    "f.close()"
   ]
  },
  {
   "cell_type": "code",
   "execution_count": 24,
   "metadata": {},
   "outputs": [],
   "source": [
    "with open(\"loop.txt\",'w',encoding = 'utf-8') as f3 : \n",
    "    i=0\n",
    "    while i < 101:\n",
    "        data = \"%d \"%i\n",
    "        f3.write(data)\n",
    "        i+=1\n",
    "    f3.write(\"\\n\")\n"
   ]
  },
  {
   "cell_type": "code",
   "execution_count": 60,
   "metadata": {},
   "outputs": [],
   "source": [
    "f= open(\"test.txt\", 'w',encoding='utf-8')\n",
    "f.write(\" 태풍 '마이삭'이 몰고 온 강한 '마이삭' 때문에 밤새 걱정하신 분들 많으셨을 겁니다.\\n '마이삭'은 우리나라 곳곳을 할퀴고 지나갔습니다.'마이삭'으로 보면 일곱 번째로 강한 '마이삭'이었습니다.\\n 커다란 풍력발전기는 이렇게 두 동강 나버렸습니다. 집채만 한 공룡 조각상의 목도 부러졌습니다.\\n 컨테이너도 종이 상자처럼 나뒹굴었습니다. 그런데 '마이삭'보다 위력이 강한 태풍 '하이선'이 다가오고 있습니다.\\n 단단한 대비가 필요한 상황인데요.\")\n",
    "f.close()"
   ]
  },
  {
   "cell_type": "code",
   "execution_count": 61,
   "metadata": {
    "tags": []
   },
   "outputs": [
    {
     "name": "stdout",
     "output_type": "stream",
     "text": [
      "태풍 '마이삭'이 몰고 온 강한 '마이삭' 때문에 밤새 걱정하신 분들 많으셨을 겁니다.\n",
      " '마이삭'은 우리나라 곳곳을 할퀴고 지나갔습니다.'마이삭'으로 보면 일곱 번째로 강한 '마이삭'이었습니다.\n",
      " 커다란 풍력발전기는 이렇게 두 동강 나버렸습니다. 집채만 한 공룡 조각상의 목도 부러졌습니다.\n",
      " 컨테이너도 종이 상자처럼 나뒹굴었습니다. 그런데 '마이삭'보다 위력이 강한 태풍 '하이선'이 다가오고 있습니다.\n",
      " 단단한 대비가 필요한 상황인데요.\n"
     ]
    }
   ],
   "source": [
    "f=open(\"test.txt\",'r',encoding='utf-8')\n",
    "a=f.read()\n",
    "print(a)\n",
    "f.close()"
   ]
  },
  {
   "cell_type": "code",
   "execution_count": 62,
   "metadata": {
    "tags": []
   },
   "outputs": [
    {
     "name": "stdout",
     "output_type": "stream",
     "text": [
      "[\" 태풍 '마이삭'이 몰고 온 강한 '마이삭' 때문에 밤새 걱정하신 분들 많으셨을 겁니다.\\n\", \" '마이삭'은 우리나라 곳곳을 할퀴고 지나갔습니다.'마이삭'으로 보면 일곱 번째로 강한 '마이삭'이었습니다.\\n\", ' 커다란 풍력발전기는 이렇게 두 동강 나버렸습니다. 집채만 한 공룡 조각상의 목도 부러졌습니다.\\n', \" 컨테이너도 종이 상자처럼 나뒹굴었습니다. 그런데 '마이삭'보다 위력이 강한 태풍 '하이선'이 다가오고 있습니다.\\n\", ' 단단한 대비가 필요한 상황인데요.']\n"
     ]
    }
   ],
   "source": [
    "f=open(\"test.txt\",'r',encoding='utf-8')\n",
    "a=f.readlines()\n",
    "print(a)\n",
    "f.close()"
   ]
  },
  {
   "cell_type": "code",
   "execution_count": 63,
   "metadata": {
    "tags": []
   },
   "outputs": [
    {
     "name": "stdout",
     "output_type": "stream",
     "text": [
      "태풍 '마이삭'이 몰고 온 강한 '마이삭' 때문에 밤새 걱정하신 분들 많으셨을 겁니다.\n",
      "\n",
      " '마이삭'은 우리나라 곳곳을 할퀴고 지나갔습니다.'마이삭'으로 보면 일곱 번째로 강한 '마이삭'이었습니다.\n",
      "\n",
      " 커다란 풍력발전기는 이렇게 두 동강 나버렸습니다. 집채만 한 공룡 조각상의 목도 부러졌습니다.\n",
      "\n",
      " 컨테이너도 종이 상자처럼 나뒹굴었습니다. 그런데 '마이삭'보다 위력이 강한 태풍 '하이선'이 다가오고 있습니다.\n",
      "\n",
      " 단단한 대비가 필요한 상황인데요.\n"
     ]
    }
   ],
   "source": [
    "f=open(\"test.txt\",'r',encoding='utf-8')\n",
    "a=f.readline()\n",
    "print(a)\n",
    "a=f.readline()\n",
    "print(a)\n",
    "a=f.readline()\n",
    "print(a)\n",
    "a=f.readline()\n",
    "print(a)\n",
    "a=f.readline()\n",
    "print(a)\n",
    "f.close()"
   ]
  },
  {
   "cell_type": "code",
   "execution_count": 64,
   "metadata": {
    "tags": []
   },
   "outputs": [
    {
     "name": "stdout",
     "output_type": "stream",
     "text": [
      "태풍 '마이삭'이 몰고 온 강한 '마이삭' 때문에 밤새 걱정하신 분들 많으셨을 겁니다.\n",
      " '마이삭'은 우리나라 곳곳을 할퀴고 지나갔습니다.'마이삭'으로 보면 일곱 번째로 강한 '마이삭'이었습니다.\n",
      " 커다란 풍력발전기는 이렇게 두 동강 나버렸습니다. 집채만 한 공룡 조각상의 목도 부러졌습니다.\n",
      " 컨테이너도 종이 상자처럼 나뒹굴었습니다. 그런데 '마이삭'보다 위력이 강한 태풍 '하이선'이 다가오고 있습니다.\n",
      " 단단한 대비가 필요한 상황인데요.\n"
     ]
    }
   ],
   "source": [
    "f=open(\"test.txt\",'r',encoding='utf-8')\n",
    "while True :\n",
    "    line = f.readline()\n",
    "    if not line :\n",
    "        break\n",
    "    print(line.replace('\\n',''))\n",
    "    \n",
    "f.close()"
   ]
  },
  {
   "cell_type": "code",
   "execution_count": 65,
   "metadata": {
    "tags": []
   },
   "outputs": [
    {
     "name": "stdout",
     "output_type": "stream",
     "text": [
      "총글자의 수 : 248\n",
      "총단어의 수 : 51\n",
      "총줄의 수 : 5\n"
     ]
    }
   ],
   "source": [
    "f=open(\"test.txt\",'r',encoding='utf-8')\n",
    "contents = f.read()\n",
    "word_list = contents.split(\" \")\n",
    "line_list = contents.split(\"\\n\")\n",
    "print(\"총글자의 수 :\",len(contents))\n",
    "print(\"총단어의 수 :\",len(word_list))\n",
    "print(\"총줄의 수 :\",len(line_list))"
   ]
  },
  {
   "cell_type": "code",
   "execution_count": 1,
   "metadata": {
    "tags": []
   },
   "outputs": [
    {
     "output_type": "stream",
     "name": "stdout",
     "text": "태풍 '0)사사삭'이 몰고 온 강한 '1)사사삭' 때문에 밤새 걱정하신 분들 많으셨을 겁니다.\n\n '2)사사삭'은 우리나라 곳곳을 할퀴고 지나갔습니다.'3)사사삭'으로 보면 일곱 번째로 강한 '4)사사삭'이었습니다.\n\n 커다란 풍력발전기는 이렇게 두 동강 나버렸습니다. 집채만 한 공룡 조각상의 목도 부러졌습니다.\n\n 컨테이너도 종이 상자처럼 나뒹굴었습니다. 그런데 '5)사사삭'보다 위력이 강한 태풍 '하이선'이 다가오고 있습니다.\n\n 단단한 대비가 필요한 상황인데요.\n 태풍 '0)사사삭'이 몰고 온 강한 '1)사사삭' 때문에 밤새 걱정하신 분들 많으셨을 겁니다.\n '2)사사삭'은 우리나라 곳곳을 할퀴고 지나갔습니다.'3)사사삭'으로 보면 일곱 번째로 강한 '4)사사삭'이었습니다.\n 커다란 풍력발전기는 이렇게 두 동강 나버렸습니다. 집채만 한 공룡 조각상의 목도 부러졌습니다.\n 컨테이너도 종이 상자처럼 나뒹굴었습니다. 그런데 '5)사사삭'보다 위력이 강한 태풍 '하이선'이 다가오고 있습니다.\n 단단한 대비가 필요한 상황인데요.\n"
    }
   ],
   "source": [
    "f = open(\"test.txt\",mode='r',encoding='utf-8')\n",
    "f_out = open(\"outtest.txt\",mode='w',encoding='utf-8')\n",
    "i=0\n",
    "while True :\n",
    "    line=f.readline()\n",
    "    if not line :\n",
    "        break\n",
    "    if '마이삭' in line :\n",
    "        for n in range(line.count(\"마이삭\")) :\n",
    "            line=line.replace(\"마이삭\",'%d)사사삭'%i, 1)\n",
    "            i+=1\n",
    "    f_out.write(line)\n",
    "    print(line)\n",
    "    \n",
    "f_out = open(\"outtest.txt\",mode='r',encoding='utf-8')\n",
    "out=f_out.read()\n",
    "print(out)\n",
    "\n",
    "f.close()\n",
    "f_out.close()"
   ]
  },
  {
   "cell_type": "code",
   "execution_count": 101,
   "metadata": {
    "tags": []
   },
   "outputs": [
    {
     "name": "stdout",
     "output_type": "stream",
     "text": [
      "현재 체력은 300 입니다\n",
      "체력이 -200 남았습니다\n",
      "체력이 없습니다. 종료합니다.\n",
      "작업을 모두 마쳤습니다.\n"
     ]
    }
   ],
   "source": [
    "try :\n",
    "    save = open(\"save.txt\",'w',encoding='utf-8')\n",
    "    dmg=300\n",
    "    save.write(\"%d\"%dmg)\n",
    "    print(\"현재 체력은 %d 입니다\"%dmg)\n",
    "except FileNotFoundError :\n",
    "    print(\"파일을 찾을 수 없습니다.\")\n",
    "else :\n",
    "    while True :\n",
    "        strdmg=input(\"데미지를 몇 입었습니까?\")\n",
    "        if strdmg=='save' :\n",
    "            print(\"저장합니다.\")\n",
    "            save.write(\"%d\"%dmg)\n",
    "            break\n",
    "        dmg -= int(strdmg)\n",
    "        print(\"체력이 %d 남았습니다\"%dmg)\n",
    "        if dmg <= 0 :\n",
    "            print(\"체력이 없습니다. 종료합니다.\")\n",
    "            break\n",
    "\n",
    "    # save.write(\"%d\"%dmg)\n",
    "    f.close()\n",
    "finally :\n",
    "    print(\"작업을 모두 마쳤습니다.\")"
   ]
  },
  {
   "cell_type": "code",
   "execution_count": 122,
   "metadata": {
    "tags": []
   },
   "outputs": [
    {
     "name": "stdout",
     "output_type": "stream",
     "text": [
      "현재 체력은 300 입니다\n",
      "체력이 200 남았습니다.\n"
     ]
    }
   ],
   "source": [
    "hp = 300\n",
    "hit = ''\n",
    "print(\"현재 체력은 %d 입니다\"%hp)\n",
    "while hit != \"save\" and hp>0 :\n",
    "    hit = input(\"데미지를 몇 입었습니까 : \")\n",
    "    if hit == \"save\" :\n",
    "        f = open(\"save.txt\",'w',encoding=\"utf-8\")\n",
    "        f.write(str(hp))\n",
    "        f.close\n",
    "    else :\n",
    "        hit = int(hit)\n",
    "        hp -= hit\n",
    "        print(\"체력이 %d 남았습니다.\"%hp)\n",
    "    "
   ]
  },
  {
   "cell_type": "code",
   "execution_count": 123,
   "metadata": {
    "tags": []
   },
   "outputs": [
    {
     "name": "stdout",
     "output_type": "stream",
     "text": [
      "세이브 된 파일 불러오는중...\n",
      "현재 체력은 200 입니다\n",
      "체력이 100 남았습니다.\n",
      "체력이 -100 남았습니다.\n"
     ]
    }
   ],
   "source": [
    "try :\n",
    "    hp=300\n",
    "    hit = ''\n",
    "    f = open(\"save.txt\",'r',encoding=\"utf-8\")\n",
    "    hp=int(f.read())\n",
    "    f.close()\n",
    "    print(\"세이브 된 파일 불러오는중...\")\n",
    "except :\n",
    "    print(\"파일을 찾을 수 없습니다.\")\n",
    "else :\n",
    "    \n",
    "    print(\"현재 체력은 %d 입니다\"%hp)\n",
    "    while hit != \"save\" and hp>0 :\n",
    "        hit = input(\"데미지를 몇 입었습니까 : \")\n",
    "        if hit == \"save\" :\n",
    "            f = open(\"save.txt\",'w',encoding=\"utf-8\")\n",
    "            f.write(str(hp))\n",
    "            f.close\n",
    "        else :\n",
    "            hit = int(hit)\n",
    "            hp -= hit\n",
    "            print(\"체력이 %d 남았습니다.\"%hp)\n",
    "        "
   ]
  }
 ],
 "metadata": {
  "kernelspec": {
   "display_name": "Python 3",
   "language": "python",
   "name": "python3"
  },
  "language_info": {
   "codemirror_mode": {
    "name": "ipython",
    "version": 3
   },
   "file_extension": ".py",
   "mimetype": "text/x-python",
   "name": "python",
   "nbconvert_exporter": "python",
   "pygments_lexer": "ipython3",
   "version": "3.8.3-final"
  }
 },
 "nbformat": 4,
 "nbformat_minor": 2
}