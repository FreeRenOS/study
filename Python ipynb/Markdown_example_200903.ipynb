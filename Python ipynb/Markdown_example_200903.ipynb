{
 "cells": [
  {
   "cell_type": "code",
   "execution_count": 19,
   "metadata": {},
   "outputs": [
    {
     "data": {
      "text/plain": [
       "4"
      ]
     },
     "execution_count": 19,
     "metadata": {},
     "output_type": "execute_result"
    }
   ],
   "source": [
    "1+3"
   ]
  },
  {
   "cell_type": "code",
   "execution_count": 20,
   "metadata": {
    "scrolled": true
   },
   "outputs": [
    {
     "name": "stdout",
     "output_type": "stream",
     "text": [
      "hello\n"
     ]
    }
   ],
   "source": [
    "print(\"hello\")"
   ]
  },
  {
   "cell_type": "markdown",
   "metadata": {},
   "source": [
    "```\n",
    "# 제목\n",
    "## 제목2\n",
    "### 제목3\n",
    "#### 제목4\n",
    "```"
   ]
  },
  {
   "cell_type": "markdown",
   "metadata": {},
   "source": [
    "# 제목\n",
    "## 제목2\n",
    "### 제목3\n",
    "#### 제목4"
   ]
  },
  {
   "cell_type": "markdown",
   "metadata": {},
   "source": [
    "# 호라이즌 긋기"
   ]
  },
  {
   "cell_type": "markdown",
   "metadata": {},
   "source": [
    "```\n",
    "'*' : ***\n",
    "```"
   ]
  },
  {
   "cell_type": "markdown",
   "metadata": {},
   "source": [
    "***"
   ]
  },
  {
   "cell_type": "markdown",
   "metadata": {},
   "source": [
    "```\n",
    "'_' : ___\n",
    "```"
   ]
  },
  {
   "cell_type": "markdown",
   "metadata": {},
   "source": [
    "___"
   ]
  },
  {
   "cell_type": "markdown",
   "metadata": {},
   "source": [
    "```\n",
    "'-' : ---\n",
    "```"
   ]
  },
  {
   "cell_type": "markdown",
   "metadata": {},
   "source": [
    "---"
   ]
  },
  {
   "cell_type": "markdown",
   "metadata": {},
   "source": [
    "```\n",
    "'*' 또 '+' 또는 '-' 사용\n",
    "```"
   ]
  },
  {
   "cell_type": "markdown",
   "metadata": {},
   "source": [
    "```\n",
    "* 머리\n",
    "    * 코\n",
    "        * 입\n",
    "```"
   ]
  },
  {
   "cell_type": "markdown",
   "metadata": {},
   "source": [
    "* 머리\n",
    "    * 코\n",
    "        * 입"
   ]
  },
  {
   "cell_type": "markdown",
   "metadata": {},
   "source": [
    "```\n",
    "- 머리\n",
    "    - 코\n",
    "        - 입\n",
    "        ```"
   ]
  },
  {
   "cell_type": "markdown",
   "metadata": {},
   "source": [
    "- 머리\n",
    "    - 코\n",
    "        - 입"
   ]
  },
  {
   "cell_type": "markdown",
   "metadata": {},
   "source": [
    "```\n",
    "+ 머리\n",
    "    + 코\n",
    "        + 입\n",
    "        ```"
   ]
  },
  {
   "cell_type": "markdown",
   "metadata": {},
   "source": [
    "+ 머리\n",
    "    + 코\n",
    "        + 입"
   ]
  },
  {
   "cell_type": "markdown",
   "metadata": {},
   "source": [
    "```\n",
    "1. 머리\n",
    "2. 다리\n",
    "3. 꼬리\n",
    "```"
   ]
  },
  {
   "cell_type": "markdown",
   "metadata": {},
   "source": [
    "1. 머리\n",
    "2. 다리\n",
    "3. 꼬리"
   ]
  },
  {
   "cell_type": "markdown",
   "metadata": {},
   "source": [
    "```\n",
    "1. 머리\n",
    "5. 다리\n",
    "3. 꼬리\n",
    "```"
   ]
  },
  {
   "cell_type": "markdown",
   "metadata": {},
   "source": [
    "1. 머리\n",
    "5. 다리\n",
    "3. 꼬리"
   ]
  },
  {
   "cell_type": "markdown",
   "metadata": {},
   "source": [
    "```\n",
    "1. 머리\n",
    "    * 목\n",
    "    * 허리\n",
    "2. 머리\n",
    "    * 목\n",
    "    * 허리\n",
    "    ```"
   ]
  },
  {
   "cell_type": "markdown",
   "metadata": {},
   "source": [
    "1. 머리\n",
    "    * 목\n",
    "    * 허리\n",
    "2. 머리\n",
    "    * 목\n",
    "    * 허리"
   ]
  },
  {
   "cell_type": "markdown",
   "metadata": {},
   "source": [
    "### 특수문자표시 : \\(특수문자)"
   ]
  },
  {
   "cell_type": "markdown",
   "metadata": {},
   "source": [
    "```\n",
    "\\#####\n",
    "```"
   ]
  },
  {
   "cell_type": "markdown",
   "metadata": {},
   "source": [
    "\\#####"
   ]
  },
  {
   "cell_type": "markdown",
   "metadata": {},
   "source": [
    "### 줄바꾸기"
   ]
  },
  {
   "cell_type": "markdown",
   "metadata": {},
   "source": [
    "```\n",
    "안녕 파이썬\n",
    "Hello Python\n",
    "Hi Python\n",
    "```"
   ]
  },
  {
   "cell_type": "markdown",
   "metadata": {},
   "source": [
    "안녕 파이썬\n",
    "Hello Python\n",
    "Hi Python"
   ]
  },
  {
   "cell_type": "markdown",
   "metadata": {},
   "source": [
    "```\n",
    "안녕 파이썬\n",
    "\n",
    "Hello Python\n",
    "\n",
    "Hi Python\n",
    "```"
   ]
  },
  {
   "cell_type": "markdown",
   "metadata": {},
   "source": [
    "안녕 파이썬\n",
    "\n",
    "Hello Python\n",
    "\n",
    "Hi Python"
   ]
  },
  {
   "cell_type": "markdown",
   "metadata": {},
   "source": [
    "# 문장의 뒤에 공백(' ')을 2칸 이상 넣기"
   ]
  },
  {
   "cell_type": "markdown",
   "metadata": {},
   "source": [
    "```\n",
    "안녕 파이썬  \n",
    "Hello Python  \n",
    "Hi Python  \n",
    "```"
   ]
  },
  {
   "cell_type": "markdown",
   "metadata": {},
   "source": [
    "안녕 파이썬  \n",
    "Hello Python  \n",
    "Hi Python  "
   ]
  },
  {
   "cell_type": "markdown",
   "metadata": {},
   "source": [
    "# 강조"
   ]
  },
  {
   "cell_type": "markdown",
   "metadata": {},
   "source": [
    "```\n",
    "**굵은글씨**\n",
    "_기울여서 쓰기_\n",
    "```"
   ]
  },
  {
   "cell_type": "markdown",
   "metadata": {},
   "source": [
    "**굵은글씨**  \n",
    "_기울여서 쓰기_"
   ]
  },
  {
   "cell_type": "markdown",
   "metadata": {},
   "source": [
    "```\n",
    "__AAAA__\n",
    "```"
   ]
  },
  {
   "cell_type": "markdown",
   "metadata": {},
   "source": [
    "__AAAA__"
   ]
  },
  {
   "cell_type": "markdown",
   "metadata": {},
   "source": [
    "```\n",
    "_이탈릭에서**여기만 굵은 글씨**다시돌아옴_  \n",
    "__굵은글씨로 시작해서*이탈릭으로 돌아왔다가*다시 굵어짐__\n",
    "```"
   ]
  },
  {
   "cell_type": "markdown",
   "metadata": {},
   "source": [
    "_이탈릭에서**여기만 굵은 글씨**다시돌아옴_  \n",
    "__굵은글씨로 시작해서*이탈릭으로 돌아왔다가*다시 굵어짐__"
   ]
  },
  {
   "cell_type": "markdown",
   "metadata": {},
   "source": [
    "## 이미지 넣기"
   ]
  },
  {
   "cell_type": "markdown",
   "metadata": {},
   "source": [
    "```\n",
    "![텍스트](이미지경로.jpg)\n",
    "![텍스트](이미지URL)\n",
    "```"
   ]
  },
  {
   "cell_type": "markdown",
   "metadata": {},
   "source": [
    "![텍스트](image\\balloon.jpg)\n",
    "![텍스트](http://partystar.co.kr/web/product/big/201701/10202_shop1_734798.jpg)"
   ]
  },
  {
   "cell_type": "markdown",
   "metadata": {},
   "source": [
    "```\n",
    "![텍스트](이미지경로.jpg \"이미지 이름\")\n",
    "![텍스트](이미지URL \"이미지 이름\")\n",
    "```"
   ]
  },
  {
   "cell_type": "markdown",
   "metadata": {},
   "source": [
    "![텍스트](image\\balloon.jpg \"ㄷㄷㄷㄷㄷㄷㄷㄷㄷㄷㄷㄷㄷㄷㄷㄷ\")\n",
    "![텍스트](http://partystar.co.kr/web/product/big/201701/10202_shop1_734798.jpg \"ㅇㅇㅇㅇㅇㅇㅇ\")"
   ]
  },
  {
   "cell_type": "markdown",
   "metadata": {},
   "source": [
    "```\n",
    "![텍스트](이미지URL)(이미지 링크 주소)\n",
    "![텍스트](https://upload.wikimedia.org/wikipedia/commons/thumb/8/87/InflatableBalloons.jpg/1280px-InflatableBalloons.jpg)(https://upload.wikimedia.org/wikipedia/commons/8/87/InflatableBalloons.jpg)\n",
    "```"
   ]
  },
  {
   "cell_type": "markdown",
   "metadata": {},
   "source": [
    "![텍스트](https://upload.wikimedia.org/wikipedia/commons/thumb/8/87/InflatableBalloons.jpg/1280px-InflatableBalloons.jpg)(https://upload.wikimedia.org/wikipedia/commons/8/87/InflatableBalloons.jpg)"
   ]
  },
  {
   "cell_type": "markdown",
   "metadata": {},
   "source": [
    "# 표만들기"
   ]
  },
  {
   "cell_type": "raw",
   "metadata": {},
   "source": [
    "```  \n",
    "    여기에 코드를 넣으면 작동하지 않고 보임\n",
    "```"
   ]
  },
  {
   "cell_type": "raw",
   "metadata": {},
   "source": [
    "```\n",
    "\n",
    "머리1|머리2|머리3|뚝배기  \n",
    "----|----|----|----  \n",
    "|||뚝배기  \n",
    "금|의|환|향  \n",
    "\n",
    "```"
   ]
  },
  {
   "cell_type": "markdown",
   "metadata": {},
   "source": [
    "```  \n",
    "머리1|머리2|머리3|뚝배기\n",
    "----|----|----|----\n",
    "|||뚝배기\n",
    "금|의|환|향\n",
    "\n",
    "```"
   ]
  },
  {
   "cell_type": "markdown",
   "metadata": {},
   "source": [
    "머리1|머리2|머리3|뚝배기\n",
    "----|----|----|----\n",
    "|||뚝배기\n",
    "금|의|환|향"
   ]
  },
  {
   "cell_type": "code",
   "execution_count": 22,
   "metadata": {},
   "outputs": [
    {
     "data": {
      "text/html": [
       "<style>.container {width:90% !important; }</style>"
      ],
      "text/plain": [
       "<IPython.core.display.HTML object>"
      ]
     },
     "metadata": {},
     "output_type": "display_data"
    }
   ],
   "source": [
    "from IPython.core.display import display, HTML\n",
    "display(HTML(\"<style>.container {width:90% !important; }</style>\"))"
   ]
  }
 ],
 "metadata": {
  "kernelspec": {
   "display_name": "Python 3",
   "language": "python",
   "name": "python3"
  },
  "language_info": {
   "codemirror_mode": {
    "name": "ipython",
    "version": 3
   },
   "file_extension": ".py",
   "mimetype": "text/x-python",
   "name": "python",
   "nbconvert_exporter": "python",
   "pygments_lexer": "ipython3",
   "version": "3.8.3"
  }
 },
 "nbformat": 4,
 "nbformat_minor": 4
}