{
 "cells": [
  {
   "cell_type": "markdown",
   "metadata": {},
   "source": [
    "<h1> <center> PYTHON </center> </h1>\n",
    "<h2><center>2020.09.16</center>\n",
    "<br>\n",
    "<center>오상수 </center> </h2>\n",
    "\n",
    "---"
   ]
  },
  {
   "cell_type": "markdown",
   "metadata": {},
   "source": [
    "문항1"
   ]
  },
  {
   "cell_type": "code",
   "execution_count": 1,
   "metadata": {},
   "outputs": [],
   "source": [
    "a = 'string'\n",
    "print(a[0]+a[3])\n",
    "print(a[0:1]+a[-3:4])"
   ]
  },
  {
   "cell_type": "markdown",
   "metadata": {},
   "source": [
    "문항2"
   ]
  },
  {
   "cell_type": "code",
   "execution_count": 2,
   "metadata": {},
   "outputs": [],
   "source": [
    "a = ['하나', '둘', 1, 2, 3.0]\n",
    "b = ['넷', '다섯']\n",
    "c = '여섯'\n",
    "d = '일곱'\n",
    "\n",
    "a.insert(1,b)\n",
    "a.insert(1,c)\n",
    "a.insert(1,d)\n",
    "a\n"
   ]
  },
  {
   "cell_type": "markdown",
   "metadata": {},
   "source": [
    "문항3"
   ]
  },
  {
   "cell_type": "code",
   "execution_count": 3,
   "metadata": {},
   "outputs": [],
   "source": [
    "a = ['하나', '둘', '일곱', 1, 2, 3.0, '넷', '다섯', '여성', 'A']\n",
    "b = a\n",
    "print(b)\n",
    "print(a is b)\n",
    "\n",
    "b = a.copy()\n",
    "print(b)\n",
    "print(a is b)"
   ]
  },
  {
   "cell_type": "markdown",
   "metadata": {},
   "source": [
    "문항4"
   ]
  },
  {
   "cell_type": "code",
   "execution_count": 4,
   "metadata": {},
   "outputs": [
    {
     "name": "stdout",
     "output_type": "stream",
     "text": [
      "f의 값은(a=1, args=(2, 3, 4), kwargs={'b': 5, 'c': 6}\n"
     ]
    }
   ],
   "source": [
    "def f(a = 0, *args, **kwargs) :\n",
    "    print('f의 값은(a=%s, args=%s, kwargs=%s' % (a, args, kwargs))\n",
    "\n",
    "f(1,2,3,4,b=5,c=6)"
   ]
  },
  {
   "cell_type": "markdown",
   "metadata": {},
   "source": [
    "문항5"
   ]
  },
  {
   "cell_type": "code",
   "execution_count": 5,
   "metadata": {},
   "outputs": [
    {
     "name": "stdout",
     "output_type": "stream",
     "text": [
      "10.0\n"
     ]
    }
   ],
   "source": [
    "print((lambda b,h : 0.5*b*h)(5,4))"
   ]
  },
  {
   "cell_type": "markdown",
   "metadata": {},
   "source": [
    "문항6"
   ]
  },
  {
   "cell_type": "code",
   "execution_count": 6,
   "metadata": {},
   "outputs": [],
   "source": [
    "class Calculator :\n",
    "    def __init__(self) :\n",
    "        self.value = 0\n",
    "    def add(self, val) :\n",
    "        self.value +=val"
   ]
  },
  {
   "cell_type": "code",
   "execution_count": 7,
   "metadata": {},
   "outputs": [],
   "source": [
    "class UpgradeCalculator(Calculator) :\n",
    "    def __init__(self) :\n",
    "        super().__init__()\n",
    "    def add(self, val) :\n",
    "        super().add(val)\n",
    "    def minus(self, val) :\n",
    "        self.value -=val\n",
    "        \n",
    "cal = UpgradeCalculator()\n",
    "cal.add(10)\n",
    "cal.minus(10)"
   ]
  },
  {
   "cell_type": "code",
   "execution_count": 8,
   "metadata": {},
   "outputs": [
    {
     "name": "stdout",
     "output_type": "stream",
     "text": [
      "50\n"
     ]
    }
   ],
   "source": [
    "class MaxLimitCalculator :\n",
    "    def __init__(self) :\n",
    "        self.value = 0\n",
    "    def add(self, val) :\n",
    "        if 1 <= self.value+val <= 100 :\n",
    "            self.value +=val\n",
    "cal = MaxLimitCalculator()\n",
    "cal.add(50)\n",
    "cal.add(60)\n",
    "print(cal.value)\n",
    "        "
   ]
  },
  {
   "cell_type": "markdown",
   "metadata": {},
   "source": [
    "문항7"
   ]
  },
  {
   "cell_type": "code",
   "execution_count": 9,
   "metadata": {},
   "outputs": [
    {
     "name": "stdout",
     "output_type": "stream",
     "text": [
      "[1, 4, 9, 16, 25]\n",
      "[1, 4, 9, 16, 25]\n"
     ]
    }
   ],
   "source": [
    "a = [i*i for i in [1,2,3,4,5]]\n",
    "print(a)\n",
    "\n",
    "b=[]\n",
    "for i in range(1,6) :\n",
    "    b.append(i*i)\n",
    "    \n",
    "print(b)"
   ]
  },
  {
   "cell_type": "markdown",
   "metadata": {},
   "source": [
    "문항8"
   ]
  },
  {
   "cell_type": "code",
   "execution_count": 35,
   "metadata": {},
   "outputs": [
    {
     "name": "stdout",
     "output_type": "stream",
     "text": [
      "; for 16-bit app support\n",
      "[386enh]\n",
      "woafont=dosapp.fon\n",
      "ega80woa.fon=ega80woa.fon\n",
      "ega40woa.fon=ega40woa.fon\n",
      "cga80woa.fon=cga80woa.fon\n",
      "cga40woa.fon=cga40woa.fon\n",
      "\n",
      "[drivers]\n",
      "wave=mmdrv.dll\n",
      "timer=timer.drv\n",
      "\n",
      "[mci]\n",
      "\n",
      "; for 16-bit app support\n",
      "\n",
      "[386enh]\n",
      "\n",
      "woafon(0)t=dosapp.fon(1)\n",
      "\n",
      "ega80woa.fon(2)=ega80woa.fon(3)\n",
      "\n",
      "ega40woa.fon(4)=ega40woa.fon(5)\n",
      "\n",
      "cga80woa.fon(6)=cga80woa.fon(7)\n",
      "\n",
      "cga40woa.fon(8)=cga40woa.fon(9)\n",
      "\n",
      "\n",
      "\n",
      "[drivers]\n",
      "\n",
      "wave=mmdrv.dll\n",
      "\n",
      "timer=timer.drv\n",
      "\n",
      "\n",
      "\n",
      "[mci]\n",
      "\n"
     ]
    }
   ],
   "source": [
    "f = open (\"C:\\Windows\\system.ini\", 'r', encoding='utf-8')\n",
    "wf=f.read()\n",
    "f.close()\n",
    "f2 = open(\"test_out.txt\", 'w', encoding='utf-8')\n",
    "wf=wf.lower()\n",
    "f2.write(wf)\n",
    "f2.close()\n",
    "print(wf)\n",
    "\n",
    "f3 = open(\"test_out.txt\", 'r', encoding='utf-8')\n",
    "\n",
    "i=0\n",
    "while True :\n",
    "    line=f3.readline()\n",
    "    if not line :\n",
    "        break\n",
    "    if 'fon' in line :\n",
    "        line=line.replace(\"fon\",'fon@')\n",
    "        for n in range(line.count(\"fon\")) :\n",
    "            line=line.replace(\"fon@\",'fon(%d)'%i, 1)\n",
    "            i+=1\n",
    "    \n",
    "    print(line)\n",
    "    \n",
    "f3.close()"
   ]
  },
  {
   "cell_type": "markdown",
   "metadata": {},
   "source": [
    "문항9"
   ]
  },
  {
   "cell_type": "code",
   "execution_count": 11,
   "metadata": {},
   "outputs": [
    {
     "data": {
      "text/plain": [
       "[6, 16, 21, 22, 29, 40]"
      ]
     },
     "execution_count": 11,
     "metadata": {},
     "output_type": "execute_result"
    }
   ],
   "source": [
    "import random\n",
    "rot=[]\n",
    "for i in range(6) :\n",
    "    rot.append(random.randrange(1,46))\n",
    "    \n",
    "for i in range(len(rot)) :\n",
    "    for j in range(len(rot)) :\n",
    "        if rot[i]==rot[j] :\n",
    "            rot[j]=random.randrange(1,46)\n",
    "            break\n",
    "            \n",
    "rot.sort()\n",
    "rot"
   ]
  },
  {
   "cell_type": "code",
   "execution_count": null,
   "metadata": {},
   "outputs": [],
   "source": []
  }
 ],
 "metadata": {
  "kernelspec": {
   "display_name": "Python 3",
   "language": "python",
   "name": "python3"
  },
  "language_info": {
   "codemirror_mode": {
    "name": "ipython",
    "version": 3
   },
   "file_extension": ".py",
   "mimetype": "text/x-python",
   "name": "python",
   "nbconvert_exporter": "python",
   "pygments_lexer": "ipython3",
   "version": "3.8.3"
  }
 },
 "nbformat": 4,
 "nbformat_minor": 4
}
