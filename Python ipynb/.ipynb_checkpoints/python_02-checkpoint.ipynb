{
 "cells": [
  {
   "cell_type": "code",
   "execution_count": 22,
   "metadata": {},
   "outputs": [
    {
     "name": "stdout",
     "output_type": "stream",
     "text": [
      "동전 던지기 게임 시작 !!\n",
      "뒷면\n",
      "게임종료\n"
     ]
    }
   ],
   "source": [
    "import random\n",
    "coin = random.randrange(2)\n",
    "print(\"동전 던지기 게임 시작 !!\")\n",
    "if coin == 0 :\n",
    "    print(\"뒷면\")\n",
    "else :\n",
    "    print(\"앞면\")\n",
    "print(\"게임종료\")"
   ]
  },
  {
   "cell_type": "code",
   "execution_count": 42,
   "metadata": {},
   "outputs": [
    {
     "name": "stdout",
     "output_type": "stream",
     "text": [
      "3\n",
      "8\n",
      "4\n",
      "4\n",
      "2\n",
      "7\n",
      "6\n",
      "4\n",
      "4\n",
      "5\n"
     ]
    }
   ],
   "source": [
    "import random\n",
    "for i in range(10) :\n",
    "    print(random.randint(0,10)) # 0~10 사이의 값"
   ]
  },
  {
   "cell_type": "code",
   "execution_count": 53,
   "metadata": {},
   "outputs": [
    {
     "name": "stdout",
     "output_type": "stream",
     "text": [
      "3\n",
      "저녁\n"
     ]
    }
   ],
   "source": [
    "import random\n",
    "choice = random.choice([1,2,3])\n",
    "print(choice)\n",
    "choice = random.choice([\"오전\",\"오후\",\"저녁\"])\n",
    "print(choice)"
   ]
  },
  {
   "cell_type": "code",
   "execution_count": 61,
   "metadata": {},
   "outputs": [
    {
     "name": "stdout",
     "output_type": "stream",
     "text": [
      "어디를 수비하시겠어요? (왼쪽, 중앙, 오른쪽)\n",
      "None중앙\n",
      "중앙 : 중앙\n",
      "수비에 성공하였습니다.\n"
     ]
    }
   ],
   "source": [
    "import random\n",
    "\n",
    "Kick = random.choice([\"왼쪽\",\"중앙\",\"오른쪽\"])\n",
    "Subi = input(print(\"어디를 수비하시겠어요? (왼쪽, 중앙, 오른쪽)\"))\n",
    "print(\"{} : {}\".format(Kick,Subi))\n",
    "if Kick == Subi :\n",
    "    print(\"수비에 성공하였습니다.\")\n",
    "else :\n",
    "\n",
    "    print(\"패널티 킥이 성공하였습니다.\")"
   ]
  },
  {
   "cell_type": "code",
   "execution_count": 66,
   "metadata": {},
   "outputs": [
    {
     "name": "stdout",
     "output_type": "stream",
     "text": [
      "a==8 and b==4  False\n"
     ]
    }
   ],
   "source": [
    "a=8\n",
    "b=5\n",
    "result = (a==8 and b==4)\n",
    "print(\"a==8 and b==4\",result)"
   ]
  },
  {
   "cell_type": "code",
   "execution_count": 68,
   "metadata": {},
   "outputs": [
    {
     "name": "stdout",
     "output_type": "stream",
     "text": [
      "a>7 or b>7 True\n"
     ]
    }
   ],
   "source": [
    "a=8\n",
    "b=5\n",
    "result = (a>7 or b>7)\n",
    "print(\"a>7 or b>7\",result)"
   ]
  },
  {
   "cell_type": "markdown",
   "metadata": {},
   "source": [
    "나이를 입력받아, 다음의 분류에 따라 출력 내용을 다르게 한다.  \n",
    "(if-elif - else 문을 사용하여 프로그램을 작성하여 보자)  \n",
    "- 나이 10살 미만인 경우 : kid\n",
    "- 나이 10살 이상 20살 미만인 경우 : student\n",
    "- 나이 20이상인 경우 : adult"
   ]
  },
  {
   "cell_type": "code",
   "execution_count": 74,
   "metadata": {},
   "outputs": [
    {
     "name": "stdout",
     "output_type": "stream",
     "text": [
      "나이를 입력해주세요 : \n",
      "None15\n",
      "student\n"
     ]
    }
   ],
   "source": [
    "age = int(input(print(\"나이를 입력해주세요 : \")))\n",
    "if age < 10 :\n",
    "    print(\"kid\")\n",
    "elif age < 20 :\n",
    "    print(\"student\")\n",
    "else :\n",
    "     print(\"adult\")"
   ]
  },
  {
   "cell_type": "code",
   "execution_count": null,
   "metadata": {},
   "outputs": [],
   "source": []
  },
  {
   "cell_type": "code",
   "execution_count": null,
   "metadata": {},
   "outputs": [],
   "source": []
  }
 ],
 "metadata": {
  "kernelspec": {
   "display_name": "Python 3",
   "language": "python",
   "name": "python3"
  },
  "language_info": {
   "codemirror_mode": {
    "name": "ipython",
    "version": 3
   },
   "file_extension": ".py",
   "mimetype": "text/x-python",
   "name": "python",
   "nbconvert_exporter": "python",
   "pygments_lexer": "ipython3",
   "version": "3.8.3"
  }
 },
 "nbformat": 4,
 "nbformat_minor": 4
}
