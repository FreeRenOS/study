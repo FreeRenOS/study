{
 "cells": [
  {
   "cell_type": "markdown",
   "metadata": {},
   "source": [
    "## 변수 = 저장할 값"
   ]
  },
  {
   "cell_type": "code",
   "execution_count": 13,
   "metadata": {
    "tags": []
   },
   "outputs": [
    {
     "name": "stdout",
     "output_type": "stream",
     "text": [
      "100\n"
     ]
    }
   ],
   "source": [
    "x=100\n",
    "print(x)"
   ]
  },
  {
   "cell_type": "code",
   "execution_count": 8,
   "metadata": {
    "tags": []
   },
   "outputs": [
    {
     "name": "stdout",
     "output_type": "stream",
     "text": [
      "100 200\n"
     ]
    }
   ],
   "source": [
    "x= 100\n",
    "y= 200\n",
    "print(x,y)"
   ]
  },
  {
   "cell_type": "code",
   "execution_count": 7,
   "metadata": {
    "tags": []
   },
   "outputs": [
    {
     "name": "stdout",
     "output_type": "stream",
     "text": [
      "300\n"
     ]
    }
   ],
   "source": [
    "x=100\n",
    "y=200\n",
    "sum= x+y\n",
    "print(sum)"
   ]
  },
  {
   "cell_type": "code",
   "execution_count": 9,
   "metadata": {
    "tags": []
   },
   "outputs": [
    {
     "name": "stdout",
     "output_type": "stream",
     "text": [
      "홍길동\n",
      "대구광역시 심안동 300\n"
     ]
    }
   ],
   "source": [
    "name = \"홍길동\"\n",
    "adress = '대구광역시 심안동 300'\n",
    "print(name)\n",
    "print(adress)"
   ]
  },
  {
   "cell_type": "code",
   "execution_count": 10,
   "metadata": {
    "tags": []
   },
   "outputs": [
    {
     "name": "stdout",
     "output_type": "stream",
     "text": [
      "12\n",
      "a+b\n"
     ]
    }
   ],
   "source": [
    "a=7\n",
    "b=5\n",
    "print(a+b)\n",
    "print(\"a+b\")\n"
   ]
  },
  {
   "cell_type": "code",
   "execution_count": 11,
   "metadata": {
    "tags": []
   },
   "outputs": [
    {
     "name": "stdout",
     "output_type": "stream",
     "text": [
      "13\n",
      "76\n"
     ]
    }
   ],
   "source": [
    "\n",
    "x=7; y=6\n",
    "print(x+y)\n",
    "x='7'; y='6'\n",
    "print(x+y)"
   ]
  },
  {
   "cell_type": "markdown",
   "metadata": {},
   "source": [
    "## 변수\n"
   ]
  },
  {
   "cell_type": "markdown",
   "metadata": {},
   "source": [
    "의미 있는 이름을 사용  \n",
    "소문자와 대문자는 서로다른게 취급된다."
   ]
  },
  {
   "cell_type": "code",
   "execution_count": 19,
   "metadata": {},
   "outputs": [],
   "source": [
    "sum = 1"
   ]
  },
  {
   "cell_type": "code",
   "execution_count": 20,
   "metadata": {},
   "outputs": [],
   "source": [
    "_count = 1"
   ]
  },
  {
   "cell_type": "code",
   "execution_count": 21,
   "metadata": {},
   "outputs": [],
   "source": [
    "base_2nd = 3"
   ]
  },
  {
   "cell_type": "markdown",
   "metadata": {},
   "source": [
    "1) aBC 2) ab! 3) aB1 4) 1ab  \n",
    "5) _ab 6) AB_c  7) 1_ 8) 에이비"
   ]
  },
  {
   "cell_type": "markdown",
   "metadata": {},
   "source": [
    "## 예약어 확인"
   ]
  },
  {
   "cell_type": "code",
   "execution_count": 25,
   "metadata": {
    "tags": []
   },
   "outputs": [
    {
     "name": "stdout",
     "output_type": "stream",
     "text": [
      "['False', 'None', 'True', 'and', 'as', 'assert', 'async', 'await', 'break', 'class', 'continue', 'def', 'del', 'elif', 'else', 'except', 'finally', 'for', 'from', 'global', 'if', 'import', 'in', 'is', 'lambda', 'nonlocal', 'not', 'or', 'pass', 'raise', 'return', 'try', 'while', 'with', 'yield']\n"
     ]
    }
   ],
   "source": [
    "import keyword\n",
    "print(keyword.kwlist)"
   ]
  },
  {
   "cell_type": "markdown",
   "metadata": {},
   "source": [
    "## 변수 명명법  \n",
    "my new car  \n",
    "=> my_new_car =>my_new_car : 헝가리안표기법  \n",
    "=> mynewcar => myNewCar : 카멜식(낙타식)표기법  "
   ]
  },
  {
   "cell_type": "markdown",
   "metadata": {},
   "source": [
    "## 변수의 타입  \n",
    "print(타입)"
   ]
  },
  {
   "cell_type": "code",
   "execution_count": 29,
   "metadata": {
    "tags": []
   },
   "outputs": [
    {
     "name": "stdout",
     "output_type": "stream",
     "text": [
      "<class 'int'>\n"
     ]
    }
   ],
   "source": [
    "print(type(20))"
   ]
  },
  {
   "cell_type": "code",
   "execution_count": 27,
   "metadata": {
    "tags": []
   },
   "outputs": [
    {
     "name": "stdout",
     "output_type": "stream",
     "text": [
      "<class 'float'>\n"
     ]
    }
   ],
   "source": [
    "print(type(179.5))"
   ]
  },
  {
   "cell_type": "code",
   "execution_count": 28,
   "metadata": {
    "tags": []
   },
   "outputs": [
    {
     "name": "stdout",
     "output_type": "stream",
     "text": [
      "<class 'str'>\n"
     ]
    }
   ],
   "source": [
    "st = '키는 height'\n",
    "print(type(st))"
   ]
  },
  {
   "cell_type": "markdown",
   "metadata": {},
   "source": [
    "## 자료형\n",
    "- 정수형 : 양수, 정수  \n",
    "- 실수형 : 소수점이 포함된 실수형  \n",
    "- 문자형 : 따옴표에 들어가 있는 문자형  \n",
    "- 불린형 : 참/ 거짓"
   ]
  },
  {
   "cell_type": "markdown",
   "metadata": {},
   "source": [
    "## 사칙연산"
   ]
  },
  {
   "cell_type": "code",
   "execution_count": 32,
   "metadata": {
    "tags": []
   },
   "outputs": [
    {
     "name": "stdout",
     "output_type": "stream",
     "text": [
      "25+30 :  55\n",
      "30*12 :  360\n",
      "30/5:  6.0\n",
      "7%5 :  2\n",
      "7//5 :  1\n"
     ]
    }
   ],
   "source": [
    "# 주석은 (샵 : #) 기호 사용 단축키는 ctrl +'/'\n",
    "print('25+30 : ',25+30) # 덧셈(+)\n",
    "print('30*12 : ',30*12) # 곱셈(*)\n",
    "print('30/5: ', 30/5) # 나누셈(/)\n",
    "print('7%5 : ',7%5) # 나머지(%)\n",
    "print('7//5 : ',7//5) # 몫연산자(//)\n",
    "#print() 에서 , 로 구분되면 한칸 띄운다"
   ]
  },
  {
   "cell_type": "markdown",
   "metadata": {},
   "source": [
    "# 제곱 연산자"
   ]
  },
  {
   "cell_type": "code",
   "execution_count": 33,
   "metadata": {
    "tags": []
   },
   "outputs": [
    {
     "name": "stdout",
     "output_type": "stream",
     "text": [
      "3^5 :  243\n",
      "3^5 :  243\n"
     ]
    }
   ],
   "source": [
    "print('3^5 : ',3*3*3*3*3)\n",
    "print('3^5 : ',3**5)"
   ]
  },
  {
   "cell_type": "markdown",
   "metadata": {},
   "source": [
    "## 루트 2를 **연산자를 사용해서 구해보자"
   ]
  },
  {
   "cell_type": "code",
   "execution_count": 35,
   "metadata": {
    "tags": []
   },
   "outputs": [
    {
     "name": "stdout",
     "output_type": "stream",
     "text": [
      "sqrt(2) :  1.4142135623730951\n"
     ]
    }
   ],
   "source": [
    "print('sqrt(2) : ',2**0.5)"
   ]
  },
  {
   "cell_type": "code",
   "execution_count": 36,
   "metadata": {
    "tags": []
   },
   "outputs": [
    {
     "name": "stdout",
     "output_type": "stream",
     "text": [
      "115.80281433592612\n"
     ]
    }
   ],
   "source": [
    "num1= 3.1**4.2\n",
    "print(num1)"
   ]
  },
  {
   "cell_type": "code",
   "execution_count": 37,
   "metadata": {
    "tags": []
   },
   "outputs": [
    {
     "name": "stdout",
     "output_type": "stream",
     "text": [
      "50\n"
     ]
    }
   ],
   "source": [
    "num2 = 2*5**2\n",
    "print(num2)"
   ]
  },
  {
   "cell_type": "code",
   "execution_count": 38,
   "metadata": {
    "tags": []
   },
   "outputs": [
    {
     "name": "stdout",
     "output_type": "stream",
     "text": [
      "2\n",
      "3\n",
      "5\n",
      "7\n"
     ]
    }
   ],
   "source": [
    "a =1\n",
    "a=a+1\n",
    "print(a)\n",
    "a+=1\n",
    "print(a)\n",
    "a=a+2\n",
    "print(a)\n",
    "a+=2\n",
    "print(a)\n"
   ]
  },
  {
   "cell_type": "code",
   "execution_count": 39,
   "metadata": {
    "tags": []
   },
   "outputs": [
    {
     "name": "stdout",
     "output_type": "stream",
     "text": [
      "9\n",
      "8\n",
      "6\n",
      "4\n"
     ]
    }
   ],
   "source": [
    "a =10\n",
    "a=a-1\n",
    "print(a)\n",
    "a-=1\n",
    "print(a)\n",
    "a=a-2\n",
    "print(a)\n",
    "a-=2\n",
    "print(a)\n"
   ]
  },
  {
   "cell_type": "code",
   "execution_count": 40,
   "metadata": {
    "tags": []
   },
   "outputs": [
    {
     "name": "stdout",
     "output_type": "stream",
     "text": [
      "정수를 입력하세요\n",
      "입력한 정수는 3 입니다\n"
     ]
    }
   ],
   "source": [
    "print(\"정수를 입력하세요\")\n",
    "x=int(input()) #input() 은 입력을 문자로 받음\n",
    "print(\"입력한 정수는\",x,\"입니다\")"
   ]
  },
  {
   "cell_type": "code",
   "execution_count": 44,
   "metadata": {
    "tags": []
   },
   "outputs": [
    {
     "name": "stdout",
     "output_type": "stream",
     "text": [
      "정수를 입력하세요\n",
      "입력한 정수는 3 입니다\n"
     ]
    }
   ],
   "source": [
    "x=int(input(print(\"정수를 입력하세요\"))) #input() 은 입력을 문자로 받음\n",
    "print(\"입력한 정수는\",x,\"입니다\")"
   ]
  },
  {
   "cell_type": "code",
   "execution_count": 49,
   "metadata": {
    "tags": []
   },
   "outputs": [],
   "source": [
    "# 주석 처리\n",
    "# 한줄 주석 #\n",
    "# 여러줄 주석 -> 일단 생략\n",
    "\n"
   ]
  },
  {
   "cell_type": "code",
   "execution_count": 50,
   "metadata": {
    "tags": []
   },
   "outputs": [
    {
     "name": "stdout",
     "output_type": "stream",
     "text": [
      "number : 2\n",
      "number : 10\n",
      "number : 6\n",
      "number : 3\n",
      "number : 1\n"
     ]
    }
   ],
   "source": [
    "number = 2\n",
    "print(\"number :\",number)\n",
    "number *= 5\n",
    "print(\"number :\",number)\n",
    "number -= 4\n",
    "print(\"number :\",number)\n",
    "number //= 2\n",
    "print(\"number :\",number)\n",
    "number %= 2\n",
    "print(\"number :\",number)\n"
   ]
  },
  {
   "cell_type": "markdown",
   "metadata": {},
   "source": [
    "## String 자료형"
   ]
  },
  {
   "cell_type": "code",
   "execution_count": 52,
   "metadata": {
    "tags": []
   },
   "outputs": [
    {
     "name": "stdout",
     "output_type": "stream",
     "text": [
      "Boy\n",
      "i am a boy\n"
     ]
    }
   ],
   "source": [
    "tom = \"Boy\"\n",
    "bob = \"i am a boy\"\n",
    "print(tom)\n",
    "print(bob)"
   ]
  },
  {
   "cell_type": "code",
   "execution_count": 63,
   "metadata": {
    "tags": []
   },
   "outputs": [
    {
     "name": "stdout",
     "output_type": "stream",
     "text": [
      "문장\n",
      "문장\n",
      "여러줄\n",
      "문장\n",
      "여러줄\n",
      "문장\n"
     ]
    }
   ],
   "source": [
    "a = '문장'\n",
    "b = \"문장\"\n",
    "c = '''여러줄\n",
    "문장'''\n",
    "d = \"\"\"여러줄\n",
    "문장\"\"\"\n",
    "print(a)\n",
    "print(b)\n",
    "print(c)\n",
    "print(d)"
   ]
  },
  {
   "cell_type": "code",
   "execution_count": 58,
   "metadata": {
    "tags": []
   },
   "outputs": [
    {
     "name": "stdout",
     "output_type": "stream",
     "text": [
      "\"영수는 훌륭해\" 선생님이 말씀하셨다\n"
     ]
    }
   ],
   "source": [
    "print('\"영수는 훌륭해\" 선생님이 말씀하셨다')"
   ]
  },
  {
   "cell_type": "code",
   "execution_count": 59,
   "metadata": {
    "tags": []
   },
   "outputs": [
    {
     "name": "stdout",
     "output_type": "stream",
     "text": [
      "He's friend is my brother\n"
     ]
    }
   ],
   "source": [
    "print(\"He's friend is my brother\")"
   ]
  },
  {
   "cell_type": "markdown",
   "metadata": {},
   "source": [
    "## string 형 - 문자열 병합"
   ]
  },
  {
   "cell_type": "code",
   "execution_count": 64,
   "metadata": {
    "tags": []
   },
   "outputs": [
    {
     "name": "stdout",
     "output_type": "stream",
     "text": [
      "문자(열) 문자열(열) 문자(열) 문자(열) \n"
     ]
    }
   ],
   "source": [
    "str0 = \"문자(열) \"+\"문자열(열) \"+\"문자(열) \"+\"문자(열) \"\n",
    "print(str0)"
   ]
  },
  {
   "cell_type": "code",
   "execution_count": 67,
   "metadata": {
    "tags": []
   },
   "outputs": [
    {
     "name": "stdout",
     "output_type": "stream",
     "text": [
      "===============Python Program===============\n",
      "=============== Python Program ===============\n"
     ]
    }
   ],
   "source": [
    "start = '='*15\n",
    "title = 'Python Program'\n",
    "finish = '='*15\n",
    "print(start+title+finish)\n",
    "print(start,title,finish)"
   ]
  },
  {
   "cell_type": "code",
   "execution_count": 68,
   "metadata": {
    "tags": []
   },
   "outputs": [
    {
     "name": "stdout",
     "output_type": "stream",
     "text": [
      "***************Hello, Python***************\n"
     ]
    }
   ],
   "source": [
    "str1 = \"Hello, \"\n",
    "str2 = \"Python\"\n",
    "stars = '***'\n",
    "print(stars*5+str1+str2+stars*5)"
   ]
  },
  {
   "cell_type": "markdown",
   "metadata": {},
   "source": [
    "## len(string) : string의 길이를 출력(가운데 공백 포함)"
   ]
  },
  {
   "cell_type": "code",
   "execution_count": 70,
   "metadata": {
    "tags": []
   },
   "outputs": [
    {
     "name": "stdout",
     "output_type": "stream",
     "text": [
      "Length of Hello Python : 12\n"
     ]
    }
   ],
   "source": [
    "str1 = \"Hello Python\"\n",
    "print(\"Length of\", str1, \":\", len(str1))"
   ]
  },
  {
   "cell_type": "code",
   "execution_count": 74,
   "metadata": {
    "tags": []
   },
   "outputs": [
    {
     "name": "stdout",
     "output_type": "stream",
     "text": [
      "Length of mountain : 8\n",
      "str[ 0 ] = m\n",
      "str[ 1 ] = o\n",
      "str[ 2 ] = u\n",
      "str[ 3 ] = n\n",
      "str[ 4 ] = t\n",
      "str[ 5 ] = a\n",
      "str[ 6 ] = i\n",
      "str[ 7 ] = n\n"
     ]
    }
   ],
   "source": [
    "str1 = 'mountain'\n",
    "print(\"Length of\", str1, \":\", len(str1))\n",
    "for n in range(len(str1)):\n",
    "    print('str1[',n,'] =',str1[n])"
   ]
  },
  {
   "cell_type": "code",
   "execution_count": 75,
   "metadata": {
    "tags": []
   },
   "outputs": [
    {
     "name": "stdout",
     "output_type": "stream",
     "text": [
      "Length of mountain : 8\n",
      "str[ 0 ] = m\n",
      "str[ 1 ] = o\n",
      "str[ 2 ] = u\n",
      "str[ 3 ] = n\n",
      "str[ 4 ] = t\n",
      "str[ 5 ] = a\n",
      "str[ 6 ] = i\n",
      "str[ 7 ] = n\n"
     ]
    }
   ],
   "source": [
    "str2 = 'mountain'\n",
    "print(\"Length of\", str2, \":\", len(str2))\n",
    "count = 0\n",
    "for ch in str2 :\n",
    "    print('str2[',count,'] =',ch)\n",
    "    count+=1"
   ]
  },
  {
   "cell_type": "code",
   "execution_count": 79,
   "metadata": {
    "tags": []
   },
   "outputs": [
    {
     "name": "stdout",
     "output_type": "stream",
     "text": [
      "새로 합성할 단어 : mood\n",
      "mood\n",
      "mood\n"
     ]
    }
   ],
   "source": [
    "tom = 'tom is a good student'\n",
    "print(\"새로 합성할 단어 : mood\")\n",
    "print(tom[2]+tom[10]+tom[11]+tom[12])\n",
    "print(tom[2]+tom[1]+tom[1]+tom[-4])"
   ]
  },
  {
   "cell_type": "code",
   "execution_count": 82,
   "metadata": {},
   "outputs": [
    {
     "ename": "TypeError",
     "evalue": "'str' object does not support item assignment",
     "output_type": "error",
     "traceback": [
      "\u001b[1;31m---------------------------------------------------------------------------\u001b[0m",
      "\u001b[1;31mTypeError\u001b[0m                                 Traceback (most recent call last)",
      "\u001b[1;32m<ipython-input-82-5644c9f77683>\u001b[0m in \u001b[0;36m<module>\u001b[1;34m\u001b[0m\n\u001b[0;32m      1\u001b[0m \u001b[0mgreeting\u001b[0m \u001b[1;33m=\u001b[0m \u001b[1;34m'Hello Python!'\u001b[0m\u001b[1;33m\u001b[0m\u001b[1;33m\u001b[0m\u001b[0m\n\u001b[0;32m      2\u001b[0m \u001b[0meeting\u001b[0m \u001b[1;33m=\u001b[0m \u001b[1;34m'Hello Python!'\u001b[0m\u001b[1;33m\u001b[0m\u001b[1;33m\u001b[0m\u001b[0m\n\u001b[1;32m----> 3\u001b[1;33m \u001b[0mgreeting\u001b[0m\u001b[1;33m[\u001b[0m\u001b[1;36m0\u001b[0m\u001b[1;33m]\u001b[0m \u001b[1;33m=\u001b[0m \u001b[1;34m'j'\u001b[0m \u001b[1;31m# 한글자만 바꾸는것은 불가능하다 오류남\u001b[0m\u001b[1;33m\u001b[0m\u001b[1;33m\u001b[0m\u001b[0m\n\u001b[0m\u001b[0;32m      4\u001b[0m \u001b[0mprint\u001b[0m\u001b[1;33m(\u001b[0m\u001b[0mgreeting\u001b[0m\u001b[1;33m)\u001b[0m\u001b[1;33m\u001b[0m\u001b[1;33m\u001b[0m\u001b[0m\n",
      "\u001b[1;31mTypeError\u001b[0m: 'str' object does not support item assignment"
     ]
    }
   ],
   "source": [
    "greeting = 'Hello Python!'\n",
    "eeting = 'Hello Python!'\n",
    "greeting[0] = 'j'   # 한글자만 바꾸는것은 불가능하다 오류남\n",
    "                    # (변경불가)\n",
    "print(greeting)"
   ]
  },
  {
   "cell_type": "markdown",
   "metadata": {},
   "source": [
    "slice : string의 일부를 취할 수 있음  \n",
    "Hello \"Hello\"\\[1:4\\] => \"ell\""
   ]
  },
  {
   "cell_type": "code",
   "execution_count": 83,
   "metadata": {
    "tags": []
   },
   "outputs": [
    {
     "name": "stdout",
     "output_type": "stream",
     "text": [
      "ell\n"
     ]
    }
   ],
   "source": [
    "print(\"Hello\"[1:4]) "
   ]
  },
  {
   "cell_type": "code",
   "execution_count": 85,
   "metadata": {
    "tags": []
   },
   "outputs": [
    {
     "name": "stdout",
     "output_type": "stream",
     "text": [
      "Length of'Hello' : 5\n",
      "Hello[ 0 ] = H\n",
      "Hello[ 1 ] = e\n",
      "Hello[ 2 ] = l\n",
      "Hello[ 3 ] = l\n",
      "Hello[ 4 ] = o\n"
     ]
    }
   ],
   "source": [
    "str2 = 'Hello'\n",
    "print(\"Length of'\"+str2+\"' :\", len(str2))\n",
    "for n in range(len(str2)):\n",
    "    print(str2+'[',n,'] =',str2[n])"
   ]
  },
  {
   "cell_type": "markdown",
   "metadata": {},
   "source": [
    "\\[:n\\] 처음부터 n-1까지  \n",
    "\\[m:\\] m번째 부터 string의 끝까지  \n",
    "\\[m: 문자열의 길이보다 큰값\\] m번째부터 끝까지"
   ]
  },
  {
   "cell_type": "code",
   "execution_count": 87,
   "metadata": {
    "tags": []
   },
   "outputs": [
    {
     "name": "stdout",
     "output_type": "stream",
     "text": [
      "yellow apple\n"
     ]
    }
   ],
   "source": [
    "string1 = \"red apple\"\n",
    "string2 = \"yellow banana\"\n",
    "print(string2[:6]+string1[3:])"
   ]
  },
  {
   "cell_type": "markdown",
   "metadata": {},
   "source": [
    "## 자료 형 변환"
   ]
  },
  {
   "cell_type": "code",
   "execution_count": 90,
   "metadata": {
    "tags": []
   },
   "outputs": [
    {
     "name": "stdout",
     "output_type": "stream",
     "text": [
      "10 10 20\n"
     ]
    }
   ],
   "source": [
    "# 정수 <-> 실수 변환\n",
    "a = int(10.90)\n",
    "b = int(10.3)\n",
    "print(a, b, a+b)"
   ]
  },
  {
   "cell_type": "code",
   "execution_count": 91,
   "metadata": {
    "tags": []
   },
   "outputs": [
    {
     "name": "stdout",
     "output_type": "stream",
     "text": [
      "10 10.0 20.0\n"
     ]
    }
   ],
   "source": [
    "a = 10\n",
    "b = float(a)\n",
    "print(a, b, a+b)"
   ]
  },
  {
   "cell_type": "code",
   "execution_count": 92,
   "metadata": {
    "tags": []
   },
   "outputs": [
    {
     "name": "stdout",
     "output_type": "stream",
     "text": [
      "3.3333333333333335\n"
     ]
    }
   ],
   "source": [
    "a = 10\n",
    "b = 3\n",
    "print(a/b)"
   ]
  },
  {
   "cell_type": "code",
   "execution_count": 98,
   "metadata": {
    "tags": []
   },
   "outputs": [
    {
     "name": "stdout",
     "output_type": "stream",
     "text": [
      "76.3 76.3\n"
     ]
    }
   ],
   "source": [
    "# 문자형 => 숫자형간의 변환\n",
    "a = '76.3'\n",
    "b = float(a)\n",
    "print(a, b)\n",
    "#print(a+b) #문자+숫자는 자료형이 불일치 오류발생"
   ]
  },
  {
   "cell_type": "code",
   "execution_count": 1,
   "metadata": {
    "tags": []
   },
   "outputs": [
    {
     "name": "stdout",
     "output_type": "stream",
     "text": [
      "76.376.3\n"
     ]
    }
   ],
   "source": [
    "# 숫자형 => 문자형 변환\n",
    "a = b = 76.3\n",
    "a = str(a)\n",
    "b = str(b)\n",
    "print(a+b)"
   ]
  },
  {
   "cell_type": "code",
   "execution_count": 2,
   "metadata": {
    "tags": []
   },
   "outputs": [
    {
     "name": "stdout",
     "output_type": "stream",
     "text": [
      "<class 'int'>\n",
      "<class 'float'>\n",
      "<class 'str'>\n"
     ]
    }
   ],
   "source": [
    "a = int(10.3)\n",
    "b = float(10.3)\n",
    "c = str(10.3)\n",
    "\n",
    "print(type(a))\n",
    "print(type(b))\n",
    "print(type(c))"
   ]
  },
  {
   "cell_type": "markdown",
   "metadata": {},
   "source": [
    "## 문제:\n",
    "## 키를 입력하시오 : 180  \n",
    "## 당신의 키는 180.0cm 입니다.\n",
    "## (180.0과 cm는 붙어있고 , 결과는 소수점 1자리까지 표시한다)"
   ]
  },
  {
   "cell_type": "code",
   "execution_count": 9,
   "metadata": {
    "tags": []
   },
   "outputs": [
    {
     "name": "stdout",
     "output_type": "stream",
     "text": [
      "당신의 키는 444.0cm 입니다.\n",
      "당신의 키는 444.0cm 입니다.\n"
     ]
    }
   ],
   "source": [
    "height = float(input(\"키를 입력하시오 : \"))\n",
    "print(\"당신의 키는 %.1fcm 입니다.\"%(height))\n",
    "print(\"당신의 키는 {0:.1f}cm 입니다.\".format(height))\n"
   ]
  },
  {
   "cell_type": "markdown",
   "metadata": {},
   "source": [
    "## 문제:\n",
    "## 키를 입력하시오 : 180  \n",
    "## 당신의 키는 180.0cm 입니다.\n",
    "## (180과 cm는 붙어있고 , 결과는 소수점아래를 버린다)"
   ]
  },
  {
   "cell_type": "code",
   "execution_count": 29,
   "metadata": {
    "tags": []
   },
   "outputs": [
    {
     "name": "stdout",
     "output_type": "stream",
     "text": [
      "당신의 키는 180cm 입니다.\n",
      "당신의 키는 180cm 입니다.\n"
     ]
    }
   ],
   "source": [
    "height = float(input(\"키를 입력하시오 : \"))\n",
    "print(\"당신의 키는 %dcm 입니다.\"%(height))\n",
    "print(\"당신의 키는 {}cm 입니다.\".format(int(height)))"
   ]
  },
  {
   "cell_type": "code",
   "execution_count": 30,
   "metadata": {
    "tags": []
   },
   "outputs": [
    {
     "name": "stdout",
     "output_type": "stream",
     "text": [
      "1 2 3\n",
      "abc\n"
     ]
    }
   ],
   "source": [
    "print(\"%d %d %d\"%(1,2,3))\n",
    "print(\"{}{}{}\".format(\"a\",\"b\",\"c\"))"
   ]
  },
  {
   "cell_type": "code",
   "execution_count": 53,
   "metadata": {
    "tags": []
   },
   "outputs": [
    {
     "name": "stdout",
     "output_type": "stream",
     "text": [
      "I eat 30 apples\n",
      "I eat 30 apples\n"
     ]
    }
   ],
   "source": [
    "print(\"I eat %d apples\"%(30))\n",
    "print(\"I eat %s apples\"%(30))"
   ]
  },
  {
   "cell_type": "code",
   "execution_count": 32,
   "metadata": {
    "tags": []
   },
   "outputs": [
    {
     "name": "stdout",
     "output_type": "stream",
     "text": [
      "I love meet\n",
      "My thing is 180cm\n",
      "I get A grade\n",
      "14마일 남았어\n",
      "1.234568e+07키로만 더 찌워야지\n",
      "0.005000키로만 더 빼야지\n"
     ]
    }
   ],
   "source": [
    "print(\"I love %s\" %(\"meet\"))\n",
    "print(\"My thing is %dcm\" %(180))\n",
    "print(\"I get %c grade\" %(\"A\"))\n",
    "print(\"%x마일 남았어\" %(20)) # 16진수\n",
    "print(\"%e키로만 더 찌워야지\" %(12345678)) # 지수승으로 표시\n",
    "print(\"%f키로만 더 빼야지\" %(0.005)) # 소수점 표시 (기본6자리)"
   ]
  },
  {
   "cell_type": "code",
   "execution_count": 33,
   "metadata": {
    "tags": []
   },
   "outputs": [
    {
     "name": "stdout",
     "output_type": "stream",
     "text": [
      "제품 : Apple, 개당가격 : 10.000000$.\n"
     ]
    }
   ],
   "source": [
    "print (\"제품 : %s, 개당가격 : %f$.\" %(\"Apple\",10) )"
   ]
  },
  {
   "cell_type": "code",
   "execution_count": 34,
   "metadata": {
    "tags": []
   },
   "outputs": [
    {
     "name": "stdout",
     "output_type": "stream",
     "text": [
      "I'm 20 years old.\n"
     ]
    }
   ],
   "source": [
    "print(\"I'm {0} years old.\".format(20))"
   ]
  },
  {
   "cell_type": "code",
   "execution_count": 35,
   "metadata": {
    "tags": []
   },
   "outputs": [
    {
     "name": "stdout",
     "output_type": "stream",
     "text": [
      "제품 : Apple, 가격: 5.24$.\n"
     ]
    }
   ],
   "source": [
    "print(\"제품 : {0}, 가격: {1:.2f}$.\".format(\"Apple\", 5.243))"
   ]
  },
  {
   "cell_type": "code",
   "execution_count": 36,
   "metadata": {
    "tags": []
   },
   "outputs": [
    {
     "name": "stdout",
     "output_type": "stream",
     "text": [
      "Hello Bob\n"
     ]
    }
   ],
   "source": [
    "test = 'Hello {}'.format('Bob')\n",
    "print(test)"
   ]
  },
  {
   "cell_type": "code",
   "execution_count": 54,
   "metadata": {
    "tags": []
   },
   "outputs": [
    {
     "name": "stdout",
     "output_type": "stream",
     "text": [
      "5.94      \n",
      "     5.943\n",
      "      5.94\n"
     ]
    }
   ],
   "source": [
    "print(\"%-10.2f\"%5.94343) #좌측정렬\n",
    "print(\"%10.3f\"%5.94343)  #우측정렬\n",
    "print(\"%10.2f\"%5.94343)"
   ]
  },
  {
   "cell_type": "code",
   "execution_count": 39,
   "metadata": {
    "tags": []
   },
   "outputs": [
    {
     "name": "stdout",
     "output_type": "stream",
     "text": [
      "Apple     \n",
      "     Apple\n"
     ]
    }
   ],
   "source": [
    "print(\"{0:<10s}\".format(\"Apple\")) #좌측정렬\n",
    "print(\"{0:>10s}\".format(\"Apple\")) #우측정렬"
   ]
  },
  {
   "cell_type": "code",
   "execution_count": 44,
   "metadata": {
    "tags": []
   },
   "outputs": [
    {
     "name": "stdout",
     "output_type": "stream",
     "text": [
      "아메리카노 판매 갯수를 입력하세요 : \n",
      "카페라떼 판매 갯수를 입력하세요 : \n",
      "카푸치노 판매 갯수를 입력하세요 : \n",
      "총 매출은 185000원 입니다.\n"
     ]
    }
   ],
   "source": [
    "cafeaa=2000; cafert=3000; cafepu=3500\n",
    "aa=int(input(print(\"아메리카노 판매 갯수를 입력하세요 : \")))\n",
    "rt=int(input(print(\"카페라떼 판매 갯수를 입력하세요 : \")))\n",
    "pu=int(input(print(\"카푸치노 판매 갯수를 입력하세요 : \")))\n",
    "print(\"총 매출은 {}원 입니다.\".format(cafeaa*aa+cafert*rt+cafepu*pu))"
   ]
  },
  {
   "cell_type": "code",
   "execution_count": 46,
   "metadata": {
    "tags": []
   },
   "outputs": [
    {
     "name": "stdout",
     "output_type": "stream",
     "text": [
      "화씨 온도를 입력하세요 : \n",
      "섭씨 온도는 : 37.77777777777778\n"
     ]
    }
   ],
   "source": [
    "F=int(input(print(\"화씨 온도를 입력하세요 : \")))\n",
    "C=(F-32)*(5/9)\n",
    "print(\"섭씨 온도는 : {}\".format(C))"
   ]
  },
  {
   "cell_type": "code",
   "execution_count": 51,
   "metadata": {
    "tags": []
   },
   "outputs": [
    {
     "name": "stdout",
     "output_type": "stream",
     "text": [
      "투입한돈 : \n",
      "물건 값 : \n",
      "거스름 돈 : 2400\n",
      "500원 동전의 개수 : 4\n",
      "100원 동전의 개수 : 4\n"
     ]
    }
   ],
   "source": [
    "money=int(input(print(\"투입한돈 : \")))\n",
    "price=int(input(print(\"물건 값 : \")))\n",
    "re = money - price\n",
    "print(\"거스름 돈 : {}\".format(re))\n",
    "re2=(re%500)/100\n",
    "re=re//500\n",
    "print(\"500원 동전의 개수 : {}\".format(re))\n",
    "print(\"100원 동전의 개수 : {}\".format(round(re2)))"
   ]
  },
  {
   "cell_type": "code",
   "execution_count": null,
   "metadata": {},
   "outputs": [],
   "source": []
  }
 ],
 "metadata": {
  "kernelspec": {
   "display_name": "Python 3",
   "language": "python",
   "name": "python3"
  },
  "language_info": {
   "codemirror_mode": {
    "name": "ipython",
    "version": 3
   },
   "file_extension": ".py",
   "mimetype": "text/x-python",
   "name": "python",
   "nbconvert_exporter": "python",
   "pygments_lexer": "ipython3",
   "version": "3.8.3"
  }
 },
 "nbformat": 4,
 "nbformat_minor": 2
}
