{
 "cells": [
  {
   "cell_type": "code",
   "execution_count": 22,
   "metadata": {},
   "outputs": [
    {
     "name": "stdout",
     "output_type": "stream",
     "text": [
      "동전 던지기 게임 시작 !!\n",
      "뒷면\n",
      "게임종료\n"
     ]
    }
   ],
   "source": [
    "import random\n",
    "coin = random.randrange(2)\n",
    "print(\"동전 던지기 게임 시작 !!\")\n",
    "if coin == 0 :\n",
    "    print(\"뒷면\")\n",
    "else :\n",
    "    print(\"앞면\")\n",
    "print(\"게임종료\")"
   ]
  },
  {
   "cell_type": "code",
   "execution_count": 42,
   "metadata": {},
   "outputs": [
    {
     "name": "stdout",
     "output_type": "stream",
     "text": [
      "3\n",
      "8\n",
      "4\n",
      "4\n",
      "2\n",
      "7\n",
      "6\n",
      "4\n",
      "4\n",
      "5\n"
     ]
    }
   ],
   "source": [
    "import random\n",
    "for i in range(10) :\n",
    "    print(random.randint(0,10)) # 0~10 사이의 값"
   ]
  },
  {
   "cell_type": "code",
   "execution_count": 53,
   "metadata": {},
   "outputs": [
    {
     "name": "stdout",
     "output_type": "stream",
     "text": [
      "3\n",
      "저녁\n"
     ]
    }
   ],
   "source": [
    "import random\n",
    "choice = random.choice([1,2,3])\n",
    "print(choice)\n",
    "choice = random.choice([\"오전\",\"오후\",\"저녁\"])\n",
    "print(choice)"
   ]
  },
  {
   "cell_type": "code",
   "execution_count": 61,
   "metadata": {},
   "outputs": [
    {
     "name": "stdout",
     "output_type": "stream",
     "text": [
      "어디를 수비하시겠어요? (왼쪽, 중앙, 오른쪽)\n",
      "None중앙\n",
      "중앙 : 중앙\n",
      "수비에 성공하였습니다.\n"
     ]
    }
   ],
   "source": [
    "import random\n",
    "\n",
    "Kick = random.choice([\"왼쪽\",\"중앙\",\"오른쪽\"])\n",
    "Subi = input(print(\"어디를 수비하시겠어요? (왼쪽, 중앙, 오른쪽)\"))\n",
    "print(\"{} : {}\".format(Kick,Subi))\n",
    "if Kick == Subi :\n",
    "    print(\"수비에 성공하였습니다.\")\n",
    "else :\n",
    "\n",
    "    print(\"패널티 킥이 성공하였습니다.\")"
   ]
  },
  {
   "cell_type": "code",
   "execution_count": 66,
   "metadata": {},
   "outputs": [
    {
     "name": "stdout",
     "output_type": "stream",
     "text": [
      "a==8 and b==4  False\n"
     ]
    }
   ],
   "source": [
    "a=8\n",
    "b=5\n",
    "result = (a==8 and b==4)\n",
    "print(\"a==8 and b==4\",result)"
   ]
  },
  {
   "cell_type": "code",
   "execution_count": 68,
   "metadata": {},
   "outputs": [
    {
     "name": "stdout",
     "output_type": "stream",
     "text": [
      "a>7 or b>7 True\n"
     ]
    }
   ],
   "source": [
    "a=8\n",
    "b=5\n",
    "result = (a>7 or b>7)\n",
    "print(\"a>7 or b>7\",result)"
   ]
  },
  {
   "cell_type": "markdown",
   "metadata": {},
   "source": [
    "나이를 입력받아, 다음의 분류에 따라 출력 내용을 다르게 한다.  \n",
    "(if- elif - else 문을 사용하여 프로그램을 작성하여 보자)  \n",
    "- 나이 10살 미만인 경우 : kid\n",
    "- 나이 10살 이상 20살 미만인 경우 : student\n",
    "- 나이 20이상인 경우 : adult"
   ]
  },
  {
   "cell_type": "code",
   "execution_count": 17,
   "metadata": {
    "tags": []
   },
   "outputs": [
    {
     "name": "stdout",
     "output_type": "stream",
     "text": [
      "당신은 adult 입니다.\n"
     ]
    }
   ],
   "source": [
    "age = int(input(\"나이를 입력해주세요 : \"))\n",
    "if age < 10 :\n",
    "    print(\"당신은 kid 입니다.\")\n",
    "elif age < 20 :\n",
    "    print(\"당신은 student 입니다.\")\n",
    "else :\n",
    "     print(\"당신은 adult 입니다.\")"
   ]
  },
  {
   "cell_type": "markdown",
   "metadata": {},
   "source": [
    "## range()\n",
    "## range(start=0, stop, step=1)\n",
    "start= 시작값 stop= 끝값 step=증가크기"
   ]
  },
  {
   "cell_type": "code",
   "execution_count": 1,
   "metadata": {
    "tags": []
   },
   "outputs": [
    {
     "name": "stdout",
     "output_type": "stream",
     "text": [
      "0 1 2 3 4"
     ]
    }
   ],
   "source": [
    "for i in range(5) : # range (끝숫자)\n",
    "    print (i,end = \" \") # end => 줄바꿈 대신 \" \" 넣겠다"
   ]
  },
  {
   "cell_type": "code",
   "execution_count": 2,
   "metadata": {
    "tags": []
   },
   "outputs": [
    {
     "name": "stdout",
     "output_type": "stream",
     "text": [
      "1 2 3 4"
     ]
    }
   ],
   "source": [
    "for i in range(1, 5) : # range (시작숫자,끝숫자)\n",
    "    print (i,end = \" \")"
   ]
  },
  {
   "cell_type": "code",
   "execution_count": 3,
   "metadata": {
    "tags": []
   },
   "outputs": [
    {
     "name": "stdout",
     "output_type": "stream",
     "text": [
      "1 3 5 7 9"
     ]
    }
   ],
   "source": [
    "for i in range(1, 10, 2) : # range (시작숫자,끝숫자,뛰어세기)\n",
    "    print (i,end = \" \")"
   ]
  },
  {
   "cell_type": "code",
   "execution_count": 4,
   "metadata": {
    "tags": []
   },
   "outputs": [
    {
     "name": "stdout",
     "output_type": "stream",
     "text": [
      "273\n",
      "32\n",
      "103\n",
      "57\n",
      "52\n"
     ]
    }
   ],
   "source": [
    "array = [273, 32, 103, 57, 52]\n",
    "for element in array :\n",
    "    print(element)"
   ]
  },
  {
   "cell_type": "code",
   "execution_count": 5,
   "metadata": {
    "tags": []
   },
   "outputs": [
    {
     "name": "stdout",
     "output_type": "stream",
     "text": [
      "0번째 반복 : 273\n",
      "1번째 반복 : 32\n",
      "2번째 반복 : 103\n",
      "3번째 반복 : 57\n",
      "4번째 반복 : 52\n"
     ]
    }
   ],
   "source": [
    "array = [273, 32, 103, 57, 52]\n",
    "for i in range(len(array)) :\n",
    "    print(str(i)+\"번째 반복 : \"+str(array[i]))"
   ]
  },
  {
   "cell_type": "code",
   "execution_count": 9,
   "metadata": {
    "tags": []
   },
   "outputs": [
    {
     "name": "stdout",
     "output_type": "stream",
     "text": [
      "0번째 반복 : 273 0번째 반복 : 273\n",
      "1번째 반복 :  32 1번째 반복 :  32\n",
      "2번째 반복 : 103 2번째 반복 : 103\n",
      "3번째 반복 :  57 3번째 반복 :  57\n",
      "4번째 반복 :  52 4번째 반복 :  52\n"
     ]
    }
   ],
   "source": [
    "array = [273, 32, 103, 57, 52]\n",
    "for i in range(len(array)) :\n",
    "    print(\"{}번째 반복 : {:3d}\".format(i,array[i]),end = ' ')\n",
    "    print(\"%d번째 반복 : %3d\"%(i,array[i]))"
   ]
  },
  {
   "cell_type": "code",
   "execution_count": 11,
   "metadata": {
    "tags": []
   },
   "outputs": [
    {
     "name": "stdout",
     "output_type": "stream",
     "text": [
      "9 8 7 6 5 4 3 2 1 0"
     ]
    }
   ],
   "source": [
    "for i in reversed(range(10)) :\n",
    "    print(i,end = ' ') "
   ]
  },
  {
   "cell_type": "markdown",
   "metadata": {},
   "source": [
    "# break"
   ]
  },
  {
   "cell_type": "code",
   "execution_count": 13,
   "metadata": {
    "tags": []
   },
   "outputs": [
    {
     "name": "stdout",
     "output_type": "stream",
     "text": [
      "0 1 2 3 4 \n",
      "End of Program\n"
     ]
    }
   ],
   "source": [
    "for i in range(10):\n",
    "    if i == 5 :\n",
    "        break\n",
    "    print(i, end = \" \")\n",
    "print()\n",
    "print(\"End of Program\")"
   ]
  },
  {
   "cell_type": "code",
   "execution_count": 38,
   "metadata": {
    "tags": []
   },
   "outputs": [
    {
     "name": "stdout",
     "output_type": "stream",
     "text": [
      "apple string\n",
      "5 int\n",
      "banana string\n",
      "grape string\n",
      "3 int\n",
      "8 int\n",
      "6 int\n",
      "melon string\n"
     ]
    }
   ],
   "source": [
    "mixlist = ['apple', 5, 'banana', 'grape', 3, 8, 6, 'melon']\n",
    "for i in range(len(mixlist)) :\n",
    "    if type(mixlist[i])==str :\n",
    "        print(\"{} string\".format(mixlist[i]))\n",
    "    elif type(mixlist[i])==int :\n",
    "        print(\"{} int\".format(mixlist[i]))\n",
    "    else :\n",
    "        print(\"{} bool\".format(mixlist[i]))"
   ]
  },
  {
   "cell_type": "markdown",
   "metadata": {},
   "source": [
    "# 함수"
   ]
  },
  {
   "cell_type": "markdown",
   "metadata": {},
   "source": [
    "def 함수이름(매개변수 #1 ...) :  \n",
    "    수행문 1  \n",
    "    수행문 2  \n",
    "    return <반환값>\n"
   ]
  },
  {
   "cell_type": "code",
   "execution_count": 40,
   "metadata": {
    "tags": []
   },
   "outputs": [
    {
     "name": "stdout",
     "output_type": "stream",
     "text": [
      "사각형의 넓이 : 200\n"
     ]
    }
   ],
   "source": [
    "def calculate_rectangle_area(width, height) :\n",
    "    return width*height\n",
    "\n",
    "rectangle_x = 10\n",
    "rectangle_y = 20\n",
    "\n",
    "area =  calculate_rectangle_area(rectangle_x,rectangle_y)\n",
    "print(\"사각형의 넓이 :\",area)"
   ]
  },
  {
   "cell_type": "code",
   "execution_count": 44,
   "metadata": {
    "tags": []
   },
   "outputs": [
    {
     "name": "stdout",
     "output_type": "stream",
     "text": [
      "Hello Python. My name is Gildong\n"
     ]
    }
   ],
   "source": [
    "def print_something (my_name, your_name) :\n",
    "    print(\"Hello {0}. My name is {1}\".format(your_name,my_name))\n",
    "\n",
    "print_something(\"Gildong\",\"Python\")"
   ]
  },
  {
   "cell_type": "code",
   "execution_count": 47,
   "metadata": {
    "tags": []
   },
   "outputs": [
    {
     "name": "stdout",
     "output_type": "stream",
     "text": [
      "Hello Java. My name is Gildong\n",
      "Hello Python. My name is Gildong\n",
      "Hello Python. My name is Hong\n"
     ]
    }
   ],
   "source": [
    "def print_something_2 (my_name, your_name = \"Python\") :\n",
    "    print(\"Hello {0}. My name is {1}\".format(your_name,my_name))\n",
    "\n",
    "print_something_2(\"Gildong\",\"Java\")\n",
    "print_something_2(my_name=\"Gildong\")\n",
    "print_something_2(\"Hong\")"
   ]
  },
  {
   "cell_type": "code",
   "execution_count": 1,
   "metadata": {
    "tags": []
   },
   "outputs": [
    {
     "name": "stdout",
     "output_type": "stream",
     "text": [
      "28\n"
     ]
    }
   ],
   "source": [
    "# 매개변수 개수가 2개 이상이면 정상 동작\n",
    "def asterisk_test(a,b, *args) :\n",
    "    return a+b+sum(args)\n",
    "\n",
    "sum_array = asterisk_test(1,2,3,4,5,6,7)\n",
    "print(sum_array)"
   ]
  },
  {
   "cell_type": "code",
   "execution_count": 3,
   "metadata": {
    "tags": []
   },
   "outputs": [
    {
     "name": "stdout",
     "output_type": "stream",
     "text": [
      "3\n"
     ]
    }
   ],
   "source": [
    "# 매개변수 개수가 2개 이상이면 정상 동작\n",
    "def asterisk_test(a,b, *args) :\n",
    "    return a+b+sum(args)\n",
    "\n",
    "sum_array = asterisk_test(1,2)\n",
    "print(sum_array)"
   ]
  },
  {
   "cell_type": "code",
   "execution_count": 4,
   "metadata": {
    "tags": []
   },
   "outputs": [
    {
     "name": "stdout",
     "output_type": "stream",
     "text": [
      "6\n"
     ]
    }
   ],
   "source": [
    "# 매개변수 개수가 2개 이상이면 정상 동작\n",
    "def asterisk_test(a,b, *args) :\n",
    "    return a+b+sum(args)\n",
    "\n",
    "sum_array = asterisk_test(1,2,3)\n",
    "print(sum_array)"
   ]
  },
  {
   "cell_type": "code",
   "execution_count": 5,
   "metadata": {
    "tags": []
   },
   "outputs": [
    {
     "name": "stdout",
     "output_type": "stream",
     "text": [
      "True\n",
      "True\n"
     ]
    }
   ],
   "source": [
    "a=1 # is 는 주소값을 비교하는거지만 Python은 정수값 -5~256까지 특정 메모리주소에 저장됨\n",
    "b=1\n",
    "print(a is b)\n",
    "print(a==b)"
   ]
  },
  {
   "cell_type": "code",
   "execution_count": 6,
   "metadata": {
    "tags": []
   },
   "outputs": [
    {
     "name": "stdout",
     "output_type": "stream",
     "text": [
      "False\n",
      "True\n"
     ]
    }
   ],
   "source": [
    "a=300\n",
    "b=300\n",
    "print(a is b)\n",
    "print(a==b)"
   ]
  },
  {
   "cell_type": "code",
   "execution_count": 8,
   "metadata": {
    "tags": []
   },
   "outputs": [
    {
     "name": "stdout",
     "output_type": "stream",
     "text": [
      "True\n",
      "True\n"
     ]
    }
   ],
   "source": [
    "a=-5\n",
    "b=-5\n",
    "print(a is b)\n",
    "print(a==b)"
   ]
  }
 ],
 "metadata": {
  "kernelspec": {
   "display_name": "Python 3",
   "language": "python",
   "name": "python3"
  },
  "language_info": {
   "codemirror_mode": {
    "name": "ipython",
    "version": 3
   },
   "file_extension": ".py",
   "mimetype": "text/x-python",
   "name": "python",
   "nbconvert_exporter": "python",
   "pygments_lexer": "ipython3",
   "version": "3.8.3"
  }
 },
 "nbformat": 4,
 "nbformat_minor": 4
}
